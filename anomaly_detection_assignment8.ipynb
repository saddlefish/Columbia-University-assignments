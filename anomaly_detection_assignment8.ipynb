{
 "cells": [
  {
   "cell_type": "markdown",
   "metadata": {},
   "source": [
    "# Model 8 Unsupervised Learning"
   ]
  },
  {
   "cell_type": "markdown",
   "metadata": {},
   "source": [
    "For this week's assignment I continued with the impatient charges dataset that I used in the previous weeks. For this assignment I applied unsupervised learning techniques to identify outliers in the healthcare dataset. \n",
    "Report outline:\n",
    " - Upload of dataset and quickview of it to ensure everything is okay\n",
    " - Splitting into train/test samples \n",
    " - Application of unsupervised learning algorithms:\n",
    "     - KNN \n",
    "     - Model Stablization for KNN with (1) average, (2) maximum of maximum, (3) average of maximum, (4) maximum of average\n",
    "     - IForest: with sample values of 100/80/60  \n",
    "     - Model Stablization for KNN with (1) average, (2) maximum of maximum, (3) average of maximum, (4) maximum of average\n",
    "     - AutoEncoder"
   ]
  },
  {
   "cell_type": "code",
   "execution_count": 2,
   "metadata": {},
   "outputs": [
    {
     "name": "stdout",
     "output_type": "stream",
     "text": [
      "Collecting autoencoder\n",
      "  Downloading https://files.pythonhosted.org/packages/3b/c3/46a8cc46d3dbc20bb017b72138fe9bd3f211cfc20f06fdbca8a6bfea4335/autoencoder-0.0.7-py3-none-any.whl\n",
      "Installing collected packages: autoencoder\n",
      "Successfully installed autoencoder-0.0.7\n",
      "Note: you may need to restart the kernel to use updated packages.\n"
     ]
    }
   ],
   "source": [
    "pip install autoencoder"
   ]
  },
  {
   "cell_type": "code",
   "execution_count": 3,
   "metadata": {},
   "outputs": [
    {
     "name": "stderr",
     "output_type": "stream",
     "text": [
      "Using TensorFlow backend.\n"
     ]
    }
   ],
   "source": [
    "import numpy as np\n",
    "import pandas as pd\n",
    "from pyod.models.knn import KNN\n",
    "from pyod.utils.data import generate_data\n",
    "from pyod.utils.data import evaluate_print\n",
    "from pyod.utils.example import visualize\n",
    "import matplotlib.pyplot as plt\n",
    "from pyod.models.combination import aom, moa, average, maximization\n",
    "from pyod.utils.utility import standardizer\n",
    "from pyod.utils.data import generate_data\n",
    "from pyod.utils.data import evaluate_print\n",
    "from sklearn.model_selection import train_test_split\n",
    "from sklearn.preprocessing import StandardScaler\n",
    "from sklearn.decomposition import PCA\n",
    "from pyod.models.auto_encoder import AutoEncoder\n",
    "import os"
   ]
  },
  {
   "cell_type": "code",
   "execution_count": 4,
   "metadata": {},
   "outputs": [],
   "source": [
    "os.chdir('C:/Users/rdiml/Documents/')"
   ]
  },
  {
   "cell_type": "code",
   "execution_count": 5,
   "metadata": {},
   "outputs": [
    {
     "data": {
      "text/html": [
       "<div>\n",
       "<style scoped>\n",
       "    .dataframe tbody tr th:only-of-type {\n",
       "        vertical-align: middle;\n",
       "    }\n",
       "\n",
       "    .dataframe tbody tr th {\n",
       "        vertical-align: top;\n",
       "    }\n",
       "\n",
       "    .dataframe thead th {\n",
       "        text-align: right;\n",
       "    }\n",
       "</style>\n",
       "<table border=\"1\" class=\"dataframe\">\n",
       "  <thead>\n",
       "    <tr style=\"text-align: right;\">\n",
       "      <th></th>\n",
       "      <th>Unnamed: 0</th>\n",
       "      <th>ratio.total.discharges</th>\n",
       "      <th>ratio.avg.covered.charges</th>\n",
       "      <th>ratio.avg.total.payments</th>\n",
       "      <th>ratio.avg.medicare.payments</th>\n",
       "      <th>Total.Discharges</th>\n",
       "      <th>Average.Covered.Charges</th>\n",
       "      <th>Average.Medicare.Payments</th>\n",
       "      <th>Average.Total.Payments</th>\n",
       "      <th>mean.total.discharges</th>\n",
       "      <th>mean.avg.covered.charges</th>\n",
       "      <th>mean.avg.total.payments</th>\n",
       "      <th>mean.avg.medicare.payments</th>\n",
       "      <th>mean.count.trans</th>\n",
       "      <th>diff.to.mean</th>\n",
       "      <th>Provider.Zip.Code</th>\n",
       "      <th>Provider.Id</th>\n",
       "    </tr>\n",
       "  </thead>\n",
       "  <tbody>\n",
       "    <tr>\n",
       "      <th>0</th>\n",
       "      <td>1</td>\n",
       "      <td>1.000000</td>\n",
       "      <td>1.000000</td>\n",
       "      <td>1.000000</td>\n",
       "      <td>1.000000</td>\n",
       "      <td>23</td>\n",
       "      <td>101884.0</td>\n",
       "      <td>115827.0</td>\n",
       "      <td>133707.0</td>\n",
       "      <td>23.000000</td>\n",
       "      <td>101884.000000</td>\n",
       "      <td>133707.000000</td>\n",
       "      <td>115827.000000</td>\n",
       "      <td>1</td>\n",
       "      <td>1.000000</td>\n",
       "      <td>99508</td>\n",
       "      <td>20017</td>\n",
       "    </tr>\n",
       "    <tr>\n",
       "      <th>1</th>\n",
       "      <td>2</td>\n",
       "      <td>2.381115</td>\n",
       "      <td>1.177820</td>\n",
       "      <td>1.011322</td>\n",
       "      <td>1.041118</td>\n",
       "      <td>91</td>\n",
       "      <td>97796.0</td>\n",
       "      <td>86548.0</td>\n",
       "      <td>93930.0</td>\n",
       "      <td>38.217391</td>\n",
       "      <td>83031.391304</td>\n",
       "      <td>92878.434783</td>\n",
       "      <td>83129.869565</td>\n",
       "      <td>23</td>\n",
       "      <td>1.011322</td>\n",
       "      <td>36301</td>\n",
       "      <td>10001</td>\n",
       "    </tr>\n",
       "    <tr>\n",
       "      <th>2</th>\n",
       "      <td>3</td>\n",
       "      <td>0.366325</td>\n",
       "      <td>0.361237</td>\n",
       "      <td>1.013594</td>\n",
       "      <td>1.092736</td>\n",
       "      <td>14</td>\n",
       "      <td>29994.0</td>\n",
       "      <td>90839.0</td>\n",
       "      <td>94141.0</td>\n",
       "      <td>38.217391</td>\n",
       "      <td>83031.391304</td>\n",
       "      <td>92878.434783</td>\n",
       "      <td>83129.869565</td>\n",
       "      <td>23</td>\n",
       "      <td>1.013594</td>\n",
       "      <td>35957</td>\n",
       "      <td>10005</td>\n",
       "    </tr>\n",
       "    <tr>\n",
       "      <th>3</th>\n",
       "      <td>4</td>\n",
       "      <td>0.627986</td>\n",
       "      <td>1.293451</td>\n",
       "      <td>0.939766</td>\n",
       "      <td>0.965646</td>\n",
       "      <td>24</td>\n",
       "      <td>107397.0</td>\n",
       "      <td>80274.0</td>\n",
       "      <td>87284.0</td>\n",
       "      <td>38.217391</td>\n",
       "      <td>83031.391304</td>\n",
       "      <td>92878.434783</td>\n",
       "      <td>83129.869565</td>\n",
       "      <td>23</td>\n",
       "      <td>0.939766</td>\n",
       "      <td>35631</td>\n",
       "      <td>10006</td>\n",
       "    </tr>\n",
       "    <tr>\n",
       "      <th>4</th>\n",
       "      <td>5</td>\n",
       "      <td>0.654152</td>\n",
       "      <td>0.282544</td>\n",
       "      <td>0.936148</td>\n",
       "      <td>0.887214</td>\n",
       "      <td>25</td>\n",
       "      <td>23460.0</td>\n",
       "      <td>73754.0</td>\n",
       "      <td>86948.0</td>\n",
       "      <td>38.217391</td>\n",
       "      <td>83031.391304</td>\n",
       "      <td>92878.434783</td>\n",
       "      <td>83129.869565</td>\n",
       "      <td>23</td>\n",
       "      <td>0.936148</td>\n",
       "      <td>35235</td>\n",
       "      <td>10011</td>\n",
       "    </tr>\n",
       "  </tbody>\n",
       "</table>\n",
       "</div>"
      ],
      "text/plain": [
       "   Unnamed: 0  ratio.total.discharges  ratio.avg.covered.charges  \\\n",
       "0           1                1.000000                   1.000000   \n",
       "1           2                2.381115                   1.177820   \n",
       "2           3                0.366325                   0.361237   \n",
       "3           4                0.627986                   1.293451   \n",
       "4           5                0.654152                   0.282544   \n",
       "\n",
       "   ratio.avg.total.payments  ratio.avg.medicare.payments  Total.Discharges  \\\n",
       "0                  1.000000                     1.000000                23   \n",
       "1                  1.011322                     1.041118                91   \n",
       "2                  1.013594                     1.092736                14   \n",
       "3                  0.939766                     0.965646                24   \n",
       "4                  0.936148                     0.887214                25   \n",
       "\n",
       "   Average.Covered.Charges  Average.Medicare.Payments  Average.Total.Payments  \\\n",
       "0                 101884.0                   115827.0                133707.0   \n",
       "1                  97796.0                    86548.0                 93930.0   \n",
       "2                  29994.0                    90839.0                 94141.0   \n",
       "3                 107397.0                    80274.0                 87284.0   \n",
       "4                  23460.0                    73754.0                 86948.0   \n",
       "\n",
       "   mean.total.discharges  mean.avg.covered.charges  mean.avg.total.payments  \\\n",
       "0              23.000000             101884.000000            133707.000000   \n",
       "1              38.217391              83031.391304             92878.434783   \n",
       "2              38.217391              83031.391304             92878.434783   \n",
       "3              38.217391              83031.391304             92878.434783   \n",
       "4              38.217391              83031.391304             92878.434783   \n",
       "\n",
       "   mean.avg.medicare.payments  mean.count.trans  diff.to.mean  \\\n",
       "0               115827.000000                 1      1.000000   \n",
       "1                83129.869565                23      1.011322   \n",
       "2                83129.869565                23      1.013594   \n",
       "3                83129.869565                23      0.939766   \n",
       "4                83129.869565                23      0.936148   \n",
       "\n",
       "   Provider.Zip.Code  Provider.Id  \n",
       "0              99508        20017  \n",
       "1              36301        10001  \n",
       "2              35957        10005  \n",
       "3              35631        10006  \n",
       "4              35235        10011  "
      ]
     },
     "execution_count": 5,
     "metadata": {},
     "output_type": "execute_result"
    }
   ],
   "source": [
    "df = pd.read_csv('impatientfeatures.csv')\n",
    "df.head()"
   ]
  },
  {
   "cell_type": "code",
   "execution_count": 10,
   "metadata": {},
   "outputs": [
    {
     "name": "stdout",
     "output_type": "stream",
     "text": [
      "<class 'pandas.core.frame.DataFrame'>\n",
      "RangeIndex: 163065 entries, 0 to 163064\n",
      "Data columns (total 17 columns):\n",
      "Unnamed: 0                     163065 non-null int64\n",
      "ratio.total.discharges         163065 non-null float64\n",
      "ratio.avg.covered.charges      163065 non-null float64\n",
      "ratio.avg.total.payments       163065 non-null float64\n",
      "ratio.avg.medicare.payments    163065 non-null float64\n",
      "Total.Discharges               163065 non-null int64\n",
      "Average.Covered.Charges        163065 non-null float64\n",
      "Average.Medicare.Payments      163065 non-null float64\n",
      "Average.Total.Payments         163065 non-null float64\n",
      "mean.total.discharges          163065 non-null float64\n",
      "mean.avg.covered.charges       163065 non-null float64\n",
      "mean.avg.total.payments        163065 non-null float64\n",
      "mean.avg.medicare.payments     163065 non-null float64\n",
      "mean.count.trans               163065 non-null int64\n",
      "diff.to.mean                   163065 non-null float64\n",
      "Provider.Zip.Code              163065 non-null int64\n",
      "Provider.Id                    163065 non-null int64\n",
      "dtypes: float64(12), int64(5)\n",
      "memory usage: 21.1 MB\n"
     ]
    }
   ],
   "source": [
    "df.info()"
   ]
  },
  {
   "cell_type": "markdown",
   "metadata": {},
   "source": [
    "Since we are still using the dataset that we have been using for the previous assignments I exported the dataset I created for those assignments, wrote it to another file and used this data as the input above. This data has also been normalized so I do not need to worry about this step here either"
   ]
  },
  {
   "cell_type": "code",
   "execution_count": 6,
   "metadata": {},
   "outputs": [],
   "source": [
    "x = df.iloc[:, [1,2,3,4,6,7,8,9,10,11,12]]\n",
    "y = df.iloc[:,16]"
   ]
  },
  {
   "cell_type": "code",
   "execution_count": 7,
   "metadata": {},
   "outputs": [],
   "source": [
    "X_train, X_test, y_train, y_test = train_test_split( x, y, test_size=0.30, random_state=42)"
   ]
  },
  {
   "cell_type": "code",
   "execution_count": 8,
   "metadata": {},
   "outputs": [
    {
     "data": {
      "text/html": [
       "<div>\n",
       "<style scoped>\n",
       "    .dataframe tbody tr th:only-of-type {\n",
       "        vertical-align: middle;\n",
       "    }\n",
       "\n",
       "    .dataframe tbody tr th {\n",
       "        vertical-align: top;\n",
       "    }\n",
       "\n",
       "    .dataframe thead th {\n",
       "        text-align: right;\n",
       "    }\n",
       "</style>\n",
       "<table border=\"1\" class=\"dataframe\">\n",
       "  <thead>\n",
       "    <tr style=\"text-align: right;\">\n",
       "      <th></th>\n",
       "      <th>ratio.total.discharges</th>\n",
       "      <th>ratio.avg.covered.charges</th>\n",
       "      <th>ratio.avg.total.payments</th>\n",
       "      <th>ratio.avg.medicare.payments</th>\n",
       "      <th>Average.Covered.Charges</th>\n",
       "      <th>Average.Medicare.Payments</th>\n",
       "      <th>Average.Total.Payments</th>\n",
       "      <th>mean.total.discharges</th>\n",
       "      <th>mean.avg.covered.charges</th>\n",
       "      <th>mean.avg.total.payments</th>\n",
       "      <th>mean.avg.medicare.payments</th>\n",
       "    </tr>\n",
       "  </thead>\n",
       "  <tbody>\n",
       "    <tr>\n",
       "      <th>26935</th>\n",
       "      <td>0.644672</td>\n",
       "      <td>3.631942</td>\n",
       "      <td>0.809682</td>\n",
       "      <td>0.707036</td>\n",
       "      <td>151626.0</td>\n",
       "      <td>41329.0</td>\n",
       "      <td>56401.0</td>\n",
       "      <td>37.228261</td>\n",
       "      <td>41747.913043</td>\n",
       "      <td>69658.184783</td>\n",
       "      <td>58453.891304</td>\n",
       "    </tr>\n",
       "    <tr>\n",
       "      <th>3332</th>\n",
       "      <td>1.833333</td>\n",
       "      <td>0.997758</td>\n",
       "      <td>1.861426</td>\n",
       "      <td>2.147360</td>\n",
       "      <td>114188.0</td>\n",
       "      <td>30329.0</td>\n",
       "      <td>38239.0</td>\n",
       "      <td>30.000000</td>\n",
       "      <td>114444.571429</td>\n",
       "      <td>20542.857143</td>\n",
       "      <td>14123.857143</td>\n",
       "    </tr>\n",
       "    <tr>\n",
       "      <th>44167</th>\n",
       "      <td>0.882998</td>\n",
       "      <td>1.214281</td>\n",
       "      <td>1.066605</td>\n",
       "      <td>1.187675</td>\n",
       "      <td>95785.0</td>\n",
       "      <td>44746.0</td>\n",
       "      <td>44620.0</td>\n",
       "      <td>23.782609</td>\n",
       "      <td>78882.043478</td>\n",
       "      <td>41833.652174</td>\n",
       "      <td>37675.304348</td>\n",
       "    </tr>\n",
       "    <tr>\n",
       "      <th>45554</th>\n",
       "      <td>0.773109</td>\n",
       "      <td>1.020478</td>\n",
       "      <td>1.127861</td>\n",
       "      <td>0.274411</td>\n",
       "      <td>116562.0</td>\n",
       "      <td>6648.0</td>\n",
       "      <td>18861.0</td>\n",
       "      <td>23.282609</td>\n",
       "      <td>114222.978261</td>\n",
       "      <td>16722.804348</td>\n",
       "      <td>24226.434783</td>\n",
       "    </tr>\n",
       "    <tr>\n",
       "      <th>70056</th>\n",
       "      <td>0.696203</td>\n",
       "      <td>0.705820</td>\n",
       "      <td>1.009352</td>\n",
       "      <td>1.102307</td>\n",
       "      <td>33291.0</td>\n",
       "      <td>64339.0</td>\n",
       "      <td>71120.0</td>\n",
       "      <td>15.800000</td>\n",
       "      <td>47166.400000</td>\n",
       "      <td>70461.066667</td>\n",
       "      <td>58367.600000</td>\n",
       "    </tr>\n",
       "  </tbody>\n",
       "</table>\n",
       "</div>"
      ],
      "text/plain": [
       "       ratio.total.discharges  ratio.avg.covered.charges  \\\n",
       "26935                0.644672                   3.631942   \n",
       "3332                 1.833333                   0.997758   \n",
       "44167                0.882998                   1.214281   \n",
       "45554                0.773109                   1.020478   \n",
       "70056                0.696203                   0.705820   \n",
       "\n",
       "       ratio.avg.total.payments  ratio.avg.medicare.payments  \\\n",
       "26935                  0.809682                     0.707036   \n",
       "3332                   1.861426                     2.147360   \n",
       "44167                  1.066605                     1.187675   \n",
       "45554                  1.127861                     0.274411   \n",
       "70056                  1.009352                     1.102307   \n",
       "\n",
       "       Average.Covered.Charges  Average.Medicare.Payments  \\\n",
       "26935                 151626.0                    41329.0   \n",
       "3332                  114188.0                    30329.0   \n",
       "44167                  95785.0                    44746.0   \n",
       "45554                 116562.0                     6648.0   \n",
       "70056                  33291.0                    64339.0   \n",
       "\n",
       "       Average.Total.Payments  mean.total.discharges  \\\n",
       "26935                 56401.0              37.228261   \n",
       "3332                  38239.0              30.000000   \n",
       "44167                 44620.0              23.782609   \n",
       "45554                 18861.0              23.282609   \n",
       "70056                 71120.0              15.800000   \n",
       "\n",
       "       mean.avg.covered.charges  mean.avg.total.payments  \\\n",
       "26935              41747.913043             69658.184783   \n",
       "3332              114444.571429             20542.857143   \n",
       "44167              78882.043478             41833.652174   \n",
       "45554             114222.978261             16722.804348   \n",
       "70056              47166.400000             70461.066667   \n",
       "\n",
       "       mean.avg.medicare.payments  \n",
       "26935                58453.891304  \n",
       "3332                 14123.857143  \n",
       "44167                37675.304348  \n",
       "45554                24226.434783  \n",
       "70056                58367.600000  "
      ]
     },
     "execution_count": 8,
     "metadata": {},
     "output_type": "execute_result"
    }
   ],
   "source": [
    "X_train.head()"
   ]
  },
  {
   "cell_type": "code",
   "execution_count": 9,
   "metadata": {},
   "outputs": [
    {
     "data": {
      "text/html": [
       "<div>\n",
       "<style scoped>\n",
       "    .dataframe tbody tr th:only-of-type {\n",
       "        vertical-align: middle;\n",
       "    }\n",
       "\n",
       "    .dataframe tbody tr th {\n",
       "        vertical-align: top;\n",
       "    }\n",
       "\n",
       "    .dataframe thead th {\n",
       "        text-align: right;\n",
       "    }\n",
       "</style>\n",
       "<table border=\"1\" class=\"dataframe\">\n",
       "  <thead>\n",
       "    <tr style=\"text-align: right;\">\n",
       "      <th></th>\n",
       "      <th>ratio.total.discharges</th>\n",
       "      <th>ratio.avg.covered.charges</th>\n",
       "      <th>ratio.avg.total.payments</th>\n",
       "      <th>ratio.avg.medicare.payments</th>\n",
       "      <th>Average.Covered.Charges</th>\n",
       "      <th>Average.Medicare.Payments</th>\n",
       "      <th>Average.Total.Payments</th>\n",
       "      <th>mean.total.discharges</th>\n",
       "      <th>mean.avg.covered.charges</th>\n",
       "      <th>mean.avg.total.payments</th>\n",
       "      <th>mean.avg.medicare.payments</th>\n",
       "    </tr>\n",
       "  </thead>\n",
       "  <tbody>\n",
       "    <tr>\n",
       "      <th>136351</th>\n",
       "      <td>3.910825</td>\n",
       "      <td>0.835043</td>\n",
       "      <td>1.279218</td>\n",
       "      <td>1.080473</td>\n",
       "      <td>92236.0</td>\n",
       "      <td>117579.0</td>\n",
       "      <td>126139.0</td>\n",
       "      <td>41.934884</td>\n",
       "      <td>110456.613953</td>\n",
       "      <td>98606.367442</td>\n",
       "      <td>108821.795349</td>\n",
       "    </tr>\n",
       "    <tr>\n",
       "      <th>89009</th>\n",
       "      <td>0.433498</td>\n",
       "      <td>1.058404</td>\n",
       "      <td>1.170781</td>\n",
       "      <td>1.316746</td>\n",
       "      <td>110313.0</td>\n",
       "      <td>36272.0</td>\n",
       "      <td>42089.0</td>\n",
       "      <td>32.295455</td>\n",
       "      <td>104225.795455</td>\n",
       "      <td>35949.500000</td>\n",
       "      <td>27546.704545</td>\n",
       "    </tr>\n",
       "    <tr>\n",
       "      <th>123343</th>\n",
       "      <td>1.503632</td>\n",
       "      <td>0.467309</td>\n",
       "      <td>0.803349</td>\n",
       "      <td>0.818894</td>\n",
       "      <td>22341.0</td>\n",
       "      <td>42515.0</td>\n",
       "      <td>53062.0</td>\n",
       "      <td>17.956522</td>\n",
       "      <td>47807.739130</td>\n",
       "      <td>66051.000000</td>\n",
       "      <td>51917.608696</td>\n",
       "    </tr>\n",
       "    <tr>\n",
       "      <th>24542</th>\n",
       "      <td>0.819981</td>\n",
       "      <td>0.162313</td>\n",
       "      <td>0.981844</td>\n",
       "      <td>0.988096</td>\n",
       "      <td>9399.0</td>\n",
       "      <td>86377.0</td>\n",
       "      <td>93005.0</td>\n",
       "      <td>36.586207</td>\n",
       "      <td>57906.724138</td>\n",
       "      <td>94724.827586</td>\n",
       "      <td>87417.620690</td>\n",
       "    </tr>\n",
       "    <tr>\n",
       "      <th>65814</th>\n",
       "      <td>0.221424</td>\n",
       "      <td>3.251144</td>\n",
       "      <td>1.026449</td>\n",
       "      <td>0.999571</td>\n",
       "      <td>152200.0</td>\n",
       "      <td>96774.0</td>\n",
       "      <td>100149.0</td>\n",
       "      <td>85.808219</td>\n",
       "      <td>46814.287671</td>\n",
       "      <td>97568.383562</td>\n",
       "      <td>96815.493151</td>\n",
       "    </tr>\n",
       "  </tbody>\n",
       "</table>\n",
       "</div>"
      ],
      "text/plain": [
       "        ratio.total.discharges  ratio.avg.covered.charges  \\\n",
       "136351                3.910825                   0.835043   \n",
       "89009                 0.433498                   1.058404   \n",
       "123343                1.503632                   0.467309   \n",
       "24542                 0.819981                   0.162313   \n",
       "65814                 0.221424                   3.251144   \n",
       "\n",
       "        ratio.avg.total.payments  ratio.avg.medicare.payments  \\\n",
       "136351                  1.279218                     1.080473   \n",
       "89009                   1.170781                     1.316746   \n",
       "123343                  0.803349                     0.818894   \n",
       "24542                   0.981844                     0.988096   \n",
       "65814                   1.026449                     0.999571   \n",
       "\n",
       "        Average.Covered.Charges  Average.Medicare.Payments  \\\n",
       "136351                  92236.0                   117579.0   \n",
       "89009                  110313.0                    36272.0   \n",
       "123343                  22341.0                    42515.0   \n",
       "24542                    9399.0                    86377.0   \n",
       "65814                  152200.0                    96774.0   \n",
       "\n",
       "        Average.Total.Payments  mean.total.discharges  \\\n",
       "136351                126139.0              41.934884   \n",
       "89009                  42089.0              32.295455   \n",
       "123343                 53062.0              17.956522   \n",
       "24542                  93005.0              36.586207   \n",
       "65814                 100149.0              85.808219   \n",
       "\n",
       "        mean.avg.covered.charges  mean.avg.total.payments  \\\n",
       "136351             110456.613953             98606.367442   \n",
       "89009              104225.795455             35949.500000   \n",
       "123343              47807.739130             66051.000000   \n",
       "24542               57906.724138             94724.827586   \n",
       "65814               46814.287671             97568.383562   \n",
       "\n",
       "        mean.avg.medicare.payments  \n",
       "136351               108821.795349  \n",
       "89009                 27546.704545  \n",
       "123343                51917.608696  \n",
       "24542                 87417.620690  \n",
       "65814                 96815.493151  "
      ]
     },
     "execution_count": 9,
     "metadata": {},
     "output_type": "execute_result"
    }
   ],
   "source": [
    "X_test.head()"
   ]
  },
  {
   "cell_type": "markdown",
   "metadata": {},
   "source": [
    "# KNN "
   ]
  },
  {
   "cell_type": "code",
   "execution_count": 23,
   "metadata": {},
   "outputs": [
    {
     "data": {
      "text/plain": [
       "KNN(algorithm='auto', contamination=0.1, leaf_size=30, method='largest',\n",
       "  metric='minkowski', metric_params=None, n_jobs=1, n_neighbors=3, p=2,\n",
       "  radius=1.0)"
      ]
     },
     "execution_count": 23,
     "metadata": {},
     "output_type": "execute_result"
    }
   ],
   "source": [
    "clf_name = 'KNN'\n",
    "clf = KNN(n_neighbors=3, method='largest')\n",
    "clf.fit(X_train)"
   ]
  },
  {
   "cell_type": "code",
   "execution_count": 24,
   "metadata": {},
   "outputs": [
    {
     "data": {
      "text/plain": [
       "array([7394.58012732, 7487.20355275, 6359.08386889, 4856.38701824,\n",
       "       5431.99439189, 5201.06189679, 5590.87154577, 8973.20610242,\n",
       "       4261.83804444])"
      ]
     },
     "execution_count": 24,
     "metadata": {},
     "output_type": "execute_result"
    }
   ],
   "source": [
    "y_train_scores = clf.decision_scores_\n",
    "y_train_scores[1:10]"
   ]
  },
  {
   "cell_type": "code",
   "execution_count": 25,
   "metadata": {},
   "outputs": [
    {
     "data": {
      "text/plain": [
       "0    44137\n",
       "1     4783\n",
       "dtype: int64"
      ]
     },
     "execution_count": 25,
     "metadata": {},
     "output_type": "execute_result"
    }
   ],
   "source": [
    "y_test_pred = clf.predict(X_test)  \n",
    "y_test_pred = pd.Series(y_test_pred)\n",
    "y_test_pred.value_counts()"
   ]
  },
  {
   "cell_type": "code",
   "execution_count": 26,
   "metadata": {},
   "outputs": [
    {
     "data": {
      "text/plain": [
       "0    6395.137224\n",
       "1    4153.800002\n",
       "2    4613.787828\n",
       "3    5504.692424\n",
       "4    7644.955617\n",
       "dtype: float64"
      ]
     },
     "execution_count": 26,
     "metadata": {},
     "output_type": "execute_result"
    }
   ],
   "source": [
    "y_test_scores = clf.decision_function(X_test)\n",
    "y_test_scores = pd.Series(y_test_scores)\n",
    "y_test_scores.head()"
   ]
  },
  {
   "cell_type": "code",
   "execution_count": 27,
   "metadata": {},
   "outputs": [
    {
     "data": {
      "image/png": "[encoded data removed]",
      "text/plain": [
       "<Figure size 432x288 with 1 Axes>"
      ]
     },
     "metadata": {
      "needs_background": "light"
     },
     "output_type": "display_data"
    }
   ],
   "source": [
    "plt.hist(y_test_scores, bins='auto')\n",
    "plt.title(\"Histogram with 'auto' bins\")\n",
    "plt.show()"
   ]
  },
  {
   "cell_type": "code",
   "execution_count": 95,
   "metadata": {},
   "outputs": [
    {
     "data": {
      "text/plain": [
       "1    34386\n",
       "0    14534\n",
       "Name: cluster, dtype: int64"
      ]
     },
     "execution_count": 95,
     "metadata": {},
     "output_type": "execute_result"
    }
   ],
   "source": [
    "X_test_cluster = X_test.copy()\n",
    "X_test_cluster['distance'] = y_test_scores\n",
    "X_test_cluster['cluster'] = np.where(X_test_cluster['distance']<30000, 0, 1)\n",
    "X_test_cluster['cluster'].value_counts()"
   ]
  },
  {
   "cell_type": "markdown",
   "metadata": {},
   "source": [
    "I tried to pick a value that would allow me to minimize the number of instances in the one cluster but it did not have any substantial affect so I stuck with a value of >= to 30000 for potential outliers"
   ]
  },
  {
   "cell_type": "code",
   "execution_count": 29,
   "metadata": {},
   "outputs": [
    {
     "data": {
      "text/html": [
       "<div>\n",
       "<style scoped>\n",
       "    .dataframe tbody tr th:only-of-type {\n",
       "        vertical-align: middle;\n",
       "    }\n",
       "\n",
       "    .dataframe tbody tr th {\n",
       "        vertical-align: top;\n",
       "    }\n",
       "\n",
       "    .dataframe thead th {\n",
       "        text-align: right;\n",
       "    }\n",
       "</style>\n",
       "<table border=\"1\" class=\"dataframe\">\n",
       "  <thead>\n",
       "    <tr style=\"text-align: right;\">\n",
       "      <th></th>\n",
       "      <th>ratio.total.discharges</th>\n",
       "      <th>ratio.avg.covered.charges</th>\n",
       "      <th>ratio.avg.total.payments</th>\n",
       "      <th>ratio.avg.medicare.payments</th>\n",
       "      <th>Average.Covered.Charges</th>\n",
       "      <th>Average.Medicare.Payments</th>\n",
       "      <th>Average.Total.Payments</th>\n",
       "      <th>mean.total.discharges</th>\n",
       "      <th>mean.avg.covered.charges</th>\n",
       "      <th>mean.avg.total.payments</th>\n",
       "      <th>mean.avg.medicare.payments</th>\n",
       "      <th>distance</th>\n",
       "    </tr>\n",
       "    <tr>\n",
       "      <th>cluster</th>\n",
       "      <th></th>\n",
       "      <th></th>\n",
       "      <th></th>\n",
       "      <th></th>\n",
       "      <th></th>\n",
       "      <th></th>\n",
       "      <th></th>\n",
       "      <th></th>\n",
       "      <th></th>\n",
       "      <th></th>\n",
       "      <th></th>\n",
       "      <th></th>\n",
       "    </tr>\n",
       "  </thead>\n",
       "  <tbody>\n",
       "    <tr>\n",
       "      <th>0</th>\n",
       "      <td>0.994100</td>\n",
       "      <td>1.003973</td>\n",
       "      <td>1.000420</td>\n",
       "      <td>0.995109</td>\n",
       "      <td>81560.210883</td>\n",
       "      <td>75758.855701</td>\n",
       "      <td>76887.492498</td>\n",
       "      <td>39.467555</td>\n",
       "      <td>81198.615023</td>\n",
       "      <td>76798.412516</td>\n",
       "      <td>76087.772234</td>\n",
       "      <td>6743.838455</td>\n",
       "    </tr>\n",
       "    <tr>\n",
       "      <th>1</th>\n",
       "      <td>0.999801</td>\n",
       "      <td>1.002074</td>\n",
       "      <td>1.000018</td>\n",
       "      <td>1.003971</td>\n",
       "      <td>79409.364309</td>\n",
       "      <td>75896.582001</td>\n",
       "      <td>74237.131091</td>\n",
       "      <td>44.101265</td>\n",
       "      <td>79340.476724</td>\n",
       "      <td>74238.321898</td>\n",
       "      <td>75706.664248</td>\n",
       "      <td>23365.190960</td>\n",
       "    </tr>\n",
       "  </tbody>\n",
       "</table>\n",
       "</div>"
      ],
      "text/plain": [
       "         ratio.total.discharges  ratio.avg.covered.charges  \\\n",
       "cluster                                                      \n",
       "0                      0.994100                   1.003973   \n",
       "1                      0.999801                   1.002074   \n",
       "\n",
       "         ratio.avg.total.payments  ratio.avg.medicare.payments  \\\n",
       "cluster                                                          \n",
       "0                        1.000420                     0.995109   \n",
       "1                        1.000018                     1.003971   \n",
       "\n",
       "         Average.Covered.Charges  Average.Medicare.Payments  \\\n",
       "cluster                                                       \n",
       "0                   81560.210883               75758.855701   \n",
       "1                   79409.364309               75896.582001   \n",
       "\n",
       "         Average.Total.Payments  mean.total.discharges  \\\n",
       "cluster                                                  \n",
       "0                  76887.492498              39.467555   \n",
       "1                  74237.131091              44.101265   \n",
       "\n",
       "         mean.avg.covered.charges  mean.avg.total.payments  \\\n",
       "cluster                                                      \n",
       "0                    81198.615023             76798.412516   \n",
       "1                    79340.476724             74238.321898   \n",
       "\n",
       "         mean.avg.medicare.payments      distance  \n",
       "cluster                                            \n",
       "0                      76087.772234   6743.838455  \n",
       "1                      75706.664248  23365.190960  "
      ]
     },
     "execution_count": 29,
     "metadata": {},
     "output_type": "execute_result"
    }
   ],
   "source": [
    "X_test_cluster.groupby('cluster').mean()"
   ]
  },
  {
   "cell_type": "markdown",
   "metadata": {},
   "source": [
    "## Maximum of maximum"
   ]
  },
  {
   "cell_type": "markdown",
   "metadata": {},
   "source": [
    "As we know, the idea with the maximum of maximum is to merge the outlier scores from the predictors. Now the idea of the below is that since I know of the sensitive nature of the KNN model to the n - number of neighbors I am creating a zero matrix below to store the output of the models I am going to run with KNN to see the what can be achieved in different applictions of the model before ultimately evaluating it "
   ]
  },
  {
   "cell_type": "code",
   "execution_count": 30,
   "metadata": {},
   "outputs": [],
   "source": [
    "n_clf = 10\n",
    "k_list = [5, 10, 15, 20, 25, 30, 35, 40, 45, 50]"
   ]
  },
  {
   "cell_type": "code",
   "execution_count": 31,
   "metadata": {},
   "outputs": [],
   "source": [
    "train_scores = np.zeros([X_train.shape[0], n_clf])\n",
    "test_scores = np.zeros([X_test.shape[0], n_clf])\n",
    "train_scores = pd.DataFrame(train_scores)\n",
    "test_scores = pd.DataFrame(test_scores)"
   ]
  },
  {
   "cell_type": "code",
   "execution_count": 32,
   "metadata": {},
   "outputs": [
    {
     "data": {
      "text/html": [
       "<div>\n",
       "<style scoped>\n",
       "    .dataframe tbody tr th:only-of-type {\n",
       "        vertical-align: middle;\n",
       "    }\n",
       "\n",
       "    .dataframe tbody tr th {\n",
       "        vertical-align: top;\n",
       "    }\n",
       "\n",
       "    .dataframe thead th {\n",
       "        text-align: right;\n",
       "    }\n",
       "</style>\n",
       "<table border=\"1\" class=\"dataframe\">\n",
       "  <thead>\n",
       "    <tr style=\"text-align: right;\">\n",
       "      <th></th>\n",
       "      <th>0</th>\n",
       "      <th>1</th>\n",
       "      <th>2</th>\n",
       "      <th>3</th>\n",
       "      <th>4</th>\n",
       "      <th>5</th>\n",
       "      <th>6</th>\n",
       "      <th>7</th>\n",
       "      <th>8</th>\n",
       "      <th>9</th>\n",
       "    </tr>\n",
       "  </thead>\n",
       "  <tbody>\n",
       "    <tr>\n",
       "      <th>0</th>\n",
       "      <td>0.0</td>\n",
       "      <td>0.0</td>\n",
       "      <td>0.0</td>\n",
       "      <td>0.0</td>\n",
       "      <td>0.0</td>\n",
       "      <td>0.0</td>\n",
       "      <td>0.0</td>\n",
       "      <td>0.0</td>\n",
       "      <td>0.0</td>\n",
       "      <td>0.0</td>\n",
       "    </tr>\n",
       "    <tr>\n",
       "      <th>1</th>\n",
       "      <td>0.0</td>\n",
       "      <td>0.0</td>\n",
       "      <td>0.0</td>\n",
       "      <td>0.0</td>\n",
       "      <td>0.0</td>\n",
       "      <td>0.0</td>\n",
       "      <td>0.0</td>\n",
       "      <td>0.0</td>\n",
       "      <td>0.0</td>\n",
       "      <td>0.0</td>\n",
       "    </tr>\n",
       "    <tr>\n",
       "      <th>2</th>\n",
       "      <td>0.0</td>\n",
       "      <td>0.0</td>\n",
       "      <td>0.0</td>\n",
       "      <td>0.0</td>\n",
       "      <td>0.0</td>\n",
       "      <td>0.0</td>\n",
       "      <td>0.0</td>\n",
       "      <td>0.0</td>\n",
       "      <td>0.0</td>\n",
       "      <td>0.0</td>\n",
       "    </tr>\n",
       "    <tr>\n",
       "      <th>3</th>\n",
       "      <td>0.0</td>\n",
       "      <td>0.0</td>\n",
       "      <td>0.0</td>\n",
       "      <td>0.0</td>\n",
       "      <td>0.0</td>\n",
       "      <td>0.0</td>\n",
       "      <td>0.0</td>\n",
       "      <td>0.0</td>\n",
       "      <td>0.0</td>\n",
       "      <td>0.0</td>\n",
       "    </tr>\n",
       "    <tr>\n",
       "      <th>4</th>\n",
       "      <td>0.0</td>\n",
       "      <td>0.0</td>\n",
       "      <td>0.0</td>\n",
       "      <td>0.0</td>\n",
       "      <td>0.0</td>\n",
       "      <td>0.0</td>\n",
       "      <td>0.0</td>\n",
       "      <td>0.0</td>\n",
       "      <td>0.0</td>\n",
       "      <td>0.0</td>\n",
       "    </tr>\n",
       "  </tbody>\n",
       "</table>\n",
       "</div>"
      ],
      "text/plain": [
       "     0    1    2    3    4    5    6    7    8    9\n",
       "0  0.0  0.0  0.0  0.0  0.0  0.0  0.0  0.0  0.0  0.0\n",
       "1  0.0  0.0  0.0  0.0  0.0  0.0  0.0  0.0  0.0  0.0\n",
       "2  0.0  0.0  0.0  0.0  0.0  0.0  0.0  0.0  0.0  0.0\n",
       "3  0.0  0.0  0.0  0.0  0.0  0.0  0.0  0.0  0.0  0.0\n",
       "4  0.0  0.0  0.0  0.0  0.0  0.0  0.0  0.0  0.0  0.0"
      ]
     },
     "execution_count": 32,
     "metadata": {},
     "output_type": "execute_result"
    }
   ],
   "source": [
    "train_scores.head()"
   ]
  },
  {
   "cell_type": "code",
   "execution_count": 33,
   "metadata": {},
   "outputs": [],
   "source": [
    "for i in range(n_clf):\n",
    "        k = k_list[i]\n",
    "\n",
    "        clf = KNN(n_neighbors=k, method='largest')\n",
    "        clf.fit(X_train)\n",
    "\n",
    "        train_scores.loc[:, i] = clf.decision_scores_\n",
    "        test_scores.loc[:, i] = clf.decision_function(X_test) # Predict raw anomaly score of X using the fitted detector."
   ]
  },
  {
   "cell_type": "code",
   "execution_count": 34,
   "metadata": {},
   "outputs": [
    {
     "data": {
      "text/html": [
       "<div>\n",
       "<style scoped>\n",
       "    .dataframe tbody tr th:only-of-type {\n",
       "        vertical-align: middle;\n",
       "    }\n",
       "\n",
       "    .dataframe tbody tr th {\n",
       "        vertical-align: top;\n",
       "    }\n",
       "\n",
       "    .dataframe thead th {\n",
       "        text-align: right;\n",
       "    }\n",
       "</style>\n",
       "<table border=\"1\" class=\"dataframe\">\n",
       "  <thead>\n",
       "    <tr style=\"text-align: right;\">\n",
       "      <th></th>\n",
       "      <th>0</th>\n",
       "      <th>1</th>\n",
       "      <th>2</th>\n",
       "      <th>3</th>\n",
       "      <th>4</th>\n",
       "      <th>5</th>\n",
       "      <th>6</th>\n",
       "      <th>7</th>\n",
       "      <th>8</th>\n",
       "      <th>9</th>\n",
       "    </tr>\n",
       "  </thead>\n",
       "  <tbody>\n",
       "    <tr>\n",
       "      <th>1</th>\n",
       "      <td>8422.931718</td>\n",
       "      <td>9429.604399</td>\n",
       "      <td>10212.411221</td>\n",
       "      <td>11090.858990</td>\n",
       "      <td>11771.257195</td>\n",
       "      <td>11997.292701</td>\n",
       "      <td>12386.918805</td>\n",
       "      <td>12530.590647</td>\n",
       "      <td>12716.701998</td>\n",
       "      <td>13063.643312</td>\n",
       "    </tr>\n",
       "    <tr>\n",
       "      <th>2</th>\n",
       "      <td>10259.686499</td>\n",
       "      <td>11845.824418</td>\n",
       "      <td>13173.714841</td>\n",
       "      <td>15090.501897</td>\n",
       "      <td>16333.146218</td>\n",
       "      <td>16654.535580</td>\n",
       "      <td>17103.819293</td>\n",
       "      <td>17416.441081</td>\n",
       "      <td>18088.175992</td>\n",
       "      <td>18261.973118</td>\n",
       "    </tr>\n",
       "    <tr>\n",
       "      <th>3</th>\n",
       "      <td>6612.608448</td>\n",
       "      <td>7374.439025</td>\n",
       "      <td>7730.689308</td>\n",
       "      <td>7968.415298</td>\n",
       "      <td>8260.747895</td>\n",
       "      <td>8539.267772</td>\n",
       "      <td>8654.509179</td>\n",
       "      <td>9013.401970</td>\n",
       "      <td>9163.215648</td>\n",
       "      <td>9403.882125</td>\n",
       "    </tr>\n",
       "    <tr>\n",
       "      <th>4</th>\n",
       "      <td>5239.889097</td>\n",
       "      <td>5771.702811</td>\n",
       "      <td>6010.869401</td>\n",
       "      <td>6293.517595</td>\n",
       "      <td>6928.756542</td>\n",
       "      <td>7303.721904</td>\n",
       "      <td>7697.128205</td>\n",
       "      <td>7983.169122</td>\n",
       "      <td>8210.961925</td>\n",
       "      <td>8431.895656</td>\n",
       "    </tr>\n",
       "    <tr>\n",
       "      <th>5</th>\n",
       "      <td>7286.757187</td>\n",
       "      <td>8445.606530</td>\n",
       "      <td>9033.469437</td>\n",
       "      <td>9560.482468</td>\n",
       "      <td>9756.827827</td>\n",
       "      <td>10195.755024</td>\n",
       "      <td>10569.034456</td>\n",
       "      <td>10881.880333</td>\n",
       "      <td>11086.993130</td>\n",
       "      <td>11380.272556</td>\n",
       "    </tr>\n",
       "    <tr>\n",
       "      <th>6</th>\n",
       "      <td>5381.276910</td>\n",
       "      <td>6194.278207</td>\n",
       "      <td>6712.228626</td>\n",
       "      <td>6980.529532</td>\n",
       "      <td>7415.231628</td>\n",
       "      <td>7644.588907</td>\n",
       "      <td>7924.295644</td>\n",
       "      <td>8126.044572</td>\n",
       "      <td>8295.160541</td>\n",
       "      <td>8488.569890</td>\n",
       "    </tr>\n",
       "    <tr>\n",
       "      <th>7</th>\n",
       "      <td>7618.710673</td>\n",
       "      <td>8833.866367</td>\n",
       "      <td>9279.482103</td>\n",
       "      <td>10195.600906</td>\n",
       "      <td>10359.009711</td>\n",
       "      <td>10770.442129</td>\n",
       "      <td>11108.149639</td>\n",
       "      <td>11533.748676</td>\n",
       "      <td>11847.283468</td>\n",
       "      <td>12011.112900</td>\n",
       "    </tr>\n",
       "    <tr>\n",
       "      <th>8</th>\n",
       "      <td>9247.917207</td>\n",
       "      <td>10140.865013</td>\n",
       "      <td>11448.943268</td>\n",
       "      <td>11856.274800</td>\n",
       "      <td>12390.930799</td>\n",
       "      <td>12827.148325</td>\n",
       "      <td>13499.628141</td>\n",
       "      <td>14126.922240</td>\n",
       "      <td>14655.756017</td>\n",
       "      <td>14873.095583</td>\n",
       "    </tr>\n",
       "    <tr>\n",
       "      <th>9</th>\n",
       "      <td>4749.877093</td>\n",
       "      <td>5641.056802</td>\n",
       "      <td>6559.776571</td>\n",
       "      <td>7272.998647</td>\n",
       "      <td>7820.096384</td>\n",
       "      <td>8052.577080</td>\n",
       "      <td>8531.122222</td>\n",
       "      <td>8735.303848</td>\n",
       "      <td>9078.168906</td>\n",
       "      <td>9313.303578</td>\n",
       "    </tr>\n",
       "  </tbody>\n",
       "</table>\n",
       "</div>"
      ],
      "text/plain": [
       "              0             1             2             3             4  \\\n",
       "1   8422.931718   9429.604399  10212.411221  11090.858990  11771.257195   \n",
       "2  10259.686499  11845.824418  13173.714841  15090.501897  16333.146218   \n",
       "3   6612.608448   7374.439025   7730.689308   7968.415298   8260.747895   \n",
       "4   5239.889097   5771.702811   6010.869401   6293.517595   6928.756542   \n",
       "5   7286.757187   8445.606530   9033.469437   9560.482468   9756.827827   \n",
       "6   5381.276910   6194.278207   6712.228626   6980.529532   7415.231628   \n",
       "7   7618.710673   8833.866367   9279.482103  10195.600906  10359.009711   \n",
       "8   9247.917207  10140.865013  11448.943268  11856.274800  12390.930799   \n",
       "9   4749.877093   5641.056802   6559.776571   7272.998647   7820.096384   \n",
       "\n",
       "              5             6             7             8             9  \n",
       "1  11997.292701  12386.918805  12530.590647  12716.701998  13063.643312  \n",
       "2  16654.535580  17103.819293  17416.441081  18088.175992  18261.973118  \n",
       "3   8539.267772   8654.509179   9013.401970   9163.215648   9403.882125  \n",
       "4   7303.721904   7697.128205   7983.169122   8210.961925   8431.895656  \n",
       "5  10195.755024  10569.034456  10881.880333  11086.993130  11380.272556  \n",
       "6   7644.588907   7924.295644   8126.044572   8295.160541   8488.569890  \n",
       "7  10770.442129  11108.149639  11533.748676  11847.283468  12011.112900  \n",
       "8  12827.148325  13499.628141  14126.922240  14655.756017  14873.095583  \n",
       "9   8052.577080   8531.122222   8735.303848   9078.168906   9313.303578  "
      ]
     },
     "execution_count": 34,
     "metadata": {},
     "output_type": "execute_result"
    }
   ],
   "source": [
    "train_scores[1:10]"
   ]
  },
  {
   "cell_type": "markdown",
   "metadata": {},
   "source": [
    "## Average (average score of all detectors)"
   ]
  },
  {
   "cell_type": "markdown",
   "metadata": {},
   "source": [
    "Average here indicates that I am averaging the outlier scores from the estimators to use in stabilzation"
   ]
  },
  {
   "cell_type": "code",
   "execution_count": 35,
   "metadata": {},
   "outputs": [
    {
     "data": {
      "text/plain": [
       "array([10406.03229677,  6638.92316822,  8569.23419522, 11193.8823102 ,\n",
       "        9003.25695246, 15545.40591691, 20072.28722156, 19813.37266138,\n",
       "       11197.76769998])"
      ]
     },
     "execution_count": 35,
     "metadata": {},
     "output_type": "execute_result"
    }
   ],
   "source": [
    "y_by_average = average(test_scores)\n",
    "y_by_average[1:10]"
   ]
  },
  {
   "cell_type": "code",
   "execution_count": 36,
   "metadata": {},
   "outputs": [
    {
     "data": {
      "image/png": "[encoded data removed]",
      "text/plain": [
       "<Figure size 432x288 with 1 Axes>"
      ]
     },
     "metadata": {
      "needs_background": "light"
     },
     "output_type": "display_data"
    }
   ],
   "source": [
    "y_by_average = average(test_scores)\n",
    "plt.hist(y_by_average, bins='auto')\n",
    "plt.title(\"Combination by average\")\n",
    "plt.show()"
   ]
  },
  {
   "cell_type": "code",
   "execution_count": 37,
   "metadata": {},
   "outputs": [
    {
     "data": {
      "text/plain": [
       "0    48841\n",
       "1       79\n",
       "Name: y_by_average_cluster, dtype: int64"
      ]
     },
     "execution_count": 37,
     "metadata": {},
     "output_type": "execute_result"
    }
   ],
   "source": [
    "df_test = X_test.copy()\n",
    "df_test['y_by_average_score'] = y_by_average\n",
    "df_test['y_by_average_cluster'] = np.where(df_test['y_by_average_score']<35000, 0, 1)\n",
    "df_test['y_by_average_cluster'].value_counts()"
   ]
  },
  {
   "cell_type": "markdown",
   "metadata": {},
   "source": [
    "In an effort to isolate the outliers I chose a cutoff value of 35000"
   ]
  },
  {
   "cell_type": "code",
   "execution_count": 38,
   "metadata": {},
   "outputs": [
    {
     "data": {
      "text/html": [
       "<div>\n",
       "<style scoped>\n",
       "    .dataframe tbody tr th:only-of-type {\n",
       "        vertical-align: middle;\n",
       "    }\n",
       "\n",
       "    .dataframe tbody tr th {\n",
       "        vertical-align: top;\n",
       "    }\n",
       "\n",
       "    .dataframe thead th {\n",
       "        text-align: right;\n",
       "    }\n",
       "</style>\n",
       "<table border=\"1\" class=\"dataframe\">\n",
       "  <thead>\n",
       "    <tr style=\"text-align: right;\">\n",
       "      <th></th>\n",
       "      <th>ratio.total.discharges</th>\n",
       "      <th>ratio.avg.covered.charges</th>\n",
       "      <th>ratio.avg.total.payments</th>\n",
       "      <th>ratio.avg.medicare.payments</th>\n",
       "      <th>Average.Covered.Charges</th>\n",
       "      <th>Average.Medicare.Payments</th>\n",
       "      <th>Average.Total.Payments</th>\n",
       "      <th>mean.total.discharges</th>\n",
       "      <th>mean.avg.covered.charges</th>\n",
       "      <th>mean.avg.total.payments</th>\n",
       "      <th>mean.avg.medicare.payments</th>\n",
       "      <th>y_by_average_score</th>\n",
       "    </tr>\n",
       "    <tr>\n",
       "      <th>y_by_average_cluster</th>\n",
       "      <th></th>\n",
       "      <th></th>\n",
       "      <th></th>\n",
       "      <th></th>\n",
       "      <th></th>\n",
       "      <th></th>\n",
       "      <th></th>\n",
       "      <th></th>\n",
       "      <th></th>\n",
       "      <th></th>\n",
       "      <th></th>\n",
       "      <th></th>\n",
       "    </tr>\n",
       "  </thead>\n",
       "  <tbody>\n",
       "    <tr>\n",
       "      <th>0</th>\n",
       "      <td>0.998438</td>\n",
       "      <td>1.002458</td>\n",
       "      <td>0.999533</td>\n",
       "      <td>1.000415</td>\n",
       "      <td>80052.935259</td>\n",
       "      <td>75803.063328</td>\n",
       "      <td>75056.783031</td>\n",
       "      <td>42.739808</td>\n",
       "      <td>79899.331472</td>\n",
       "      <td>75026.738509</td>\n",
       "      <td>75794.999547</td>\n",
       "      <td>11030.811259</td>\n",
       "    </tr>\n",
       "    <tr>\n",
       "      <th>1</th>\n",
       "      <td>0.798849</td>\n",
       "      <td>1.111983</td>\n",
       "      <td>1.373743</td>\n",
       "      <td>1.579703</td>\n",
       "      <td>75296.012658</td>\n",
       "      <td>108499.240506</td>\n",
       "      <td>52712.531646</td>\n",
       "      <td>37.488329</td>\n",
       "      <td>74014.267357</td>\n",
       "      <td>55498.257166</td>\n",
       "      <td>90865.910630</td>\n",
       "      <td>40406.020860</td>\n",
       "    </tr>\n",
       "  </tbody>\n",
       "</table>\n",
       "</div>"
      ],
      "text/plain": [
       "                      ratio.total.discharges  ratio.avg.covered.charges  \\\n",
       "y_by_average_cluster                                                      \n",
       "0                                   0.998438                   1.002458   \n",
       "1                                   0.798849                   1.111983   \n",
       "\n",
       "                      ratio.avg.total.payments  ratio.avg.medicare.payments  \\\n",
       "y_by_average_cluster                                                          \n",
       "0                                     0.999533                     1.000415   \n",
       "1                                     1.373743                     1.579703   \n",
       "\n",
       "                      Average.Covered.Charges  Average.Medicare.Payments  \\\n",
       "y_by_average_cluster                                                       \n",
       "0                                80052.935259               75803.063328   \n",
       "1                                75296.012658              108499.240506   \n",
       "\n",
       "                      Average.Total.Payments  mean.total.discharges  \\\n",
       "y_by_average_cluster                                                  \n",
       "0                               75056.783031              42.739808   \n",
       "1                               52712.531646              37.488329   \n",
       "\n",
       "                      mean.avg.covered.charges  mean.avg.total.payments  \\\n",
       "y_by_average_cluster                                                      \n",
       "0                                 79899.331472             75026.738509   \n",
       "1                                 74014.267357             55498.257166   \n",
       "\n",
       "                      mean.avg.medicare.payments  y_by_average_score  \n",
       "y_by_average_cluster                                                  \n",
       "0                                   75794.999547        11030.811259  \n",
       "1                                   90865.910630        40406.020860  "
      ]
     },
     "execution_count": 38,
     "metadata": {},
     "output_type": "execute_result"
    }
   ],
   "source": [
    "df_test.groupby('y_by_average_cluster').mean()"
   ]
  },
  {
   "cell_type": "markdown",
   "metadata": {},
   "source": [
    "Here I would classify instances in cluster 1 as potential outliers because the distance between points is much larger then in cluster 0 "
   ]
  },
  {
   "cell_type": "markdown",
   "metadata": {},
   "source": [
    "## Maximum of maximum"
   ]
  },
  {
   "cell_type": "code",
   "execution_count": 39,
   "metadata": {},
   "outputs": [
    {
     "data": {
      "image/png": "[encoded data removed]",
      "text/plain": [
       "<Figure size 432x288 with 1 Axes>"
      ]
     },
     "metadata": {
      "needs_background": "light"
     },
     "output_type": "display_data"
    }
   ],
   "source": [
    "y_by_maximization = maximization(test_scores)\n",
    "plt.hist(y_by_maximization, bins='auto')\n",
    "plt.title(\"Combination by max\")\n",
    "plt.show()"
   ]
  },
  {
   "cell_type": "code",
   "execution_count": 40,
   "metadata": {},
   "outputs": [
    {
     "data": {
      "text/plain": [
       "0    48821\n",
       "1       99\n",
       "Name: y_by_maximization_cluster, dtype: int64"
      ]
     },
     "execution_count": 40,
     "metadata": {},
     "output_type": "execute_result"
    }
   ],
   "source": [
    "df_test = X_test.copy()\n",
    "df_test['y_by_maximization_score'] = y_by_maximization\n",
    "df_test['y_by_maximization_cluster'] = np.where(df_test['y_by_maximization_score']<40000, 0, 1)\n",
    "df_test['y_by_maximization_cluster'].value_counts()"
   ]
  },
  {
   "cell_type": "markdown",
   "metadata": {},
   "source": [
    "Here I used a cutoff value of 40000 isolating the cases down to 99"
   ]
  },
  {
   "cell_type": "code",
   "execution_count": 41,
   "metadata": {},
   "outputs": [
    {
     "data": {
      "text/html": [
       "<div>\n",
       "<style scoped>\n",
       "    .dataframe tbody tr th:only-of-type {\n",
       "        vertical-align: middle;\n",
       "    }\n",
       "\n",
       "    .dataframe tbody tr th {\n",
       "        vertical-align: top;\n",
       "    }\n",
       "\n",
       "    .dataframe thead th {\n",
       "        text-align: right;\n",
       "    }\n",
       "</style>\n",
       "<table border=\"1\" class=\"dataframe\">\n",
       "  <thead>\n",
       "    <tr style=\"text-align: right;\">\n",
       "      <th></th>\n",
       "      <th>ratio.total.discharges</th>\n",
       "      <th>ratio.avg.covered.charges</th>\n",
       "      <th>ratio.avg.total.payments</th>\n",
       "      <th>ratio.avg.medicare.payments</th>\n",
       "      <th>Average.Covered.Charges</th>\n",
       "      <th>Average.Medicare.Payments</th>\n",
       "      <th>Average.Total.Payments</th>\n",
       "      <th>mean.total.discharges</th>\n",
       "      <th>mean.avg.covered.charges</th>\n",
       "      <th>mean.avg.total.payments</th>\n",
       "      <th>mean.avg.medicare.payments</th>\n",
       "      <th>y_by_maximization_score</th>\n",
       "    </tr>\n",
       "    <tr>\n",
       "      <th>y_by_maximization_cluster</th>\n",
       "      <th></th>\n",
       "      <th></th>\n",
       "      <th></th>\n",
       "      <th></th>\n",
       "      <th></th>\n",
       "      <th></th>\n",
       "      <th></th>\n",
       "      <th></th>\n",
       "      <th></th>\n",
       "      <th></th>\n",
       "      <th></th>\n",
       "      <th></th>\n",
       "    </tr>\n",
       "  </thead>\n",
       "  <tbody>\n",
       "    <tr>\n",
       "      <th>0</th>\n",
       "      <td>0.998528</td>\n",
       "      <td>1.002286</td>\n",
       "      <td>0.999049</td>\n",
       "      <td>0.999691</td>\n",
       "      <td>80065.878577</td>\n",
       "      <td>75772.427623</td>\n",
       "      <td>75058.729420</td>\n",
       "      <td>42.732622</td>\n",
       "      <td>79906.959829</td>\n",
       "      <td>75044.128685</td>\n",
       "      <td>75800.367571</td>\n",
       "      <td>12999.385771</td>\n",
       "    </tr>\n",
       "    <tr>\n",
       "      <th>1</th>\n",
       "      <td>0.794554</td>\n",
       "      <td>1.174825</td>\n",
       "      <td>1.536521</td>\n",
       "      <td>1.820173</td>\n",
       "      <td>69874.121212</td>\n",
       "      <td>117001.686869</td>\n",
       "      <td>56266.676768</td>\n",
       "      <td>42.092606</td>\n",
       "      <td>71441.310572</td>\n",
       "      <td>50867.589146</td>\n",
       "      <td>85174.086907</td>\n",
       "      <td>46514.413499</td>\n",
       "    </tr>\n",
       "  </tbody>\n",
       "</table>\n",
       "</div>"
      ],
      "text/plain": [
       "                           ratio.total.discharges  ratio.avg.covered.charges  \\\n",
       "y_by_maximization_cluster                                                      \n",
       "0                                        0.998528                   1.002286   \n",
       "1                                        0.794554                   1.174825   \n",
       "\n",
       "                           ratio.avg.total.payments  \\\n",
       "y_by_maximization_cluster                             \n",
       "0                                          0.999049   \n",
       "1                                          1.536521   \n",
       "\n",
       "                           ratio.avg.medicare.payments  \\\n",
       "y_by_maximization_cluster                                \n",
       "0                                             0.999691   \n",
       "1                                             1.820173   \n",
       "\n",
       "                           Average.Covered.Charges  Average.Medicare.Payments  \\\n",
       "y_by_maximization_cluster                                                       \n",
       "0                                     80065.878577               75772.427623   \n",
       "1                                     69874.121212              117001.686869   \n",
       "\n",
       "                           Average.Total.Payments  mean.total.discharges  \\\n",
       "y_by_maximization_cluster                                                  \n",
       "0                                    75058.729420              42.732622   \n",
       "1                                    56266.676768              42.092606   \n",
       "\n",
       "                           mean.avg.covered.charges  mean.avg.total.payments  \\\n",
       "y_by_maximization_cluster                                                      \n",
       "0                                      79906.959829             75044.128685   \n",
       "1                                      71441.310572             50867.589146   \n",
       "\n",
       "                           mean.avg.medicare.payments  y_by_maximization_score  \n",
       "y_by_maximization_cluster                                                       \n",
       "0                                        75800.367571             12999.385771  \n",
       "1                                        85174.086907             46514.413499  "
      ]
     },
     "execution_count": 41,
     "metadata": {},
     "output_type": "execute_result"
    }
   ],
   "source": [
    "df_test.groupby('y_by_maximization_cluster').mean()"
   ]
  },
  {
   "cell_type": "markdown",
   "metadata": {},
   "source": [
    "Here I again chose cluster one because the distance between points is again greater then in cluster zero"
   ]
  },
  {
   "cell_type": "markdown",
   "metadata": {},
   "source": [
    "## Average of maximum"
   ]
  },
  {
   "cell_type": "code",
   "execution_count": 42,
   "metadata": {},
   "outputs": [
    {
     "data": {
      "image/png": "[encoded data removed]",
      "text/plain": [
       "<Figure size 432x288 with 1 Axes>"
      ]
     },
     "metadata": {
      "needs_background": "light"
     },
     "output_type": "display_data"
    }
   ],
   "source": [
    "y_by_aom = aom(test_scores, n_buckets=5)\n",
    "plt.hist(y_by_aom, bins='auto') \n",
    "plt.title(\"Average of Maximum\")\n",
    "plt.show()"
   ]
  },
  {
   "cell_type": "code",
   "execution_count": 46,
   "metadata": {},
   "outputs": [
    {
     "data": {
      "text/plain": [
       "0    48787\n",
       "1      133\n",
       "Name: y_by_aom_cluster, dtype: int64"
      ]
     },
     "execution_count": 46,
     "metadata": {},
     "output_type": "execute_result"
    }
   ],
   "source": [
    "df_test = X_test.copy()\n",
    "df_test['y_by_aom_score'] = y_by_aom\n",
    "df_test['y_by_aom_cluster'] = np.where(df_test['y_by_aom_score']<35000, 0, 1)\n",
    "df_test['y_by_aom_cluster'].value_counts()"
   ]
  },
  {
   "cell_type": "markdown",
   "metadata": {},
   "source": [
    "Here I chose a cutoff value of 35000 because the number of cases is minimized again "
   ]
  },
  {
   "cell_type": "code",
   "execution_count": 47,
   "metadata": {},
   "outputs": [
    {
     "data": {
      "text/html": [
       "<div>\n",
       "<style scoped>\n",
       "    .dataframe tbody tr th:only-of-type {\n",
       "        vertical-align: middle;\n",
       "    }\n",
       "\n",
       "    .dataframe tbody tr th {\n",
       "        vertical-align: top;\n",
       "    }\n",
       "\n",
       "    .dataframe thead th {\n",
       "        text-align: right;\n",
       "    }\n",
       "</style>\n",
       "<table border=\"1\" class=\"dataframe\">\n",
       "  <thead>\n",
       "    <tr style=\"text-align: right;\">\n",
       "      <th></th>\n",
       "      <th>ratio.total.discharges</th>\n",
       "      <th>ratio.avg.covered.charges</th>\n",
       "      <th>ratio.avg.total.payments</th>\n",
       "      <th>ratio.avg.medicare.payments</th>\n",
       "      <th>Average.Covered.Charges</th>\n",
       "      <th>Average.Medicare.Payments</th>\n",
       "      <th>Average.Total.Payments</th>\n",
       "      <th>mean.total.discharges</th>\n",
       "      <th>mean.avg.covered.charges</th>\n",
       "      <th>mean.avg.total.payments</th>\n",
       "      <th>mean.avg.medicare.payments</th>\n",
       "      <th>y_by_aom_score</th>\n",
       "    </tr>\n",
       "    <tr>\n",
       "      <th>y_by_aom_cluster</th>\n",
       "      <th></th>\n",
       "      <th></th>\n",
       "      <th></th>\n",
       "      <th></th>\n",
       "      <th></th>\n",
       "      <th></th>\n",
       "      <th></th>\n",
       "      <th></th>\n",
       "      <th></th>\n",
       "      <th></th>\n",
       "      <th></th>\n",
       "      <th></th>\n",
       "    </tr>\n",
       "  </thead>\n",
       "  <tbody>\n",
       "    <tr>\n",
       "      <th>0</th>\n",
       "      <td>0.998633</td>\n",
       "      <td>1.002361</td>\n",
       "      <td>0.998830</td>\n",
       "      <td>0.999421</td>\n",
       "      <td>80066.574333</td>\n",
       "      <td>75761.060815</td>\n",
       "      <td>75068.254392</td>\n",
       "      <td>42.737834</td>\n",
       "      <td>79899.696328</td>\n",
       "      <td>75056.728999</td>\n",
       "      <td>75796.324315</td>\n",
       "      <td>11793.484738</td>\n",
       "    </tr>\n",
       "    <tr>\n",
       "      <th>1</th>\n",
       "      <td>0.808339</td>\n",
       "      <td>1.103160</td>\n",
       "      <td>1.479557</td>\n",
       "      <td>1.709309</td>\n",
       "      <td>72224.315789</td>\n",
       "      <td>110631.443609</td>\n",
       "      <td>57576.714286</td>\n",
       "      <td>40.344300</td>\n",
       "      <td>76269.855424</td>\n",
       "      <td>52426.016471</td>\n",
       "      <td>84260.943093</td>\n",
       "      <td>40413.001086</td>\n",
       "    </tr>\n",
       "  </tbody>\n",
       "</table>\n",
       "</div>"
      ],
      "text/plain": [
       "                  ratio.total.discharges  ratio.avg.covered.charges  \\\n",
       "y_by_aom_cluster                                                      \n",
       "0                               0.998633                   1.002361   \n",
       "1                               0.808339                   1.103160   \n",
       "\n",
       "                  ratio.avg.total.payments  ratio.avg.medicare.payments  \\\n",
       "y_by_aom_cluster                                                          \n",
       "0                                 0.998830                     0.999421   \n",
       "1                                 1.479557                     1.709309   \n",
       "\n",
       "                  Average.Covered.Charges  Average.Medicare.Payments  \\\n",
       "y_by_aom_cluster                                                       \n",
       "0                            80066.574333               75761.060815   \n",
       "1                            72224.315789              110631.443609   \n",
       "\n",
       "                  Average.Total.Payments  mean.total.discharges  \\\n",
       "y_by_aom_cluster                                                  \n",
       "0                           75068.254392              42.737834   \n",
       "1                           57576.714286              40.344300   \n",
       "\n",
       "                  mean.avg.covered.charges  mean.avg.total.payments  \\\n",
       "y_by_aom_cluster                                                      \n",
       "0                             79899.696328             75056.728999   \n",
       "1                             76269.855424             52426.016471   \n",
       "\n",
       "                  mean.avg.medicare.payments  y_by_aom_score  \n",
       "y_by_aom_cluster                                              \n",
       "0                               75796.324315    11793.484738  \n",
       "1                               84260.943093    40413.001086  "
      ]
     },
     "execution_count": 47,
     "metadata": {},
     "output_type": "execute_result"
    }
   ],
   "source": [
    "df_test.groupby('y_by_aom_cluster').mean()"
   ]
  },
  {
   "cell_type": "markdown",
   "metadata": {},
   "source": [
    "Cluster 1 is the one that has greater distance between points again, therefore leading me to pick this cluster"
   ]
  },
  {
   "cell_type": "markdown",
   "metadata": {},
   "source": [
    "## Maximum of average "
   ]
  },
  {
   "cell_type": "code",
   "execution_count": 48,
   "metadata": {},
   "outputs": [
    {
     "data": {
      "image/png": "[encoded data removed]",
      "text/plain": [
       "<Figure size 432x288 with 1 Axes>"
      ]
     },
     "metadata": {
      "needs_background": "light"
     },
     "output_type": "display_data"
    }
   ],
   "source": [
    "y_by_moa = moa(test_scores, n_buckets=5)\n",
    "plt.hist(y_by_moa, bins='auto')\n",
    "plt.title(\"Maximum of Average\")\n",
    "plt.show()"
   ]
  },
  {
   "cell_type": "code",
   "execution_count": 49,
   "metadata": {},
   "outputs": [
    {
     "data": {
      "text/plain": [
       "0    48834\n",
       "1       86\n",
       "Name: y_by_moa_cluster, dtype: int64"
      ]
     },
     "execution_count": 49,
     "metadata": {},
     "output_type": "execute_result"
    }
   ],
   "source": [
    "df_test = X_test.copy()\n",
    "df_test['y_by_moa_score'] = y_by_moa\n",
    "df_test['y_by_moa_cluster'] = np.where(df_test['y_by_moa_score']<40000, 0, 1)\n",
    "df_test['y_by_moa_cluster'].value_counts()"
   ]
  },
  {
   "cell_type": "code",
   "execution_count": 50,
   "metadata": {},
   "outputs": [
    {
     "data": {
      "text/html": [
       "<div>\n",
       "<style scoped>\n",
       "    .dataframe tbody tr th:only-of-type {\n",
       "        vertical-align: middle;\n",
       "    }\n",
       "\n",
       "    .dataframe tbody tr th {\n",
       "        vertical-align: top;\n",
       "    }\n",
       "\n",
       "    .dataframe thead th {\n",
       "        text-align: right;\n",
       "    }\n",
       "</style>\n",
       "<table border=\"1\" class=\"dataframe\">\n",
       "  <thead>\n",
       "    <tr style=\"text-align: right;\">\n",
       "      <th></th>\n",
       "      <th>ratio.total.discharges</th>\n",
       "      <th>ratio.avg.covered.charges</th>\n",
       "      <th>ratio.avg.total.payments</th>\n",
       "      <th>ratio.avg.medicare.payments</th>\n",
       "      <th>Average.Covered.Charges</th>\n",
       "      <th>Average.Medicare.Payments</th>\n",
       "      <th>Average.Total.Payments</th>\n",
       "      <th>mean.total.discharges</th>\n",
       "      <th>mean.avg.covered.charges</th>\n",
       "      <th>mean.avg.total.payments</th>\n",
       "      <th>mean.avg.medicare.payments</th>\n",
       "      <th>y_by_moa_score</th>\n",
       "    </tr>\n",
       "    <tr>\n",
       "      <th>y_by_moa_cluster</th>\n",
       "      <th></th>\n",
       "      <th></th>\n",
       "      <th></th>\n",
       "      <th></th>\n",
       "      <th></th>\n",
       "      <th></th>\n",
       "      <th></th>\n",
       "      <th></th>\n",
       "      <th></th>\n",
       "      <th></th>\n",
       "      <th></th>\n",
       "      <th></th>\n",
       "    </tr>\n",
       "  </thead>\n",
       "  <tbody>\n",
       "    <tr>\n",
       "      <th>0</th>\n",
       "      <td>0.998475</td>\n",
       "      <td>1.002238</td>\n",
       "      <td>0.999155</td>\n",
       "      <td>1.000080</td>\n",
       "      <td>80055.159479</td>\n",
       "      <td>75785.116579</td>\n",
       "      <td>75054.756153</td>\n",
       "      <td>42.736221</td>\n",
       "      <td>79904.453240</td>\n",
       "      <td>75037.941973</td>\n",
       "      <td>75797.941171</td>\n",
       "      <td>12691.740472</td>\n",
       "    </tr>\n",
       "    <tr>\n",
       "      <th>1</th>\n",
       "      <td>0.793879</td>\n",
       "      <td>1.228407</td>\n",
       "      <td>1.557858</td>\n",
       "      <td>1.722893</td>\n",
       "      <td>74420.209302</td>\n",
       "      <td>116028.755814</td>\n",
       "      <td>55682.186047</td>\n",
       "      <td>39.952610</td>\n",
       "      <td>71584.953617</td>\n",
       "      <td>50726.041097</td>\n",
       "      <td>87968.844670</td>\n",
       "      <td>46319.030519</td>\n",
       "    </tr>\n",
       "  </tbody>\n",
       "</table>\n",
       "</div>"
      ],
      "text/plain": [
       "                  ratio.total.discharges  ratio.avg.covered.charges  \\\n",
       "y_by_moa_cluster                                                      \n",
       "0                               0.998475                   1.002238   \n",
       "1                               0.793879                   1.228407   \n",
       "\n",
       "                  ratio.avg.total.payments  ratio.avg.medicare.payments  \\\n",
       "y_by_moa_cluster                                                          \n",
       "0                                 0.999155                     1.000080   \n",
       "1                                 1.557858                     1.722893   \n",
       "\n",
       "                  Average.Covered.Charges  Average.Medicare.Payments  \\\n",
       "y_by_moa_cluster                                                       \n",
       "0                            80055.159479               75785.116579   \n",
       "1                            74420.209302              116028.755814   \n",
       "\n",
       "                  Average.Total.Payments  mean.total.discharges  \\\n",
       "y_by_moa_cluster                                                  \n",
       "0                           75054.756153              42.736221   \n",
       "1                           55682.186047              39.952610   \n",
       "\n",
       "                  mean.avg.covered.charges  mean.avg.total.payments  \\\n",
       "y_by_moa_cluster                                                      \n",
       "0                             79904.453240             75037.941973   \n",
       "1                             71584.953617             50726.041097   \n",
       "\n",
       "                  mean.avg.medicare.payments  y_by_moa_score  \n",
       "y_by_moa_cluster                                              \n",
       "0                               75797.941171    12691.740472  \n",
       "1                               87968.844670    46319.030519  "
      ]
     },
     "execution_count": 50,
     "metadata": {},
     "output_type": "execute_result"
    }
   ],
   "source": [
    "df_test.groupby('y_by_moa_cluster').mean()"
   ]
  },
  {
   "cell_type": "markdown",
   "metadata": {},
   "source": [
    "# IForest"
   ]
  },
  {
   "cell_type": "markdown",
   "metadata": {},
   "source": [
    "## Model 1"
   ]
  },
  {
   "cell_type": "code",
   "execution_count": 60,
   "metadata": {},
   "outputs": [
    {
     "data": {
      "text/plain": [
       "IForest(behaviour='new', bootstrap=False, contamination=0.1, max_features=1.0,\n",
       "    max_samples=100, n_estimators=100, n_jobs=1, random_state=None,\n",
       "    verbose=0)"
      ]
     },
     "execution_count": 60,
     "metadata": {},
     "output_type": "execute_result"
    }
   ],
   "source": [
    "from pyod.models.iforest import IForest\n",
    "clf1 = IForest(behaviour=\"new\", max_samples=100) \n",
    "clf1.fit(X_train)"
   ]
  },
  {
   "cell_type": "markdown",
   "metadata": {},
   "source": [
    "the number of samples is dependent upon the number of observations in the dataset, so here I chose to stck with 100 for the initial run"
   ]
  },
  {
   "cell_type": "code",
   "execution_count": 61,
   "metadata": {},
   "outputs": [
    {
     "data": {
      "text/plain": [
       "0    11611.530104\n",
       "1    12064.953524\n",
       "2     7353.506845\n",
       "3    10302.601804\n",
       "4    13518.992255\n",
       "dtype: float64"
      ]
     },
     "execution_count": 61,
     "metadata": {},
     "output_type": "execute_result"
    }
   ],
   "source": [
    "y_test_scores1 = clf.decision_function(X_test)\n",
    "y_test_scores1 = pd.Series(y_test_scores1)\n",
    "y_test_scores1.head()"
   ]
  },
  {
   "cell_type": "code",
   "execution_count": 62,
   "metadata": {},
   "outputs": [
    {
     "data": {
      "image/png": "[encoded data removed]",
      "text/plain": [
       "<Figure size 432x288 with 1 Axes>"
      ]
     },
     "metadata": {
      "needs_background": "light"
     },
     "output_type": "display_data"
    }
   ],
   "source": [
    "plt.hist(y_test_scores1, bins='auto')\n",
    "plt.title(\"Histogram with 'auto' bins\")\n",
    "plt.show()"
   ]
  },
  {
   "cell_type": "code",
   "execution_count": 63,
   "metadata": {},
   "outputs": [
    {
     "data": {
      "text/plain": [
       "1    34408\n",
       "0    14512\n",
       "Name: cluster, dtype: int64"
      ]
     },
     "execution_count": 63,
     "metadata": {},
     "output_type": "execute_result"
    }
   ],
   "source": [
    "X_test_cluster = X_test.copy()\n",
    "X_test_cluster['distance'] = y_test_scores1\n",
    "X_test_cluster['cluster'] = np.where(X_test_cluster['distance']<40000, 0, 1)\n",
    "X_test_cluster['cluster'].value_counts()"
   ]
  },
  {
   "cell_type": "code",
   "execution_count": 64,
   "metadata": {},
   "outputs": [
    {
     "data": {
      "text/html": [
       "<div>\n",
       "<style scoped>\n",
       "    .dataframe tbody tr th:only-of-type {\n",
       "        vertical-align: middle;\n",
       "    }\n",
       "\n",
       "    .dataframe tbody tr th {\n",
       "        vertical-align: top;\n",
       "    }\n",
       "\n",
       "    .dataframe thead th {\n",
       "        text-align: right;\n",
       "    }\n",
       "</style>\n",
       "<table border=\"1\" class=\"dataframe\">\n",
       "  <thead>\n",
       "    <tr style=\"text-align: right;\">\n",
       "      <th></th>\n",
       "      <th>ratio.total.discharges</th>\n",
       "      <th>ratio.avg.covered.charges</th>\n",
       "      <th>ratio.avg.total.payments</th>\n",
       "      <th>ratio.avg.medicare.payments</th>\n",
       "      <th>Average.Covered.Charges</th>\n",
       "      <th>Average.Medicare.Payments</th>\n",
       "      <th>Average.Total.Payments</th>\n",
       "      <th>mean.total.discharges</th>\n",
       "      <th>mean.avg.covered.charges</th>\n",
       "      <th>mean.avg.total.payments</th>\n",
       "      <th>mean.avg.medicare.payments</th>\n",
       "      <th>distance</th>\n",
       "    </tr>\n",
       "    <tr>\n",
       "      <th>cluster</th>\n",
       "      <th></th>\n",
       "      <th></th>\n",
       "      <th></th>\n",
       "      <th></th>\n",
       "      <th></th>\n",
       "      <th></th>\n",
       "      <th></th>\n",
       "      <th></th>\n",
       "      <th></th>\n",
       "      <th></th>\n",
       "      <th></th>\n",
       "      <th></th>\n",
       "    </tr>\n",
       "  </thead>\n",
       "  <tbody>\n",
       "    <tr>\n",
       "      <th>0</th>\n",
       "      <td>0.993973</td>\n",
       "      <td>1.003940</td>\n",
       "      <td>1.00032</td>\n",
       "      <td>0.995715</td>\n",
       "      <td>81541.930127</td>\n",
       "      <td>75805.790243</td>\n",
       "      <td>76892.399945</td>\n",
       "      <td>39.467359</td>\n",
       "      <td>81181.647679</td>\n",
       "      <td>76815.295148</td>\n",
       "      <td>76093.108916</td>\n",
       "      <td>12931.139814</td>\n",
       "    </tr>\n",
       "    <tr>\n",
       "      <th>1</th>\n",
       "      <td>0.999862</td>\n",
       "      <td>1.002085</td>\n",
       "      <td>1.00006</td>\n",
       "      <td>1.003728</td>\n",
       "      <td>79414.011451</td>\n",
       "      <td>75876.982911</td>\n",
       "      <td>74231.286968</td>\n",
       "      <td>44.107946</td>\n",
       "      <td>79344.986760</td>\n",
       "      <td>74227.555646</td>\n",
       "      <td>75703.870704</td>\n",
       "      <td>46653.082133</td>\n",
       "    </tr>\n",
       "  </tbody>\n",
       "</table>\n",
       "</div>"
      ],
      "text/plain": [
       "         ratio.total.discharges  ratio.avg.covered.charges  \\\n",
       "cluster                                                      \n",
       "0                      0.993973                   1.003940   \n",
       "1                      0.999862                   1.002085   \n",
       "\n",
       "         ratio.avg.total.payments  ratio.avg.medicare.payments  \\\n",
       "cluster                                                          \n",
       "0                         1.00032                     0.995715   \n",
       "1                         1.00006                     1.003728   \n",
       "\n",
       "         Average.Covered.Charges  Average.Medicare.Payments  \\\n",
       "cluster                                                       \n",
       "0                   81541.930127               75805.790243   \n",
       "1                   79414.011451               75876.982911   \n",
       "\n",
       "         Average.Total.Payments  mean.total.discharges  \\\n",
       "cluster                                                  \n",
       "0                  76892.399945              39.467359   \n",
       "1                  74231.286968              44.107946   \n",
       "\n",
       "         mean.avg.covered.charges  mean.avg.total.payments  \\\n",
       "cluster                                                      \n",
       "0                    81181.647679             76815.295148   \n",
       "1                    79344.986760             74227.555646   \n",
       "\n",
       "         mean.avg.medicare.payments      distance  \n",
       "cluster                                            \n",
       "0                      76093.108916  12931.139814  \n",
       "1                      75703.870704  46653.082133  "
      ]
     },
     "execution_count": 64,
     "metadata": {},
     "output_type": "execute_result"
    }
   ],
   "source": [
    "X_test_cluster.groupby('cluster').mean()"
   ]
  },
  {
   "cell_type": "markdown",
   "metadata": {},
   "source": [
    "## Model 2"
   ]
  },
  {
   "cell_type": "code",
   "execution_count": 100,
   "metadata": {},
   "outputs": [
    {
     "data": {
      "text/plain": [
       "IForest(behaviour='new', bootstrap=False, contamination=0.1, max_features=1.0,\n",
       "    max_samples=80, n_estimators=100, n_jobs=1, random_state=None,\n",
       "    verbose=0)"
      ]
     },
     "execution_count": 100,
     "metadata": {},
     "output_type": "execute_result"
    }
   ],
   "source": [
    "clf2 = IForest(behaviour=\"new\", max_samples=80) \n",
    "clf2.fit(X_train)"
   ]
  },
  {
   "cell_type": "code",
   "execution_count": 103,
   "metadata": {},
   "outputs": [
    {
     "data": {
      "text/plain": [
       "0   -0.020502\n",
       "1   -0.064601\n",
       "2   -0.063677\n",
       "3   -0.108538\n",
       "4    0.000589\n",
       "dtype: float64"
      ]
     },
     "execution_count": 103,
     "metadata": {},
     "output_type": "execute_result"
    }
   ],
   "source": [
    "y_test_scores1 = clf2.decision_function(X_test)  # outlier scores\n",
    "y_test_scores1 = pd.Series(y_test_scores1)\n",
    "y_test_scores1.head()"
   ]
  },
  {
   "cell_type": "code",
   "execution_count": 67,
   "metadata": {},
   "outputs": [
    {
     "data": {
      "image/png": "[encoded data removed]",
      "text/plain": [
       "<Figure size 432x288 with 1 Axes>"
      ]
     },
     "metadata": {
      "needs_background": "light"
     },
     "output_type": "display_data"
    }
   ],
   "source": [
    "plt.hist(y_test_scores1, bins='auto')  # arguments are passed to np.histogram\n",
    "plt.title(\"Histogram with 'auto' bins\")\n",
    "plt.show()"
   ]
  },
  {
   "cell_type": "code",
   "execution_count": 72,
   "metadata": {},
   "outputs": [
    {
     "data": {
      "text/plain": [
       "1    34382\n",
       "0    14538\n",
       "Name: cluster, dtype: int64"
      ]
     },
     "execution_count": 72,
     "metadata": {},
     "output_type": "execute_result"
    }
   ],
   "source": [
    "X_test_cluster = X_test.copy()\n",
    "X_test_cluster['distance'] = y_test_scores1\n",
    "X_test_cluster['cluster'] = np.where(X_test_cluster['distance']<0.15, 0, 1)\n",
    "X_test_cluster['cluster'].value_counts()"
   ]
  },
  {
   "cell_type": "markdown",
   "metadata": {},
   "source": [
    "Here I chose a cutoff value of 0.15 which is not present on the histogram, and I could not minimize the number of samples in the cluster so I think there may be an underlying issue that I am not aware of here"
   ]
  },
  {
   "cell_type": "code",
   "execution_count": 73,
   "metadata": {},
   "outputs": [
    {
     "data": {
      "text/html": [
       "<div>\n",
       "<style scoped>\n",
       "    .dataframe tbody tr th:only-of-type {\n",
       "        vertical-align: middle;\n",
       "    }\n",
       "\n",
       "    .dataframe tbody tr th {\n",
       "        vertical-align: top;\n",
       "    }\n",
       "\n",
       "    .dataframe thead th {\n",
       "        text-align: right;\n",
       "    }\n",
       "</style>\n",
       "<table border=\"1\" class=\"dataframe\">\n",
       "  <thead>\n",
       "    <tr style=\"text-align: right;\">\n",
       "      <th></th>\n",
       "      <th>ratio.total.discharges</th>\n",
       "      <th>ratio.avg.covered.charges</th>\n",
       "      <th>ratio.avg.total.payments</th>\n",
       "      <th>ratio.avg.medicare.payments</th>\n",
       "      <th>Average.Covered.Charges</th>\n",
       "      <th>Average.Medicare.Payments</th>\n",
       "      <th>Average.Total.Payments</th>\n",
       "      <th>mean.total.discharges</th>\n",
       "      <th>mean.avg.covered.charges</th>\n",
       "      <th>mean.avg.total.payments</th>\n",
       "      <th>mean.avg.medicare.payments</th>\n",
       "      <th>distance</th>\n",
       "    </tr>\n",
       "    <tr>\n",
       "      <th>cluster</th>\n",
       "      <th></th>\n",
       "      <th></th>\n",
       "      <th></th>\n",
       "      <th></th>\n",
       "      <th></th>\n",
       "      <th></th>\n",
       "      <th></th>\n",
       "      <th></th>\n",
       "      <th></th>\n",
       "      <th></th>\n",
       "      <th></th>\n",
       "      <th></th>\n",
       "    </tr>\n",
       "  </thead>\n",
       "  <tbody>\n",
       "    <tr>\n",
       "      <th>0</th>\n",
       "      <td>0.993714</td>\n",
       "      <td>1.003873</td>\n",
       "      <td>1.000276</td>\n",
       "      <td>0.995420</td>\n",
       "      <td>81557.032260</td>\n",
       "      <td>75778.719769</td>\n",
       "      <td>76874.449443</td>\n",
       "      <td>39.459118</td>\n",
       "      <td>81205.870198</td>\n",
       "      <td>76796.677569</td>\n",
       "      <td>76082.213977</td>\n",
       "      <td>-0.068916</td>\n",
       "    </tr>\n",
       "    <tr>\n",
       "      <th>1</th>\n",
       "      <td>0.999977</td>\n",
       "      <td>1.002112</td>\n",
       "      <td>1.000078</td>\n",
       "      <td>1.003859</td>\n",
       "      <td>79406.016549</td>\n",
       "      <td>75888.483160</td>\n",
       "      <td>74236.864755</td>\n",
       "      <td>44.114940</td>\n",
       "      <td>79333.355669</td>\n",
       "      <td>74233.470983</td>\n",
       "      <td>75708.183148</td>\n",
       "      <td>NaN</td>\n",
       "    </tr>\n",
       "  </tbody>\n",
       "</table>\n",
       "</div>"
      ],
      "text/plain": [
       "         ratio.total.discharges  ratio.avg.covered.charges  \\\n",
       "cluster                                                      \n",
       "0                      0.993714                   1.003873   \n",
       "1                      0.999977                   1.002112   \n",
       "\n",
       "         ratio.avg.total.payments  ratio.avg.medicare.payments  \\\n",
       "cluster                                                          \n",
       "0                        1.000276                     0.995420   \n",
       "1                        1.000078                     1.003859   \n",
       "\n",
       "         Average.Covered.Charges  Average.Medicare.Payments  \\\n",
       "cluster                                                       \n",
       "0                   81557.032260               75778.719769   \n",
       "1                   79406.016549               75888.483160   \n",
       "\n",
       "         Average.Total.Payments  mean.total.discharges  \\\n",
       "cluster                                                  \n",
       "0                  76874.449443              39.459118   \n",
       "1                  74236.864755              44.114940   \n",
       "\n",
       "         mean.avg.covered.charges  mean.avg.total.payments  \\\n",
       "cluster                                                      \n",
       "0                    81205.870198             76796.677569   \n",
       "1                    79333.355669             74233.470983   \n",
       "\n",
       "         mean.avg.medicare.payments  distance  \n",
       "cluster                                        \n",
       "0                      76082.213977 -0.068916  \n",
       "1                      75708.183148       NaN  "
      ]
     },
     "execution_count": 73,
     "metadata": {},
     "output_type": "execute_result"
    }
   ],
   "source": [
    "X_test_cluster.groupby('cluster').mean()"
   ]
  },
  {
   "cell_type": "markdown",
   "metadata": {},
   "source": [
    "## Model 3"
   ]
  },
  {
   "cell_type": "code",
   "execution_count": 74,
   "metadata": {},
   "outputs": [
    {
     "data": {
      "text/plain": [
       "IForest(behaviour='new', bootstrap=False, contamination=0.1, max_features=1.0,\n",
       "    max_samples=60, n_estimators=100, n_jobs=1, random_state=None,\n",
       "    verbose=0)"
      ]
     },
     "execution_count": 74,
     "metadata": {},
     "output_type": "execute_result"
    }
   ],
   "source": [
    "clf3 = IForest(behaviour=\"new\", max_samples=60) \n",
    "clf3.fit(X_train)"
   ]
  },
  {
   "cell_type": "code",
   "execution_count": 75,
   "metadata": {},
   "outputs": [
    {
     "data": {
      "text/plain": [
       "0   -0.041751\n",
       "1   -0.083491\n",
       "2   -0.080880\n",
       "3   -0.083112\n",
       "4   -0.008770\n",
       "dtype: float64"
      ]
     },
     "execution_count": 75,
     "metadata": {},
     "output_type": "execute_result"
    }
   ],
   "source": [
    "y_test_scores1 = clf3.decision_function(X_test)  # outlier scores\n",
    "y_test_scores1 = pd.Series(y_test_scores1)\n",
    "y_test_scores1.head()"
   ]
  },
  {
   "cell_type": "code",
   "execution_count": 76,
   "metadata": {},
   "outputs": [
    {
     "data": {
      "image/png": "[encoded data removed]",
      "text/plain": [
       "<Figure size 432x288 with 1 Axes>"
      ]
     },
     "metadata": {
      "needs_background": "light"
     },
     "output_type": "display_data"
    }
   ],
   "source": [
    "plt.hist(y_test_scores1, bins='auto')  # arguments are passed to np.histogram\n",
    "plt.title(\"Histogram with 'auto' bins\")\n",
    "plt.show()"
   ]
  },
  {
   "cell_type": "code",
   "execution_count": 80,
   "metadata": {},
   "outputs": [
    {
     "data": {
      "text/plain": [
       "1    48920\n",
       "Name: cluster, dtype: int64"
      ]
     },
     "execution_count": 80,
     "metadata": {},
     "output_type": "execute_result"
    }
   ],
   "source": [
    "X_test_cluster = X_test.copy()\n",
    "X_test_cluster['distance'] = y_test_scores\n",
    "X_test_cluster['cluster'] = np.where(X_test_cluster['distance']<0.12, 0, 1)\n",
    "X_test_cluster['cluster'].value_counts()"
   ]
  },
  {
   "cell_type": "code",
   "execution_count": 81,
   "metadata": {},
   "outputs": [
    {
     "data": {
      "text/html": [
       "<div>\n",
       "<style scoped>\n",
       "    .dataframe tbody tr th:only-of-type {\n",
       "        vertical-align: middle;\n",
       "    }\n",
       "\n",
       "    .dataframe tbody tr th {\n",
       "        vertical-align: top;\n",
       "    }\n",
       "\n",
       "    .dataframe thead th {\n",
       "        text-align: right;\n",
       "    }\n",
       "</style>\n",
       "<table border=\"1\" class=\"dataframe\">\n",
       "  <thead>\n",
       "    <tr style=\"text-align: right;\">\n",
       "      <th></th>\n",
       "      <th>ratio.total.discharges</th>\n",
       "      <th>ratio.avg.covered.charges</th>\n",
       "      <th>ratio.avg.total.payments</th>\n",
       "      <th>ratio.avg.medicare.payments</th>\n",
       "      <th>Average.Covered.Charges</th>\n",
       "      <th>Average.Medicare.Payments</th>\n",
       "      <th>Average.Total.Payments</th>\n",
       "      <th>mean.total.discharges</th>\n",
       "      <th>mean.avg.covered.charges</th>\n",
       "      <th>mean.avg.total.payments</th>\n",
       "      <th>mean.avg.medicare.payments</th>\n",
       "      <th>distance</th>\n",
       "    </tr>\n",
       "    <tr>\n",
       "      <th>cluster</th>\n",
       "      <th></th>\n",
       "      <th></th>\n",
       "      <th></th>\n",
       "      <th></th>\n",
       "      <th></th>\n",
       "      <th></th>\n",
       "      <th></th>\n",
       "      <th></th>\n",
       "      <th></th>\n",
       "      <th></th>\n",
       "      <th></th>\n",
       "      <th></th>\n",
       "    </tr>\n",
       "  </thead>\n",
       "  <tbody>\n",
       "    <tr>\n",
       "      <th>1</th>\n",
       "      <td>0.998115</td>\n",
       "      <td>1.002635</td>\n",
       "      <td>1.000137</td>\n",
       "      <td>1.001351</td>\n",
       "      <td>80045.253393</td>\n",
       "      <td>75855.863778</td>\n",
       "      <td>75020.699714</td>\n",
       "      <td>42.731327</td>\n",
       "      <td>79889.827791</td>\n",
       "      <td>74995.202327</td>\n",
       "      <td>75819.337281</td>\n",
       "      <td>6829.58625</td>\n",
       "    </tr>\n",
       "  </tbody>\n",
       "</table>\n",
       "</div>"
      ],
      "text/plain": [
       "         ratio.total.discharges  ratio.avg.covered.charges  \\\n",
       "cluster                                                      \n",
       "1                      0.998115                   1.002635   \n",
       "\n",
       "         ratio.avg.total.payments  ratio.avg.medicare.payments  \\\n",
       "cluster                                                          \n",
       "1                        1.000137                     1.001351   \n",
       "\n",
       "         Average.Covered.Charges  Average.Medicare.Payments  \\\n",
       "cluster                                                       \n",
       "1                   80045.253393               75855.863778   \n",
       "\n",
       "         Average.Total.Payments  mean.total.discharges  \\\n",
       "cluster                                                  \n",
       "1                  75020.699714              42.731327   \n",
       "\n",
       "         mean.avg.covered.charges  mean.avg.total.payments  \\\n",
       "cluster                                                      \n",
       "1                    79889.827791             74995.202327   \n",
       "\n",
       "         mean.avg.medicare.payments    distance  \n",
       "cluster                                          \n",
       "1                      75819.337281  6829.58625  "
      ]
     },
     "execution_count": 81,
     "metadata": {},
     "output_type": "execute_result"
    }
   ],
   "source": [
    "X_test_cluster.groupby('cluster').mean()"
   ]
  },
  {
   "cell_type": "markdown",
   "metadata": {},
   "source": [
    "## Model 4"
   ]
  },
  {
   "cell_type": "code",
   "execution_count": 104,
   "metadata": {},
   "outputs": [
    {
     "data": {
      "text/plain": [
       "IForest(behaviour='new', bootstrap=False, contamination=0.1, max_features=1.0,\n",
       "    max_samples=400, n_estimators=100, n_jobs=1, random_state=None,\n",
       "    verbose=0)"
      ]
     },
     "execution_count": 104,
     "metadata": {},
     "output_type": "execute_result"
    }
   ],
   "source": [
    "clf4 = IForest(behaviour=\"new\", max_samples=400) \n",
    "clf4.fit(X_train)"
   ]
  },
  {
   "cell_type": "code",
   "execution_count": 105,
   "metadata": {},
   "outputs": [
    {
     "data": {
      "text/plain": [
       "0   -0.020392\n",
       "1   -0.086330\n",
       "2   -0.079219\n",
       "3   -0.101830\n",
       "4    0.004942\n",
       "dtype: float64"
      ]
     },
     "execution_count": 105,
     "metadata": {},
     "output_type": "execute_result"
    }
   ],
   "source": [
    "y_test_scores1 = clf4.decision_function(X_test)  # outlier scores\n",
    "y_test_scores1 = pd.Series(y_test_scores1)\n",
    "y_test_scores1.head()"
   ]
  },
  {
   "cell_type": "code",
   "execution_count": 106,
   "metadata": {},
   "outputs": [
    {
     "data": {
      "image/png": "[encoded data removed]",
      "text/plain": [
       "<Figure size 432x288 with 1 Axes>"
      ]
     },
     "metadata": {
      "needs_background": "light"
     },
     "output_type": "display_data"
    }
   ],
   "source": [
    "plt.hist(y_test_scores1, bins='auto')  # arguments are passed to np.histogram\n",
    "plt.title(\"Histogram with 'auto' bins\")\n",
    "plt.show()"
   ]
  },
  {
   "cell_type": "code",
   "execution_count": 107,
   "metadata": {},
   "outputs": [
    {
     "data": {
      "text/plain": [
       "1    48920\n",
       "Name: cluster, dtype: int64"
      ]
     },
     "execution_count": 107,
     "metadata": {},
     "output_type": "execute_result"
    }
   ],
   "source": [
    "X_test_cluster = X_test.copy()\n",
    "X_test_cluster['distance'] = y_test_scores\n",
    "X_test_cluster['cluster'] = np.where(X_test_cluster['distance']<0.12, 0, 1)\n",
    "X_test_cluster['cluster'].value_counts()"
   ]
  },
  {
   "cell_type": "markdown",
   "metadata": {},
   "source": [
    "Similar to what I saw when I sampled with 60 max samples I could not get a second cluster, so it leads me to believe that there is an issue somewhere."
   ]
  },
  {
   "cell_type": "markdown",
   "metadata": {},
   "source": [
    "# Model stability"
   ]
  },
  {
   "cell_type": "code",
   "execution_count": 108,
   "metadata": {},
   "outputs": [],
   "source": [
    "train_scores = pd.DataFrame({'clf1': clf1.decision_scores_,\n",
    "                             'clf2': clf2.decision_scores_,\n",
    "                             'clf3': clf3.decision_scores_,\n",
    "                             'clf4': clf4.decision_scores_\n",
    "                            })\n",
    "\n",
    "# The predictions of the test data need to be predicted using clf.decision_function(X_test)\n",
    "test_scores  = pd.DataFrame({'clf1': clf1.decision_function(X_test),\n",
    "                             'clf2': clf2.decision_function(X_test),\n",
    "                             'clf3': clf3.decision_function(X_test),\n",
    "                             'clf4': clf4.decision_function(X_test)\n",
    "                            })"
   ]
  },
  {
   "cell_type": "code",
   "execution_count": 109,
   "metadata": {},
   "outputs": [
    {
     "data": {
      "text/html": [
       "<div>\n",
       "<style scoped>\n",
       "    .dataframe tbody tr th:only-of-type {\n",
       "        vertical-align: middle;\n",
       "    }\n",
       "\n",
       "    .dataframe tbody tr th {\n",
       "        vertical-align: top;\n",
       "    }\n",
       "\n",
       "    .dataframe thead th {\n",
       "        text-align: right;\n",
       "    }\n",
       "</style>\n",
       "<table border=\"1\" class=\"dataframe\">\n",
       "  <thead>\n",
       "    <tr style=\"text-align: right;\">\n",
       "      <th></th>\n",
       "      <th>clf1</th>\n",
       "      <th>clf2</th>\n",
       "      <th>clf3</th>\n",
       "      <th>clf4</th>\n",
       "    </tr>\n",
       "  </thead>\n",
       "  <tbody>\n",
       "    <tr>\n",
       "      <th>0</th>\n",
       "      <td>0.007091</td>\n",
       "      <td>-0.004057</td>\n",
       "      <td>-0.048055</td>\n",
       "      <td>-0.007445</td>\n",
       "    </tr>\n",
       "    <tr>\n",
       "      <th>1</th>\n",
       "      <td>-0.007587</td>\n",
       "      <td>0.010066</td>\n",
       "      <td>0.024025</td>\n",
       "      <td>0.020877</td>\n",
       "    </tr>\n",
       "    <tr>\n",
       "      <th>2</th>\n",
       "      <td>-0.081594</td>\n",
       "      <td>-0.093569</td>\n",
       "      <td>-0.089872</td>\n",
       "      <td>-0.095353</td>\n",
       "    </tr>\n",
       "    <tr>\n",
       "      <th>3</th>\n",
       "      <td>-0.046027</td>\n",
       "      <td>-0.035710</td>\n",
       "      <td>-0.042993</td>\n",
       "      <td>-0.048686</td>\n",
       "    </tr>\n",
       "    <tr>\n",
       "      <th>4</th>\n",
       "      <td>-0.106025</td>\n",
       "      <td>-0.103566</td>\n",
       "      <td>-0.103939</td>\n",
       "      <td>-0.107911</td>\n",
       "    </tr>\n",
       "  </tbody>\n",
       "</table>\n",
       "</div>"
      ],
      "text/plain": [
       "       clf1      clf2      clf3      clf4\n",
       "0  0.007091 -0.004057 -0.048055 -0.007445\n",
       "1 -0.007587  0.010066  0.024025  0.020877\n",
       "2 -0.081594 -0.093569 -0.089872 -0.095353\n",
       "3 -0.046027 -0.035710 -0.042993 -0.048686\n",
       "4 -0.106025 -0.103566 -0.103939 -0.107911"
      ]
     },
     "execution_count": 109,
     "metadata": {},
     "output_type": "execute_result"
    }
   ],
   "source": [
    "train_scores.head()"
   ]
  },
  {
   "cell_type": "code",
   "execution_count": 110,
   "metadata": {},
   "outputs": [
    {
     "data": {
      "text/html": [
       "<div>\n",
       "<style scoped>\n",
       "    .dataframe tbody tr th:only-of-type {\n",
       "        vertical-align: middle;\n",
       "    }\n",
       "\n",
       "    .dataframe tbody tr th {\n",
       "        vertical-align: top;\n",
       "    }\n",
       "\n",
       "    .dataframe thead th {\n",
       "        text-align: right;\n",
       "    }\n",
       "</style>\n",
       "<table border=\"1\" class=\"dataframe\">\n",
       "  <thead>\n",
       "    <tr style=\"text-align: right;\">\n",
       "      <th></th>\n",
       "      <th>clf1</th>\n",
       "      <th>clf2</th>\n",
       "      <th>clf3</th>\n",
       "      <th>clf4</th>\n",
       "    </tr>\n",
       "  </thead>\n",
       "  <tbody>\n",
       "    <tr>\n",
       "      <th>0</th>\n",
       "      <td>-0.043768</td>\n",
       "      <td>-0.020502</td>\n",
       "      <td>-0.041751</td>\n",
       "      <td>-0.020392</td>\n",
       "    </tr>\n",
       "    <tr>\n",
       "      <th>1</th>\n",
       "      <td>-0.082689</td>\n",
       "      <td>-0.064601</td>\n",
       "      <td>-0.083491</td>\n",
       "      <td>-0.086330</td>\n",
       "    </tr>\n",
       "    <tr>\n",
       "      <th>2</th>\n",
       "      <td>-0.079276</td>\n",
       "      <td>-0.063677</td>\n",
       "      <td>-0.080880</td>\n",
       "      <td>-0.079219</td>\n",
       "    </tr>\n",
       "    <tr>\n",
       "      <th>3</th>\n",
       "      <td>-0.099654</td>\n",
       "      <td>-0.108538</td>\n",
       "      <td>-0.083112</td>\n",
       "      <td>-0.101830</td>\n",
       "    </tr>\n",
       "    <tr>\n",
       "      <th>4</th>\n",
       "      <td>0.034074</td>\n",
       "      <td>0.000589</td>\n",
       "      <td>-0.008770</td>\n",
       "      <td>0.004942</td>\n",
       "    </tr>\n",
       "  </tbody>\n",
       "</table>\n",
       "</div>"
      ],
      "text/plain": [
       "       clf1      clf2      clf3      clf4\n",
       "0 -0.043768 -0.020502 -0.041751 -0.020392\n",
       "1 -0.082689 -0.064601 -0.083491 -0.086330\n",
       "2 -0.079276 -0.063677 -0.080880 -0.079219\n",
       "3 -0.099654 -0.108538 -0.083112 -0.101830\n",
       "4  0.034074  0.000589 -0.008770  0.004942"
      ]
     },
     "execution_count": 110,
     "metadata": {},
     "output_type": "execute_result"
    }
   ],
   "source": [
    "test_scores.head()"
   ]
  },
  {
   "cell_type": "code",
   "execution_count": 111,
   "metadata": {},
   "outputs": [],
   "source": [
    "train_scores_norm, test_scores_norm = standardizer(train_scores,test_scores)"
   ]
  },
  {
   "cell_type": "markdown",
   "metadata": {},
   "source": [
    "## Average "
   ]
  },
  {
   "cell_type": "code",
   "execution_count": 112,
   "metadata": {},
   "outputs": [
    {
     "data": {
      "text/plain": [
       "array([-0.37779776, -0.29872071, -0.81729504,  1.59889488, -0.76473055,\n",
       "        1.46699861,  2.01156602,  1.04864485,  0.56195541])"
      ]
     },
     "execution_count": 112,
     "metadata": {},
     "output_type": "execute_result"
    }
   ],
   "source": [
    "y_by_average = average(test_scores_norm)\n",
    "y_by_average[1:10]"
   ]
  },
  {
   "cell_type": "code",
   "execution_count": 113,
   "metadata": {},
   "outputs": [
    {
     "data": {
      "image/png": "[encoded data removed]",
      "text/plain": [
       "<Figure size 432x288 with 1 Axes>"
      ]
     },
     "metadata": {
      "needs_background": "light"
     },
     "output_type": "display_data"
    }
   ],
   "source": [
    "y_by_average = average(test_scores_norm)\n",
    "plt.hist(y_by_average, bins='auto')  # arguments are passed to np.histogram\n",
    "plt.title(\"Combination by average\")\n",
    "plt.show()"
   ]
  },
  {
   "cell_type": "code",
   "execution_count": 114,
   "metadata": {},
   "outputs": [
    {
     "data": {
      "text/plain": [
       "0    48762\n",
       "1      158\n",
       "Name: y_by_average_cluster, dtype: int64"
      ]
     },
     "execution_count": 114,
     "metadata": {},
     "output_type": "execute_result"
    }
   ],
   "source": [
    "df_test = pd.DataFrame(X_test)\n",
    "df_test['y_by_average_score'] = y_by_average\n",
    "df_test['y_by_average_cluster'] = np.where(df_test['y_by_average_score']<3.4, 0, 1)\n",
    "df_test['y_by_average_cluster'].value_counts()"
   ]
  },
  {
   "cell_type": "markdown",
   "metadata": {},
   "source": [
    "I chose the cutoff value of 3.4 because it looked like it dips in samples before going up again so I wanted to isolate those cases because they are most likely outliers"
   ]
  },
  {
   "cell_type": "code",
   "execution_count": 115,
   "metadata": {},
   "outputs": [
    {
     "data": {
      "text/html": [
       "<div>\n",
       "<style scoped>\n",
       "    .dataframe tbody tr th:only-of-type {\n",
       "        vertical-align: middle;\n",
       "    }\n",
       "\n",
       "    .dataframe tbody tr th {\n",
       "        vertical-align: top;\n",
       "    }\n",
       "\n",
       "    .dataframe thead th {\n",
       "        text-align: right;\n",
       "    }\n",
       "</style>\n",
       "<table border=\"1\" class=\"dataframe\">\n",
       "  <thead>\n",
       "    <tr style=\"text-align: right;\">\n",
       "      <th></th>\n",
       "      <th>ratio.total.discharges</th>\n",
       "      <th>ratio.avg.covered.charges</th>\n",
       "      <th>ratio.avg.total.payments</th>\n",
       "      <th>ratio.avg.medicare.payments</th>\n",
       "      <th>Average.Covered.Charges</th>\n",
       "      <th>Average.Medicare.Payments</th>\n",
       "      <th>Average.Total.Payments</th>\n",
       "      <th>mean.total.discharges</th>\n",
       "      <th>mean.avg.covered.charges</th>\n",
       "      <th>mean.avg.total.payments</th>\n",
       "      <th>mean.avg.medicare.payments</th>\n",
       "      <th>y_by_average_score</th>\n",
       "    </tr>\n",
       "    <tr>\n",
       "      <th>y_by_average_cluster</th>\n",
       "      <th></th>\n",
       "      <th></th>\n",
       "      <th></th>\n",
       "      <th></th>\n",
       "      <th></th>\n",
       "      <th></th>\n",
       "      <th></th>\n",
       "      <th></th>\n",
       "      <th></th>\n",
       "      <th></th>\n",
       "      <th></th>\n",
       "      <th></th>\n",
       "    </tr>\n",
       "  </thead>\n",
       "  <tbody>\n",
       "    <tr>\n",
       "      <th>0</th>\n",
       "      <td>0.997670</td>\n",
       "      <td>1.002524</td>\n",
       "      <td>0.995088</td>\n",
       "      <td>0.993437</td>\n",
       "      <td>80016.607748</td>\n",
       "      <td>75664.153008</td>\n",
       "      <td>75046.254481</td>\n",
       "      <td>42.481507</td>\n",
       "      <td>79827.866106</td>\n",
       "      <td>75150.374334</td>\n",
       "      <td>75921.392045</td>\n",
       "      <td>-0.012592</td>\n",
       "    </tr>\n",
       "    <tr>\n",
       "      <th>1</th>\n",
       "      <td>1.135612</td>\n",
       "      <td>1.037107</td>\n",
       "      <td>2.558501</td>\n",
       "      <td>3.443758</td>\n",
       "      <td>88885.879747</td>\n",
       "      <td>135021.689873</td>\n",
       "      <td>67133.981013</td>\n",
       "      <td>119.830913</td>\n",
       "      <td>99012.458641</td>\n",
       "      <td>27105.978347</td>\n",
       "      <td>44323.170230</td>\n",
       "      <td>3.775056</td>\n",
       "    </tr>\n",
       "  </tbody>\n",
       "</table>\n",
       "</div>"
      ],
      "text/plain": [
       "                      ratio.total.discharges  ratio.avg.covered.charges  \\\n",
       "y_by_average_cluster                                                      \n",
       "0                                   0.997670                   1.002524   \n",
       "1                                   1.135612                   1.037107   \n",
       "\n",
       "                      ratio.avg.total.payments  ratio.avg.medicare.payments  \\\n",
       "y_by_average_cluster                                                          \n",
       "0                                     0.995088                     0.993437   \n",
       "1                                     2.558501                     3.443758   \n",
       "\n",
       "                      Average.Covered.Charges  Average.Medicare.Payments  \\\n",
       "y_by_average_cluster                                                       \n",
       "0                                80016.607748               75664.153008   \n",
       "1                                88885.879747              135021.689873   \n",
       "\n",
       "                      Average.Total.Payments  mean.total.discharges  \\\n",
       "y_by_average_cluster                                                  \n",
       "0                               75046.254481              42.481507   \n",
       "1                               67133.981013             119.830913   \n",
       "\n",
       "                      mean.avg.covered.charges  mean.avg.total.payments  \\\n",
       "y_by_average_cluster                                                      \n",
       "0                                 79827.866106             75150.374334   \n",
       "1                                 99012.458641             27105.978347   \n",
       "\n",
       "                      mean.avg.medicare.payments  y_by_average_score  \n",
       "y_by_average_cluster                                                  \n",
       "0                                   75921.392045           -0.012592  \n",
       "1                                   44323.170230            3.775056  "
      ]
     },
     "execution_count": 115,
     "metadata": {},
     "output_type": "execute_result"
    }
   ],
   "source": [
    "df_test.groupby('y_by_average_cluster').mean()"
   ]
  },
  {
   "cell_type": "markdown",
   "metadata": {},
   "source": [
    "I would say cluster 1 is most likely outliers because the score is much larger then in cluster 0"
   ]
  },
  {
   "cell_type": "markdown",
   "metadata": {},
   "source": [
    "## Maximum of maximum "
   ]
  },
  {
   "cell_type": "code",
   "execution_count": 117,
   "metadata": {},
   "outputs": [
    {
     "data": {
      "image/png": "[encoded data removed]",
      "text/plain": [
       "<Figure size 432x288 with 1 Axes>"
      ]
     },
     "metadata": {
      "needs_background": "light"
     },
     "output_type": "display_data"
    }
   ],
   "source": [
    "y_by_maximization = maximization(test_scores_norm)\n",
    "plt.hist(y_by_maximization, bins='auto')  # arguments are passed to np.histogram\n",
    "plt.title(\"Combination by max\")\n",
    "plt.show()"
   ]
  },
  {
   "cell_type": "code",
   "execution_count": 118,
   "metadata": {},
   "outputs": [
    {
     "data": {
      "text/plain": [
       "0    48788\n",
       "1      132\n",
       "Name: y_by_maximization_cluster, dtype: int64"
      ]
     },
     "execution_count": 118,
     "metadata": {},
     "output_type": "execute_result"
    }
   ],
   "source": [
    "df_test = pd.DataFrame(X_test)\n",
    "df_test['y_by_maximization_score'] = y_by_maximization\n",
    "df_test['y_by_maximization_cluster'] = np.where(df_test['y_by_maximization_score']<4, 0, 1)\n",
    "df_test['y_by_maximization_cluster'].value_counts()"
   ]
  },
  {
   "cell_type": "code",
   "execution_count": 119,
   "metadata": {},
   "outputs": [
    {
     "data": {
      "text/html": [
       "<div>\n",
       "<style scoped>\n",
       "    .dataframe tbody tr th:only-of-type {\n",
       "        vertical-align: middle;\n",
       "    }\n",
       "\n",
       "    .dataframe tbody tr th {\n",
       "        vertical-align: top;\n",
       "    }\n",
       "\n",
       "    .dataframe thead th {\n",
       "        text-align: right;\n",
       "    }\n",
       "</style>\n",
       "<table border=\"1\" class=\"dataframe\">\n",
       "  <thead>\n",
       "    <tr style=\"text-align: right;\">\n",
       "      <th></th>\n",
       "      <th>ratio.total.discharges</th>\n",
       "      <th>ratio.avg.covered.charges</th>\n",
       "      <th>ratio.avg.total.payments</th>\n",
       "      <th>ratio.avg.medicare.payments</th>\n",
       "      <th>Average.Covered.Charges</th>\n",
       "      <th>Average.Medicare.Payments</th>\n",
       "      <th>Average.Total.Payments</th>\n",
       "      <th>mean.total.discharges</th>\n",
       "      <th>mean.avg.covered.charges</th>\n",
       "      <th>mean.avg.total.payments</th>\n",
       "      <th>mean.avg.medicare.payments</th>\n",
       "      <th>y_by_average_score</th>\n",
       "      <th>y_by_average_cluster</th>\n",
       "      <th>y_by_maximization_score</th>\n",
       "    </tr>\n",
       "    <tr>\n",
       "      <th>y_by_maximization_cluster</th>\n",
       "      <th></th>\n",
       "      <th></th>\n",
       "      <th></th>\n",
       "      <th></th>\n",
       "      <th></th>\n",
       "      <th></th>\n",
       "      <th></th>\n",
       "      <th></th>\n",
       "      <th></th>\n",
       "      <th></th>\n",
       "      <th></th>\n",
       "      <th></th>\n",
       "      <th></th>\n",
       "      <th></th>\n",
       "    </tr>\n",
       "  </thead>\n",
       "  <tbody>\n",
       "    <tr>\n",
       "      <th>0</th>\n",
       "      <td>0.997608</td>\n",
       "      <td>1.002550</td>\n",
       "      <td>0.993670</td>\n",
       "      <td>0.995034</td>\n",
       "      <td>80031.683160</td>\n",
       "      <td>75702.211753</td>\n",
       "      <td>74976.135033</td>\n",
       "      <td>42.57270</td>\n",
       "      <td>79846.072176</td>\n",
       "      <td>75116.978096</td>\n",
       "      <td>75897.100478</td>\n",
       "      <td>-0.010592</td>\n",
       "      <td>0.000963</td>\n",
       "      <td>0.233852</td>\n",
       "    </tr>\n",
       "    <tr>\n",
       "      <th>1</th>\n",
       "      <td>1.185608</td>\n",
       "      <td>1.034091</td>\n",
       "      <td>3.390534</td>\n",
       "      <td>3.336141</td>\n",
       "      <td>85060.893939</td>\n",
       "      <td>132646.583333</td>\n",
       "      <td>91492.075758</td>\n",
       "      <td>101.36098</td>\n",
       "      <td>96062.168440</td>\n",
       "      <td>29986.140313</td>\n",
       "      <td>47077.588614</td>\n",
       "      <td>3.781955</td>\n",
       "      <td>0.840909</td>\n",
       "      <td>4.410499</td>\n",
       "    </tr>\n",
       "  </tbody>\n",
       "</table>\n",
       "</div>"
      ],
      "text/plain": [
       "                           ratio.total.discharges  ratio.avg.covered.charges  \\\n",
       "y_by_maximization_cluster                                                      \n",
       "0                                        0.997608                   1.002550   \n",
       "1                                        1.185608                   1.034091   \n",
       "\n",
       "                           ratio.avg.total.payments  \\\n",
       "y_by_maximization_cluster                             \n",
       "0                                          0.993670   \n",
       "1                                          3.390534   \n",
       "\n",
       "                           ratio.avg.medicare.payments  \\\n",
       "y_by_maximization_cluster                                \n",
       "0                                             0.995034   \n",
       "1                                             3.336141   \n",
       "\n",
       "                           Average.Covered.Charges  Average.Medicare.Payments  \\\n",
       "y_by_maximization_cluster                                                       \n",
       "0                                     80031.683160               75702.211753   \n",
       "1                                     85060.893939              132646.583333   \n",
       "\n",
       "                           Average.Total.Payments  mean.total.discharges  \\\n",
       "y_by_maximization_cluster                                                  \n",
       "0                                    74976.135033               42.57270   \n",
       "1                                    91492.075758              101.36098   \n",
       "\n",
       "                           mean.avg.covered.charges  mean.avg.total.payments  \\\n",
       "y_by_maximization_cluster                                                      \n",
       "0                                      79846.072176             75116.978096   \n",
       "1                                      96062.168440             29986.140313   \n",
       "\n",
       "                           mean.avg.medicare.payments  y_by_average_score  \\\n",
       "y_by_maximization_cluster                                                   \n",
       "0                                        75897.100478           -0.010592   \n",
       "1                                        47077.588614            3.781955   \n",
       "\n",
       "                           y_by_average_cluster  y_by_maximization_score  \n",
       "y_by_maximization_cluster                                                 \n",
       "0                                      0.000963                 0.233852  \n",
       "1                                      0.840909                 4.410499  "
      ]
     },
     "execution_count": 119,
     "metadata": {},
     "output_type": "execute_result"
    }
   ],
   "source": [
    "df_test.groupby('y_by_maximization_cluster').mean()"
   ]
  },
  {
   "cell_type": "markdown",
   "metadata": {},
   "source": [
    "I chose cluster 1 because again the score is larger for this one in comparison to cluster 0 "
   ]
  },
  {
   "cell_type": "markdown",
   "metadata": {},
   "source": [
    "## AutoEncoder"
   ]
  },
  {
   "cell_type": "markdown",
   "metadata": {},
   "source": [
    "### Model 1"
   ]
  },
  {
   "cell_type": "code",
   "execution_count": 10,
   "metadata": {},
   "outputs": [
    {
     "name": "stdout",
     "output_type": "stream",
     "text": [
      "Model: \"sequential_1\"\n",
      "_________________________________________________________________\n",
      "Layer (type)                 Output Shape              Param #   \n",
      "=================================================================\n",
      "dense_1 (Dense)              (None, 11)                132       \n",
      "_________________________________________________________________\n",
      "dropout_1 (Dropout)          (None, 11)                0         \n",
      "_________________________________________________________________\n",
      "dense_2 (Dense)              (None, 11)                132       \n",
      "_________________________________________________________________\n",
      "dropout_2 (Dropout)          (None, 11)                0         \n",
      "_________________________________________________________________\n",
      "dense_3 (Dense)              (None, 25)                300       \n",
      "_________________________________________________________________\n",
      "dropout_3 (Dropout)          (None, 25)                0         \n",
      "_________________________________________________________________\n",
      "dense_4 (Dense)              (None, 2)                 52        \n",
      "_________________________________________________________________\n",
      "dropout_4 (Dropout)          (None, 2)                 0         \n",
      "_________________________________________________________________\n",
      "dense_5 (Dense)              (None, 2)                 6         \n",
      "_________________________________________________________________\n",
      "dropout_5 (Dropout)          (None, 2)                 0         \n",
      "_________________________________________________________________\n",
      "dense_6 (Dense)              (None, 25)                75        \n",
      "_________________________________________________________________\n",
      "dropout_6 (Dropout)          (None, 25)                0         \n",
      "_________________________________________________________________\n",
      "dense_7 (Dense)              (None, 11)                286       \n",
      "=================================================================\n",
      "Total params: 983\n",
      "Trainable params: 983\n",
      "Non-trainable params: 0\n",
      "_________________________________________________________________\n",
      "None\n",
      "Train on 102730 samples, validate on 11415 samples\n",
      "Epoch 1/100\n",
      "102730/102730 [==============================] - 12s 112us/step - loss: 4.4794 - val_loss: 1.5321\n",
      "Epoch 2/100\n",
      "102730/102730 [==============================] - 11s 106us/step - loss: 1.2471 - val_loss: 1.0947\n",
      "Epoch 3/100\n",
      "102730/102730 [==============================] - 11s 104us/step - loss: 1.0399 - val_loss: 1.0237\n",
      "Epoch 4/100\n",
      "102730/102730 [==============================] - 11s 105us/step - loss: 1.0066 - val_loss: 1.0115\n",
      "Epoch 5/100\n",
      "102730/102730 [==============================] - 11s 106us/step - loss: 1.0006 - val_loss: 1.0091\n",
      "Epoch 6/100\n",
      "102730/102730 [==============================] - 11s 103us/step - loss: 0.9994 - val_loss: 1.0086\n",
      "Epoch 7/100\n",
      "102730/102730 [==============================] - 11s 104us/step - loss: 0.9992 - val_loss: 1.0085\n",
      "Epoch 8/100\n",
      "102730/102730 [==============================] - 11s 105us/step - loss: 0.9991 - val_loss: 1.0085\n",
      "Epoch 9/100\n",
      "102730/102730 [==============================] - 11s 105us/step - loss: 0.9991 - val_loss: 1.0085\n",
      "Epoch 10/100\n",
      "102730/102730 [==============================] - 11s 106us/step - loss: 0.9991 - val_loss: 1.0085\n",
      "Epoch 11/100\n",
      "102730/102730 [==============================] - 11s 105us/step - loss: 0.9991 - val_loss: 1.0085\n",
      "Epoch 12/100\n",
      "102730/102730 [==============================] - 11s 103us/step - loss: 0.9991 - val_loss: 1.0085\n",
      "Epoch 13/100\n",
      "102730/102730 [==============================] - 11s 102us/step - loss: 0.9991 - val_loss: 1.0085\n",
      "Epoch 14/100\n",
      "102730/102730 [==============================] - 11s 103us/step - loss: 0.9991 - val_loss: 1.0085\n",
      "Epoch 15/100\n",
      "102730/102730 [==============================] - 11s 103us/step - loss: 0.9991 - val_loss: 1.0085\n",
      "Epoch 16/100\n",
      "102730/102730 [==============================] - 11s 104us/step - loss: 0.9991 - val_loss: 1.0085\n",
      "Epoch 17/100\n",
      "102730/102730 [==============================] - 11s 104us/step - loss: 0.9991 - val_loss: 1.0085\n",
      "Epoch 18/100\n",
      "102730/102730 [==============================] - 11s 103us/step - loss: 0.9991 - val_loss: 1.0085\n",
      "Epoch 19/100\n",
      "102730/102730 [==============================] - 11s 105us/step - loss: 0.9991 - val_loss: 1.0085\n",
      "Epoch 20/100\n",
      "102730/102730 [==============================] - 11s 103us/step - loss: 0.9991 - val_loss: 1.0085\n",
      "Epoch 21/100\n",
      "102730/102730 [==============================] - 11s 103us/step - loss: 0.9991 - val_loss: 1.0085\n",
      "Epoch 22/100\n",
      "102730/102730 [==============================] - 10s 102us/step - loss: 0.9991 - val_loss: 1.0085\n",
      "Epoch 23/100\n",
      "102730/102730 [==============================] - 11s 105us/step - loss: 0.9991 - val_loss: 1.0085\n",
      "Epoch 24/100\n",
      "102730/102730 [==============================] - 11s 106us/step - loss: 0.9991 - val_loss: 1.0085\n",
      "Epoch 25/100\n",
      "102730/102730 [==============================] - 11s 106us/step - loss: 0.9991 - val_loss: 1.0085\n",
      "Epoch 26/100\n",
      "102730/102730 [==============================] - 11s 102us/step - loss: 0.9991 - val_loss: 1.0085\n",
      "Epoch 27/100\n",
      "102730/102730 [==============================] - 11s 103us/step - loss: 0.9991 - val_loss: 1.0085\n",
      "Epoch 28/100\n",
      "102730/102730 [==============================] - 11s 105us/step - loss: 0.9991 - val_loss: 1.0085\n",
      "Epoch 29/100\n",
      "102730/102730 [==============================] - 10s 101us/step - loss: 0.9991 - val_loss: 1.0085\n",
      "Epoch 30/100\n",
      "102730/102730 [==============================] - 11s 103us/step - loss: 0.9991 - val_loss: 1.0085\n",
      "Epoch 31/100\n",
      "102730/102730 [==============================] - 11s 105us/step - loss: 0.9991 - val_loss: 1.0085\n",
      "Epoch 32/100\n",
      "102730/102730 [==============================] - 11s 111us/step - loss: 0.9991 - val_loss: 1.0085\n",
      "Epoch 33/100\n",
      "102730/102730 [==============================] - 10s 102us/step - loss: 0.9991 - val_loss: 1.0085\n",
      "Epoch 34/100\n",
      "102730/102730 [==============================] - 11s 103us/step - loss: 0.9991 - val_loss: 1.0085\n",
      "Epoch 35/100\n",
      "102730/102730 [==============================] - 11s 104us/step - loss: 0.9991 - val_loss: 1.0085\n",
      "Epoch 36/100\n",
      "102730/102730 [==============================] - 11s 103us/step - loss: 0.9991 - val_loss: 1.0085\n",
      "Epoch 37/100\n",
      "102730/102730 [==============================] - 11s 103us/step - loss: 0.9991 - val_loss: 1.0085\n",
      "Epoch 38/100\n",
      "102730/102730 [==============================] - 10s 102us/step - loss: 0.9991 - val_loss: 1.0085\n",
      "Epoch 39/100\n",
      "102730/102730 [==============================] - 10s 102us/step - loss: 0.9991 - val_loss: 1.0085\n",
      "Epoch 40/100\n",
      "102730/102730 [==============================] - 11s 104us/step - loss: 0.9991 - val_loss: 1.0085\n",
      "Epoch 41/100\n",
      "102730/102730 [==============================] - 11s 105us/step - loss: 0.9991 - val_loss: 1.0085\n",
      "Epoch 42/100\n",
      "102730/102730 [==============================] - 10s 102us/step - loss: 0.9991 - val_loss: 1.0085\n",
      "Epoch 43/100\n",
      "102730/102730 [==============================] - 10s 102us/step - loss: 0.9991 - val_loss: 1.0085\n",
      "Epoch 44/100\n",
      "102730/102730 [==============================] - 10s 101us/step - loss: 0.9991 - val_loss: 1.0085\n",
      "Epoch 45/100\n",
      "102730/102730 [==============================] - 11s 103us/step - loss: 0.9991 - val_loss: 1.0085\n",
      "Epoch 46/100\n",
      "102730/102730 [==============================] - 10s 101us/step - loss: 0.9991 - val_loss: 1.0085\n",
      "Epoch 47/100\n",
      "102730/102730 [==============================] - 10s 102us/step - loss: 0.9991 - val_loss: 1.0085\n",
      "Epoch 48/100\n",
      "102730/102730 [==============================] - 10s 100us/step - loss: 0.9991 - val_loss: 1.0085\n",
      "Epoch 49/100\n",
      "102730/102730 [==============================] - 10s 100us/step - loss: 0.9991 - val_loss: 1.0085\n",
      "Epoch 50/100\n",
      "102730/102730 [==============================] - 10s 100us/step - loss: 0.9991 - val_loss: 1.0085\n",
      "Epoch 51/100\n",
      "102730/102730 [==============================] - 10s 95us/step - loss: 0.9991 - val_loss: 1.0085\n",
      "Epoch 52/100\n",
      "102730/102730 [==============================] - 10s 99us/step - loss: 0.9991 - val_loss: 1.0085\n",
      "Epoch 53/100\n",
      "102730/102730 [==============================] - 10s 99us/step - loss: 0.9991 - val_loss: 1.0085\n",
      "Epoch 54/100\n",
      "102730/102730 [==============================] - 10s 100us/step - loss: 0.9991 - val_loss: 1.0085\n",
      "Epoch 55/100\n",
      "102730/102730 [==============================] - 10s 102us/step - loss: 0.9991 - val_loss: 1.0085\n"
     ]
    },
    {
     "name": "stdout",
     "output_type": "stream",
     "text": [
      "Epoch 56/100\n",
      "102730/102730 [==============================] - 10s 102us/step - loss: 0.9991 - val_loss: 1.0085\n",
      "Epoch 57/100\n",
      "102730/102730 [==============================] - 10s 101us/step - loss: 0.9991 - val_loss: 1.0085\n",
      "Epoch 58/100\n",
      "102730/102730 [==============================] - 10s 101us/step - loss: 0.9991 - val_loss: 1.0085\n",
      "Epoch 59/100\n",
      "102730/102730 [==============================] - 11s 103us/step - loss: 0.9991 - val_loss: 1.0085\n",
      "Epoch 60/100\n",
      "102730/102730 [==============================] - 10s 102us/step - loss: 0.9991 - val_loss: 1.0085\n",
      "Epoch 61/100\n",
      "102730/102730 [==============================] - 11s 103us/step - loss: 0.9991 - val_loss: 1.0085\n",
      "Epoch 62/100\n",
      "102730/102730 [==============================] - 10s 100us/step - loss: 0.9991 - val_loss: 1.0085\n",
      "Epoch 63/100\n",
      "102730/102730 [==============================] - 10s 102us/step - loss: 0.9991 - val_loss: 1.0085\n",
      "Epoch 64/100\n",
      "102730/102730 [==============================] - 10s 101us/step - loss: 0.9991 - val_loss: 1.0085\n",
      "Epoch 65/100\n",
      "102730/102730 [==============================] - 10s 101us/step - loss: 0.9991 - val_loss: 1.0085\n",
      "Epoch 66/100\n",
      "102730/102730 [==============================] - 11s 105us/step - loss: 0.9991 - val_loss: 1.0085\n",
      "Epoch 67/100\n",
      "102730/102730 [==============================] - 10s 102us/step - loss: 0.9991 - val_loss: 1.0085\n",
      "Epoch 68/100\n",
      "102730/102730 [==============================] - 10s 100us/step - loss: 0.9991 - val_loss: 1.0085\n",
      "Epoch 69/100\n",
      "102730/102730 [==============================] - 11s 102us/step - loss: 0.9991 - val_loss: 1.0085\n",
      "Epoch 70/100\n",
      "102730/102730 [==============================] - 12s 112us/step - loss: 0.9991 - val_loss: 1.0085\n",
      "Epoch 71/100\n",
      "102730/102730 [==============================] - 11s 106us/step - loss: 0.9991 - val_loss: 1.0085\n",
      "Epoch 72/100\n",
      "102730/102730 [==============================] - 11s 104us/step - loss: 0.9991 - val_loss: 1.0085\n",
      "Epoch 73/100\n",
      "102730/102730 [==============================] - 11s 109us/step - loss: 0.9991 - val_loss: 1.0085\n",
      "Epoch 74/100\n",
      "102730/102730 [==============================] - 10s 100us/step - loss: 0.9991 - val_loss: 1.0085\n",
      "Epoch 75/100\n",
      "102730/102730 [==============================] - 10s 101us/step - loss: 0.9991 - val_loss: 1.0085\n",
      "Epoch 76/100\n",
      "102730/102730 [==============================] - 10s 101us/step - loss: 0.9991 - val_loss: 1.0085\n",
      "Epoch 77/100\n",
      "102730/102730 [==============================] - 10s 101us/step - loss: 0.9991 - val_loss: 1.0085\n",
      "Epoch 78/100\n",
      "102730/102730 [==============================] - 10s 101us/step - loss: 0.9991 - val_loss: 1.0085\n",
      "Epoch 79/100\n",
      "102730/102730 [==============================] - 11s 104us/step - loss: 0.9991 - val_loss: 1.0085\n",
      "Epoch 80/100\n",
      "102730/102730 [==============================] - 10s 100us/step - loss: 0.9991 - val_loss: 1.0085\n",
      "Epoch 81/100\n",
      "102730/102730 [==============================] - 11s 105us/step - loss: 0.9991 - val_loss: 1.0085\n",
      "Epoch 82/100\n",
      "102730/102730 [==============================] - 11s 104us/step - loss: 0.9991 - val_loss: 1.0085\n",
      "Epoch 83/100\n",
      "102730/102730 [==============================] - 10s 100us/step - loss: 0.9991 - val_loss: 1.0085\n",
      "Epoch 84/100\n",
      "102730/102730 [==============================] - 10s 102us/step - loss: 0.9991 - val_loss: 1.0085\n",
      "Epoch 85/100\n",
      "102730/102730 [==============================] - 10s 101us/step - loss: 0.9991 - val_loss: 1.0085\n",
      "Epoch 86/100\n",
      "102730/102730 [==============================] - 10s 100us/step - loss: 0.9991 - val_loss: 1.0085\n",
      "Epoch 87/100\n",
      "102730/102730 [==============================] - 10s 101us/step - loss: 0.9991 - val_loss: 1.0085\n",
      "Epoch 88/100\n",
      "102730/102730 [==============================] - 10s 100us/step - loss: 0.9991 - val_loss: 1.0085\n",
      "Epoch 89/100\n",
      "102730/102730 [==============================] - 10s 101us/step - loss: 0.9991 - val_loss: 1.0085\n",
      "Epoch 90/100\n",
      "102730/102730 [==============================] - 10s 101us/step - loss: 0.9991 - val_loss: 1.0085\n",
      "Epoch 91/100\n",
      "102730/102730 [==============================] - 10s 100us/step - loss: 0.9991 - val_loss: 1.0085\n",
      "Epoch 92/100\n",
      "102730/102730 [==============================] - 10s 102us/step - loss: 0.9991 - val_loss: 1.0085\n",
      "Epoch 93/100\n",
      "102730/102730 [==============================] - 10s 101us/step - loss: 0.9991 - val_loss: 1.0085\n",
      "Epoch 94/100\n",
      "102730/102730 [==============================] - 10s 101us/step - loss: 0.9991 - val_loss: 1.0085\n",
      "Epoch 95/100\n",
      "102730/102730 [==============================] - 10s 101us/step - loss: 0.9991 - val_loss: 1.0085\n",
      "Epoch 96/100\n",
      "102730/102730 [==============================] - 10s 102us/step - loss: 0.9991 - val_loss: 1.0085\n",
      "Epoch 97/100\n",
      "102730/102730 [==============================] - 11s 103us/step - loss: 0.9991 - val_loss: 1.0085\n",
      "Epoch 98/100\n",
      "102730/102730 [==============================] - 11s 108us/step - loss: 0.9991 - val_loss: 1.0085\n",
      "Epoch 99/100\n",
      "102730/102730 [==============================] - 11s 104us/step - loss: 0.9991 - val_loss: 1.0085\n",
      "Epoch 100/100\n",
      "102730/102730 [==============================] - 11s 105us/step - loss: 0.9991 - val_loss: 1.0085\n"
     ]
    },
    {
     "data": {
      "text/plain": [
       "AutoEncoder(batch_size=32, contamination=0.1, dropout_rate=0.2, epochs=100,\n",
       "      hidden_activation='relu', hidden_neurons=[25, 2, 2, 25],\n",
       "      l2_regularizer=0.1,\n",
       "      loss=<function mean_squared_error at 0x0000028CA2868AE8>,\n",
       "      optimizer='adam', output_activation='sigmoid', preprocessing=True,\n",
       "      random_state=None, validation_size=0.1, verbose=1)"
      ]
     },
     "execution_count": 10,
     "metadata": {},
     "output_type": "execute_result"
    }
   ],
   "source": [
    "ae_clf1 = AutoEncoder(hidden_neurons =[25, 2, 2, 25])\n",
    "ae_clf1.fit(X_train)"
   ]
  },
  {
   "cell_type": "code",
   "execution_count": 11,
   "metadata": {},
   "outputs": [],
   "source": [
    "y_train_scores = ae_clf1.decision_scores_ "
   ]
  },
  {
   "cell_type": "code",
   "execution_count": 12,
   "metadata": {},
   "outputs": [],
   "source": [
    "y_train_scores = ae_clf1.decision_scores_ \n",
    "y_test_pred = ae_clf1.predict(X_test)\n",
    "y_test_scores = ae_clf1.decision_function(X_test)\n",
    "y_test_pred = pd.Series(y_test_pred)\n",
    "y_test_scores = pd.Series(y_test_scores)"
   ]
  },
  {
   "cell_type": "code",
   "execution_count": 13,
   "metadata": {},
   "outputs": [
    {
     "data": {
      "text/plain": [
       "0    43977\n",
       "1     4943\n",
       "dtype: int64"
      ]
     },
     "execution_count": 13,
     "metadata": {},
     "output_type": "execute_result"
    }
   ],
   "source": [
    "y_test_pred.value_counts()"
   ]
  },
  {
   "cell_type": "code",
   "execution_count": 14,
   "metadata": {},
   "outputs": [
    {
     "data": {
      "image/png": "[encoded data removed]",
      "text/plain": [
       "<Figure size 432x288 with 1 Axes>"
      ]
     },
     "metadata": {
      "needs_background": "light"
     },
     "output_type": "display_data"
    }
   ],
   "source": [
    "plt.hist(y_test_scores, bins='auto')  # arguments are passed to np.histogram\n",
    "plt.title(\"Histogram for Model ae_clf1 Anomaly Scores\")\n",
    "plt.show()"
   ]
  },
  {
   "cell_type": "code",
   "execution_count": 16,
   "metadata": {},
   "outputs": [
    {
     "data": {
      "text/plain": [
       "1    34386\n",
       "0    14534\n",
       "Name: cluster, dtype: int64"
      ]
     },
     "execution_count": 16,
     "metadata": {},
     "output_type": "execute_result"
    }
   ],
   "source": [
    "df_test = X_test.copy()\n",
    "df_test['score'] = y_test_scores\n",
    "df_test['cluster'] = np.where(df_test['score']<14.5, 0, 1)\n",
    "df_test['cluster'].value_counts()"
   ]
  },
  {
   "cell_type": "markdown",
   "metadata": {},
   "source": [
    "I chose a cutoff value of 14.5 because I was trying to classify a small number of potential fraud cases to be examined later on"
   ]
  },
  {
   "cell_type": "code",
   "execution_count": 17,
   "metadata": {},
   "outputs": [
    {
     "data": {
      "text/html": [
       "<div>\n",
       "<style scoped>\n",
       "    .dataframe tbody tr th:only-of-type {\n",
       "        vertical-align: middle;\n",
       "    }\n",
       "\n",
       "    .dataframe tbody tr th {\n",
       "        vertical-align: top;\n",
       "    }\n",
       "\n",
       "    .dataframe thead th {\n",
       "        text-align: right;\n",
       "    }\n",
       "</style>\n",
       "<table border=\"1\" class=\"dataframe\">\n",
       "  <thead>\n",
       "    <tr style=\"text-align: right;\">\n",
       "      <th></th>\n",
       "      <th>ratio.total.discharges</th>\n",
       "      <th>ratio.avg.covered.charges</th>\n",
       "      <th>ratio.avg.total.payments</th>\n",
       "      <th>ratio.avg.medicare.payments</th>\n",
       "      <th>Average.Covered.Charges</th>\n",
       "      <th>Average.Medicare.Payments</th>\n",
       "      <th>Average.Total.Payments</th>\n",
       "      <th>mean.total.discharges</th>\n",
       "      <th>mean.avg.covered.charges</th>\n",
       "      <th>mean.avg.total.payments</th>\n",
       "      <th>mean.avg.medicare.payments</th>\n",
       "      <th>score</th>\n",
       "    </tr>\n",
       "    <tr>\n",
       "      <th>cluster</th>\n",
       "      <th></th>\n",
       "      <th></th>\n",
       "      <th></th>\n",
       "      <th></th>\n",
       "      <th></th>\n",
       "      <th></th>\n",
       "      <th></th>\n",
       "      <th></th>\n",
       "      <th></th>\n",
       "      <th></th>\n",
       "      <th></th>\n",
       "      <th></th>\n",
       "    </tr>\n",
       "  </thead>\n",
       "  <tbody>\n",
       "    <tr>\n",
       "      <th>0</th>\n",
       "      <td>0.993662</td>\n",
       "      <td>1.003928</td>\n",
       "      <td>1.000257</td>\n",
       "      <td>0.995378</td>\n",
       "      <td>81564.176345</td>\n",
       "      <td>75777.040801</td>\n",
       "      <td>76871.173043</td>\n",
       "      <td>39.459900</td>\n",
       "      <td>81211.173513</td>\n",
       "      <td>76794.916323</td>\n",
       "      <td>76083.372430</td>\n",
       "      <td>3.082569</td>\n",
       "    </tr>\n",
       "    <tr>\n",
       "      <th>1</th>\n",
       "      <td>0.999998</td>\n",
       "      <td>1.002089</td>\n",
       "      <td>1.000086</td>\n",
       "      <td>1.003876</td>\n",
       "      <td>79403.247165</td>\n",
       "      <td>75889.180044</td>\n",
       "      <td>74238.556418</td>\n",
       "      <td>44.114068</td>\n",
       "      <td>79331.331929</td>\n",
       "      <td>74234.513581</td>\n",
       "      <td>75707.737012</td>\n",
       "      <td>16.638611</td>\n",
       "    </tr>\n",
       "  </tbody>\n",
       "</table>\n",
       "</div>"
      ],
      "text/plain": [
       "         ratio.total.discharges  ratio.avg.covered.charges  \\\n",
       "cluster                                                      \n",
       "0                      0.993662                   1.003928   \n",
       "1                      0.999998                   1.002089   \n",
       "\n",
       "         ratio.avg.total.payments  ratio.avg.medicare.payments  \\\n",
       "cluster                                                          \n",
       "0                        1.000257                     0.995378   \n",
       "1                        1.000086                     1.003876   \n",
       "\n",
       "         Average.Covered.Charges  Average.Medicare.Payments  \\\n",
       "cluster                                                       \n",
       "0                   81564.176345               75777.040801   \n",
       "1                   79403.247165               75889.180044   \n",
       "\n",
       "         Average.Total.Payments  mean.total.discharges  \\\n",
       "cluster                                                  \n",
       "0                  76871.173043              39.459900   \n",
       "1                  74238.556418              44.114068   \n",
       "\n",
       "         mean.avg.covered.charges  mean.avg.total.payments  \\\n",
       "cluster                                                      \n",
       "0                    81211.173513             76794.916323   \n",
       "1                    79331.331929             74234.513581   \n",
       "\n",
       "         mean.avg.medicare.payments      score  \n",
       "cluster                                         \n",
       "0                      76083.372430   3.082569  \n",
       "1                      75707.737012  16.638611  "
      ]
     },
     "execution_count": 17,
     "metadata": {},
     "output_type": "execute_result"
    }
   ],
   "source": [
    "df_test.groupby('cluster').mean()"
   ]
  },
  {
   "cell_type": "markdown",
   "metadata": {},
   "source": []
  },
  {
   "cell_type": "markdown",
   "metadata": {},
   "source": [
    "### Model 2"
   ]
  },
  {
   "cell_type": "code",
   "execution_count": 18,
   "metadata": {},
   "outputs": [
    {
     "name": "stdout",
     "output_type": "stream",
     "text": [
      "Model: \"sequential_2\"\n",
      "_________________________________________________________________\n",
      "Layer (type)                 Output Shape              Param #   \n",
      "=================================================================\n",
      "dense_8 (Dense)              (None, 11)                132       \n",
      "_________________________________________________________________\n",
      "dropout_7 (Dropout)          (None, 11)                0         \n",
      "_________________________________________________________________\n",
      "dense_9 (Dense)              (None, 11)                132       \n",
      "_________________________________________________________________\n",
      "dropout_8 (Dropout)          (None, 11)                0         \n",
      "_________________________________________________________________\n",
      "dense_10 (Dense)             (None, 25)                300       \n",
      "_________________________________________________________________\n",
      "dropout_9 (Dropout)          (None, 25)                0         \n",
      "_________________________________________________________________\n",
      "dense_11 (Dense)             (None, 10)                260       \n",
      "_________________________________________________________________\n",
      "dropout_10 (Dropout)         (None, 10)                0         \n",
      "_________________________________________________________________\n",
      "dense_12 (Dense)             (None, 2)                 22        \n",
      "_________________________________________________________________\n",
      "dropout_11 (Dropout)         (None, 2)                 0         \n",
      "_________________________________________________________________\n",
      "dense_13 (Dense)             (None, 10)                30        \n",
      "_________________________________________________________________\n",
      "dropout_12 (Dropout)         (None, 10)                0         \n",
      "_________________________________________________________________\n",
      "dense_14 (Dense)             (None, 25)                275       \n",
      "_________________________________________________________________\n",
      "dropout_13 (Dropout)         (None, 25)                0         \n",
      "_________________________________________________________________\n",
      "dense_15 (Dense)             (None, 11)                286       \n",
      "=================================================================\n",
      "Total params: 1,437\n",
      "Trainable params: 1,437\n",
      "Non-trainable params: 0\n",
      "_________________________________________________________________\n",
      "None\n",
      "Train on 102730 samples, validate on 11415 samples\n",
      "Epoch 1/100\n",
      "102730/102730 [==============================] - 13s 129us/step - loss: 3.9618 - val_loss: 1.4166\n",
      "Epoch 2/100\n",
      "102730/102730 [==============================] - 12s 118us/step - loss: 1.2089 - val_loss: 1.1037\n",
      "Epoch 3/100\n",
      "102730/102730 [==============================] - 12s 117us/step - loss: 1.0389 - val_loss: 1.0318\n",
      "Epoch 4/100\n",
      "102730/102730 [==============================] - 12s 121us/step - loss: 1.0044 - val_loss: 1.0200\n",
      "Epoch 5/100\n",
      "102730/102730 [==============================] - 13s 127us/step - loss: 0.9992 - val_loss: 1.0181\n",
      "Epoch 6/100\n",
      "102730/102730 [==============================] - 12s 117us/step - loss: 0.9983 - val_loss: 1.0178\n",
      "Epoch 7/100\n",
      "102730/102730 [==============================] - 12s 117us/step - loss: 0.9981 - val_loss: 1.0177\n",
      "Epoch 8/100\n",
      "102730/102730 [==============================] - 12s 116us/step - loss: 0.9981 - val_loss: 1.0177\n",
      "Epoch 9/100\n",
      "102730/102730 [==============================] - 12s 117us/step - loss: 0.9981 - val_loss: 1.0176\n",
      "Epoch 10/100\n",
      "102730/102730 [==============================] - 12s 116us/step - loss: 0.9980 - val_loss: 1.0176\n",
      "Epoch 11/100\n",
      "102730/102730 [==============================] - 12s 115us/step - loss: 0.9980 - val_loss: 1.0176\n",
      "Epoch 12/100\n",
      "102730/102730 [==============================] - 12s 114us/step - loss: 0.9980 - val_loss: 1.0176\n",
      "Epoch 13/100\n",
      "102730/102730 [==============================] - 12s 113us/step - loss: 0.9980 - val_loss: 1.0176\n",
      "Epoch 14/100\n",
      "102730/102730 [==============================] - 12s 112us/step - loss: 0.9980 - val_loss: 1.0176\n",
      "Epoch 15/100\n",
      "102730/102730 [==============================] - 11s 112us/step - loss: 0.9980 - val_loss: 1.0176\n",
      "Epoch 16/100\n",
      "102730/102730 [==============================] - 12s 113us/step - loss: 0.9980 - val_loss: 1.0176\n",
      "Epoch 17/100\n",
      "102730/102730 [==============================] - 12s 113us/step - loss: 0.9980 - val_loss: 1.0176\n",
      "Epoch 18/100\n",
      "102730/102730 [==============================] - 12s 113us/step - loss: 0.9980 - val_loss: 1.0176\n",
      "Epoch 19/100\n",
      "102730/102730 [==============================] - 12s 113us/step - loss: 0.9980 - val_loss: 1.0176\n",
      "Epoch 20/100\n",
      "102730/102730 [==============================] - 12s 113us/step - loss: 0.9980 - val_loss: 1.0176\n",
      "Epoch 21/100\n",
      "102730/102730 [==============================] - 12s 112us/step - loss: 0.9980 - val_loss: 1.0176\n",
      "Epoch 22/100\n",
      "102730/102730 [==============================] - 12s 114us/step - loss: 0.9980 - val_loss: 1.0176\n",
      "Epoch 23/100\n",
      "102730/102730 [==============================] - 12s 112us/step - loss: 0.9980 - val_loss: 1.0176\n",
      "Epoch 24/100\n",
      "102730/102730 [==============================] - 12s 113us/step - loss: 0.9980 - val_loss: 1.0176\n",
      "Epoch 25/100\n",
      "102730/102730 [==============================] - 11s 111us/step - loss: 0.9980 - val_loss: 1.0176\n",
      "Epoch 26/100\n",
      "102730/102730 [==============================] - 11s 108us/step - loss: 0.9980 - val_loss: 1.0176\n",
      "Epoch 27/100\n",
      "102730/102730 [==============================] - 11s 108us/step - loss: 0.9980 - val_loss: 1.0176\n",
      "Epoch 28/100\n",
      "102730/102730 [==============================] - 11s 111us/step - loss: 0.9980 - val_loss: 1.0176\n",
      "Epoch 29/100\n",
      "102730/102730 [==============================] - 11s 110us/step - loss: 0.9980 - val_loss: 1.0176\n",
      "Epoch 30/100\n",
      "102730/102730 [==============================] - 11s 112us/step - loss: 0.9980 - val_loss: 1.0176\n",
      "Epoch 31/100\n",
      "102730/102730 [==============================] - 12s 114us/step - loss: 0.9980 - val_loss: 1.0176\n",
      "Epoch 32/100\n",
      "102730/102730 [==============================] - 12s 113us/step - loss: 0.9980 - val_loss: 1.0176\n",
      "Epoch 33/100\n",
      "102730/102730 [==============================] - 11s 111us/step - loss: 0.9980 - val_loss: 1.0176\n",
      "Epoch 34/100\n",
      "102730/102730 [==============================] - 11s 111us/step - loss: 0.9980 - val_loss: 1.0176\n",
      "Epoch 35/100\n",
      "102730/102730 [==============================] - 11s 111us/step - loss: 0.9980 - val_loss: 1.0176\n",
      "Epoch 36/100\n",
      "102730/102730 [==============================] - 11s 110us/step - loss: 0.9980 - val_loss: 1.0176\n",
      "Epoch 37/100\n",
      "102730/102730 [==============================] - 11s 111us/step - loss: 0.9980 - val_loss: 1.0176\n",
      "Epoch 38/100\n",
      "102730/102730 [==============================] - 11s 111us/step - loss: 0.9980 - val_loss: 1.0176\n",
      "Epoch 39/100\n",
      "102730/102730 [==============================] - 11s 111us/step - loss: 0.9980 - val_loss: 1.0176\n",
      "Epoch 40/100\n",
      "102730/102730 [==============================] - 12s 112us/step - loss: 0.9980 - val_loss: 1.0176\n",
      "Epoch 41/100\n",
      "102730/102730 [==============================] - 12s 115us/step - loss: 0.9980 - val_loss: 1.0176\n",
      "Epoch 42/100\n",
      "102730/102730 [==============================] - 11s 107us/step - loss: 0.9980 - val_loss: 1.0176\n",
      "Epoch 43/100\n",
      "102730/102730 [==============================] - 11s 110us/step - loss: 0.9980 - val_loss: 1.0176\n",
      "Epoch 44/100\n",
      "102730/102730 [==============================] - 11s 111us/step - loss: 0.9980 - val_loss: 1.0176\n",
      "Epoch 45/100\n",
      "102730/102730 [==============================] - 12s 113us/step - loss: 0.9980 - val_loss: 1.0176\n",
      "Epoch 46/100\n",
      "102730/102730 [==============================] - 11s 111us/step - loss: 0.9980 - val_loss: 1.0176\n",
      "Epoch 47/100\n",
      "102730/102730 [==============================] - 11s 110us/step - loss: 0.9980 - val_loss: 1.0176\n",
      "Epoch 48/100\n",
      "102730/102730 [==============================] - 12s 112us/step - loss: 0.9980 - val_loss: 1.0176\n",
      "Epoch 49/100\n",
      "102730/102730 [==============================] - 11s 111us/step - loss: 0.9980 - val_loss: 1.0176\n",
      "Epoch 50/100\n",
      "102730/102730 [==============================] - 11s 111us/step - loss: 0.9980 - val_loss: 1.0176\n",
      "Epoch 51/100\n",
      "102730/102730 [==============================] - 11s 109us/step - loss: 0.9980 - val_loss: 1.0176\n",
      "Epoch 52/100\n",
      "102730/102730 [==============================] - 11s 106us/step - loss: 0.9980 - val_loss: 1.0176\n",
      "Epoch 53/100\n"
     ]
    },
    {
     "name": "stdout",
     "output_type": "stream",
     "text": [
      "102730/102730 [==============================] - 11s 111us/step - loss: 0.9980 - val_loss: 1.0176\n",
      "Epoch 54/100\n",
      "102730/102730 [==============================] - 11s 112us/step - loss: 0.9980 - val_loss: 1.0176\n",
      "Epoch 55/100\n",
      "102730/102730 [==============================] - 12s 112us/step - loss: 0.9980 - val_loss: 1.0176\n",
      "Epoch 56/100\n",
      "102730/102730 [==============================] - 12s 112us/step - loss: 0.9980 - val_loss: 1.0176\n",
      "Epoch 57/100\n",
      "102730/102730 [==============================] - 11s 111us/step - loss: 0.9980 - val_loss: 1.0176\n",
      "Epoch 58/100\n",
      "102730/102730 [==============================] - 12s 113us/step - loss: 0.9980 - val_loss: 1.0176\n",
      "Epoch 59/100\n",
      "102730/102730 [==============================] - 12s 120us/step - loss: 0.9980 - val_loss: 1.0176\n",
      "Epoch 60/100\n",
      "102730/102730 [==============================] - 12s 112us/step - loss: 0.9980 - val_loss: 1.0176\n",
      "Epoch 61/100\n",
      "102730/102730 [==============================] - 12s 112us/step - loss: 0.9980 - val_loss: 1.0176\n",
      "Epoch 62/100\n",
      "102730/102730 [==============================] - 11s 112us/step - loss: 0.9980 - val_loss: 1.0176\n",
      "Epoch 63/100\n",
      "102730/102730 [==============================] - 12s 116us/step - loss: 0.9980 - val_loss: 1.0176\n",
      "Epoch 64/100\n",
      "102730/102730 [==============================] - 13s 124us/step - loss: 0.9980 - val_loss: 1.0176\n",
      "Epoch 65/100\n",
      "102730/102730 [==============================] - 12s 113us/step - loss: 0.9980 - val_loss: 1.0176\n",
      "Epoch 66/100\n",
      "102730/102730 [==============================] - 12s 119us/step - loss: 0.9980 - val_loss: 1.0176\n",
      "Epoch 67/100\n",
      "102730/102730 [==============================] - 13s 123us/step - loss: 0.9980 - val_loss: 1.0176\n",
      "Epoch 68/100\n",
      "102730/102730 [==============================] - 11s 112us/step - loss: 0.9980 - val_loss: 1.0176\n",
      "Epoch 69/100\n",
      "102730/102730 [==============================] - 11s 111us/step - loss: 0.9980 - val_loss: 1.0176\n",
      "Epoch 70/100\n",
      "102730/102730 [==============================] - 12s 112us/step - loss: 0.9980 - val_loss: 1.0176\n",
      "Epoch 71/100\n",
      "102730/102730 [==============================] - 11s 112us/step - loss: 0.9980 - val_loss: 1.0176\n",
      "Epoch 72/100\n",
      "102730/102730 [==============================] - 11s 111us/step - loss: 0.9980 - val_loss: 1.0176\n",
      "Epoch 73/100\n",
      "102730/102730 [==============================] - 12s 114us/step - loss: 0.9980 - val_loss: 1.0176\n",
      "Epoch 74/100\n",
      "102730/102730 [==============================] - 12s 116us/step - loss: 0.9980 - val_loss: 1.0176\n",
      "Epoch 75/100\n",
      "102730/102730 [==============================] - 12s 112us/step - loss: 0.9980 - val_loss: 1.0176\n",
      "Epoch 76/100\n",
      "102730/102730 [==============================] - 11s 111us/step - loss: 0.9980 - val_loss: 1.0176\n",
      "Epoch 77/100\n",
      "102730/102730 [==============================] - 11s 108us/step - loss: 0.9980 - val_loss: 1.0176\n",
      "Epoch 78/100\n",
      "102730/102730 [==============================] - 11s 111us/step - loss: 0.9980 - val_loss: 1.0176\n",
      "Epoch 79/100\n",
      "102730/102730 [==============================] - 12s 114us/step - loss: 0.9980 - val_loss: 1.0176\n",
      "Epoch 80/100\n",
      "102730/102730 [==============================] - 12s 113us/step - loss: 0.9980 - val_loss: 1.0176\n",
      "Epoch 81/100\n",
      "102730/102730 [==============================] - 12s 114us/step - loss: 0.9980 - val_loss: 1.0176\n",
      "Epoch 82/100\n",
      "102730/102730 [==============================] - 12s 115us/step - loss: 0.9980 - val_loss: 1.0176\n",
      "Epoch 83/100\n",
      "102730/102730 [==============================] - 11s 111us/step - loss: 0.9980 - val_loss: 1.0176\n",
      "Epoch 84/100\n",
      "102730/102730 [==============================] - 12s 121us/step - loss: 0.9980 - val_loss: 1.0176\n",
      "Epoch 85/100\n",
      "102730/102730 [==============================] - 14s 133us/step - loss: 0.9980 - val_loss: 1.0176\n",
      "Epoch 86/100\n",
      "102730/102730 [==============================] - 14s 132us/step - loss: 0.9980 - val_loss: 1.0176\n",
      "Epoch 87/100\n",
      "102730/102730 [==============================] - 13s 126us/step - loss: 0.9980 - val_loss: 1.0176\n",
      "Epoch 88/100\n",
      "102730/102730 [==============================] - 13s 124us/step - loss: 0.9980 - val_loss: 1.0176\n",
      "Epoch 89/100\n",
      "102730/102730 [==============================] - 13s 130us/step - loss: 0.9980 - val_loss: 1.0176\n",
      "Epoch 90/100\n",
      "102730/102730 [==============================] - 13s 128us/step - loss: 0.9980 - val_loss: 1.0176\n",
      "Epoch 91/100\n",
      "102730/102730 [==============================] - 13s 126us/step - loss: 0.9980 - val_loss: 1.0176\n",
      "Epoch 92/100\n",
      "102730/102730 [==============================] - 13s 131us/step - loss: 0.9980 - val_loss: 1.0176\n",
      "Epoch 93/100\n",
      "102730/102730 [==============================] - 13s 131us/step - loss: 0.9980 - val_loss: 1.0176\n",
      "Epoch 94/100\n",
      "102730/102730 [==============================] - 13s 126us/step - loss: 0.9980 - val_loss: 1.0176\n",
      "Epoch 95/100\n",
      "102730/102730 [==============================] - 14s 132us/step - loss: 0.9980 - val_loss: 1.0176\n",
      "Epoch 96/100\n",
      "102730/102730 [==============================] - 14s 132us/step - loss: 0.9980 - val_loss: 1.0176\n",
      "Epoch 97/100\n",
      "102730/102730 [==============================] - 13s 126us/step - loss: 0.9980 - val_loss: 1.0176\n",
      "Epoch 98/100\n",
      "102730/102730 [==============================] - 13s 125us/step - loss: 0.9980 - val_loss: 1.0176\n",
      "Epoch 99/100\n",
      "102730/102730 [==============================] - 13s 126us/step - loss: 0.9980 - val_loss: 1.0176\n",
      "Epoch 100/100\n",
      "102730/102730 [==============================] - 13s 125us/step - loss: 0.9980 - val_loss: 1.0176\n"
     ]
    }
   ],
   "source": [
    "ae_clf2 = AutoEncoder(hidden_neurons =[25, 10,2, 10, 25])\n",
    "ae_clf2.fit(X_train)\n",
    "y_test_scores = ae_clf2.decision_function(X_test)  # outlier scores\n",
    "y_test_scores = pd.Series(y_test_scores)"
   ]
  },
  {
   "cell_type": "code",
   "execution_count": 19,
   "metadata": {},
   "outputs": [
    {
     "data": {
      "image/png": "[encoded data removed]",
      "text/plain": [
       "<Figure size 432x288 with 1 Axes>"
      ]
     },
     "metadata": {
      "needs_background": "light"
     },
     "output_type": "display_data"
    }
   ],
   "source": [
    "plt.hist(y_test_scores, bins='auto')  # arguments are passed to np.histogram\n",
    "plt.title(\"Histogram for Model ae_clf2 Anomaly Scores\")\n",
    "plt.show()"
   ]
  },
  {
   "cell_type": "code",
   "execution_count": 20,
   "metadata": {},
   "outputs": [
    {
     "data": {
      "text/plain": [
       "1    34385\n",
       "0    14535\n",
       "Name: cluster, dtype: int64"
      ]
     },
     "execution_count": 20,
     "metadata": {},
     "output_type": "execute_result"
    }
   ],
   "source": [
    "df_test = X_test.copy()\n",
    "df_test['score'] = y_test_scores\n",
    "df_test['cluster'] = np.where(df_test['score']<15, 0, 1)\n",
    "df_test['cluster'].value_counts()"
   ]
  },
  {
   "cell_type": "code",
   "execution_count": 21,
   "metadata": {},
   "outputs": [
    {
     "data": {
      "text/html": [
       "<div>\n",
       "<style scoped>\n",
       "    .dataframe tbody tr th:only-of-type {\n",
       "        vertical-align: middle;\n",
       "    }\n",
       "\n",
       "    .dataframe tbody tr th {\n",
       "        vertical-align: top;\n",
       "    }\n",
       "\n",
       "    .dataframe thead th {\n",
       "        text-align: right;\n",
       "    }\n",
       "</style>\n",
       "<table border=\"1\" class=\"dataframe\">\n",
       "  <thead>\n",
       "    <tr style=\"text-align: right;\">\n",
       "      <th></th>\n",
       "      <th>ratio.total.discharges</th>\n",
       "      <th>ratio.avg.covered.charges</th>\n",
       "      <th>ratio.avg.total.payments</th>\n",
       "      <th>ratio.avg.medicare.payments</th>\n",
       "      <th>Average.Covered.Charges</th>\n",
       "      <th>Average.Medicare.Payments</th>\n",
       "      <th>Average.Total.Payments</th>\n",
       "      <th>mean.total.discharges</th>\n",
       "      <th>mean.avg.covered.charges</th>\n",
       "      <th>mean.avg.total.payments</th>\n",
       "      <th>mean.avg.medicare.payments</th>\n",
       "      <th>score</th>\n",
       "    </tr>\n",
       "    <tr>\n",
       "      <th>cluster</th>\n",
       "      <th></th>\n",
       "      <th></th>\n",
       "      <th></th>\n",
       "      <th></th>\n",
       "      <th></th>\n",
       "      <th></th>\n",
       "      <th></th>\n",
       "      <th></th>\n",
       "      <th></th>\n",
       "      <th></th>\n",
       "      <th></th>\n",
       "      <th></th>\n",
       "    </tr>\n",
       "  </thead>\n",
       "  <tbody>\n",
       "    <tr>\n",
       "      <th>0</th>\n",
       "      <td>0.993686</td>\n",
       "      <td>1.003941</td>\n",
       "      <td>1.000265</td>\n",
       "      <td>0.995398</td>\n",
       "      <td>81566.541658</td>\n",
       "      <td>75778.130719</td>\n",
       "      <td>76872.602546</td>\n",
       "      <td>39.458207</td>\n",
       "      <td>81212.230455</td>\n",
       "      <td>76795.598593</td>\n",
       "      <td>76083.004933</td>\n",
       "      <td>3.083358</td>\n",
       "    </tr>\n",
       "    <tr>\n",
       "      <th>1</th>\n",
       "      <td>0.999988</td>\n",
       "      <td>1.002083</td>\n",
       "      <td>1.000083</td>\n",
       "      <td>1.003867</td>\n",
       "      <td>79402.184470</td>\n",
       "      <td>75888.722583</td>\n",
       "      <td>74237.875585</td>\n",
       "      <td>44.114919</td>\n",
       "      <td>79330.830475</td>\n",
       "      <td>74234.150714</td>\n",
       "      <td>75707.881434</td>\n",
       "      <td>17.317740</td>\n",
       "    </tr>\n",
       "  </tbody>\n",
       "</table>\n",
       "</div>"
      ],
      "text/plain": [
       "         ratio.total.discharges  ratio.avg.covered.charges  \\\n",
       "cluster                                                      \n",
       "0                      0.993686                   1.003941   \n",
       "1                      0.999988                   1.002083   \n",
       "\n",
       "         ratio.avg.total.payments  ratio.avg.medicare.payments  \\\n",
       "cluster                                                          \n",
       "0                        1.000265                     0.995398   \n",
       "1                        1.000083                     1.003867   \n",
       "\n",
       "         Average.Covered.Charges  Average.Medicare.Payments  \\\n",
       "cluster                                                       \n",
       "0                   81566.541658               75778.130719   \n",
       "1                   79402.184470               75888.722583   \n",
       "\n",
       "         Average.Total.Payments  mean.total.discharges  \\\n",
       "cluster                                                  \n",
       "0                  76872.602546              39.458207   \n",
       "1                  74237.875585              44.114919   \n",
       "\n",
       "         mean.avg.covered.charges  mean.avg.total.payments  \\\n",
       "cluster                                                      \n",
       "0                    81212.230455             76795.598593   \n",
       "1                    79330.830475             74234.150714   \n",
       "\n",
       "         mean.avg.medicare.payments      score  \n",
       "cluster                                         \n",
       "0                      76083.004933   3.083358  \n",
       "1                      75707.881434  17.317740  "
      ]
     },
     "execution_count": 21,
     "metadata": {},
     "output_type": "execute_result"
    }
   ],
   "source": [
    "df_test.groupby('cluster').mean()"
   ]
  },
  {
   "cell_type": "markdown",
   "metadata": {},
   "source": [
    "### Model 3"
   ]
  },
  {
   "cell_type": "code",
   "execution_count": 22,
   "metadata": {},
   "outputs": [
    {
     "name": "stdout",
     "output_type": "stream",
     "text": [
      "Model: \"sequential_3\"\n",
      "_________________________________________________________________\n",
      "Layer (type)                 Output Shape              Param #   \n",
      "=================================================================\n",
      "dense_16 (Dense)             (None, 11)                132       \n",
      "_________________________________________________________________\n",
      "dropout_14 (Dropout)         (None, 11)                0         \n",
      "_________________________________________________________________\n",
      "dense_17 (Dense)             (None, 11)                132       \n",
      "_________________________________________________________________\n",
      "dropout_15 (Dropout)         (None, 11)                0         \n",
      "_________________________________________________________________\n",
      "dense_18 (Dense)             (None, 25)                300       \n",
      "_________________________________________________________________\n",
      "dropout_16 (Dropout)         (None, 25)                0         \n",
      "_________________________________________________________________\n",
      "dense_19 (Dense)             (None, 15)                390       \n",
      "_________________________________________________________________\n",
      "dropout_17 (Dropout)         (None, 15)                0         \n",
      "_________________________________________________________________\n",
      "dense_20 (Dense)             (None, 10)                160       \n",
      "_________________________________________________________________\n",
      "dropout_18 (Dropout)         (None, 10)                0         \n",
      "_________________________________________________________________\n",
      "dense_21 (Dense)             (None, 2)                 22        \n",
      "_________________________________________________________________\n",
      "dropout_19 (Dropout)         (None, 2)                 0         \n",
      "_________________________________________________________________\n",
      "dense_22 (Dense)             (None, 10)                30        \n",
      "_________________________________________________________________\n",
      "dropout_20 (Dropout)         (None, 10)                0         \n",
      "_________________________________________________________________\n",
      "dense_23 (Dense)             (None, 15)                165       \n",
      "_________________________________________________________________\n",
      "dropout_21 (Dropout)         (None, 15)                0         \n",
      "_________________________________________________________________\n",
      "dense_24 (Dense)             (None, 25)                400       \n",
      "_________________________________________________________________\n",
      "dropout_22 (Dropout)         (None, 25)                0         \n",
      "_________________________________________________________________\n",
      "dense_25 (Dense)             (None, 11)                286       \n",
      "=================================================================\n",
      "Total params: 2,017\n",
      "Trainable params: 2,017\n",
      "Non-trainable params: 0\n",
      "_________________________________________________________________\n",
      "None\n",
      "Train on 102730 samples, validate on 11415 samples\n",
      "Epoch 1/100\n",
      "102730/102730 [==============================] - 15s 145us/step - loss: 3.9757 - val_loss: 1.3839\n",
      "Epoch 2/100\n",
      "102730/102730 [==============================] - 13s 130us/step - loss: 1.2017 - val_loss: 1.0881\n",
      "Epoch 3/100\n",
      "102730/102730 [==============================] - 13s 131us/step - loss: 1.0399 - val_loss: 1.0181\n",
      "Epoch 4/100\n",
      "102730/102730 [==============================] - 13s 129us/step - loss: 1.0059 - val_loss: 1.0063\n",
      "Epoch 5/100\n",
      "102730/102730 [==============================] - 13s 128us/step - loss: 1.0006 - val_loss: 1.0045\n",
      "Epoch 6/100\n",
      "102730/102730 [==============================] - 14s 132us/step - loss: 0.9998 - val_loss: 1.0042\n",
      "Epoch 7/100\n",
      "102730/102730 [==============================] - 13s 131us/step - loss: 0.9996 - val_loss: 1.0041\n",
      "Epoch 8/100\n",
      "102730/102730 [==============================] - 14s 132us/step - loss: 0.9996 - val_loss: 1.0041\n",
      "Epoch 9/100\n",
      "102730/102730 [==============================] - 14s 132us/step - loss: 0.9996 - val_loss: 1.0041\n",
      "Epoch 10/100\n",
      "102730/102730 [==============================] - 14s 132us/step - loss: 0.9996 - val_loss: 1.0041\n",
      "Epoch 11/100\n",
      "102730/102730 [==============================] - 13s 131us/step - loss: 0.9995 - val_loss: 1.0041\n",
      "Epoch 12/100\n",
      "102730/102730 [==============================] - 13s 129us/step - loss: 0.9995 - val_loss: 1.0041\n",
      "Epoch 13/100\n",
      "102730/102730 [==============================] - 14s 132us/step - loss: 0.9995 - val_loss: 1.0041\n",
      "Epoch 14/100\n",
      "102730/102730 [==============================] - 13s 131us/step - loss: 0.9995 - val_loss: 1.0041\n",
      "Epoch 15/100\n",
      "102730/102730 [==============================] - 13s 131us/step - loss: 0.9995 - val_loss: 1.0041\n",
      "Epoch 16/100\n",
      "102730/102730 [==============================] - 14s 132us/step - loss: 0.9995 - val_loss: 1.0041\n",
      "Epoch 17/100\n",
      "102730/102730 [==============================] - 13s 130us/step - loss: 0.9995 - val_loss: 1.0041\n",
      "Epoch 18/100\n",
      "102730/102730 [==============================] - 13s 130us/step - loss: 0.9995 - val_loss: 1.0041\n",
      "Epoch 19/100\n",
      "102730/102730 [==============================] - 13s 130us/step - loss: 0.9995 - val_loss: 1.0041\n",
      "Epoch 20/100\n",
      "102730/102730 [==============================] - 14s 137us/step - loss: 0.9995 - val_loss: 1.0041\n",
      "Epoch 21/100\n",
      "102730/102730 [==============================] - 14s 136us/step - loss: 0.9995 - val_loss: 1.0041\n",
      "Epoch 22/100\n",
      "102730/102730 [==============================] - 13s 131us/step - loss: 0.9995 - val_loss: 1.0041\n",
      "Epoch 23/100\n",
      "102730/102730 [==============================] - 13s 129us/step - loss: 0.9995 - val_loss: 1.0041\n",
      "Epoch 24/100\n",
      "102730/102730 [==============================] - 14s 137us/step - loss: 0.9995 - val_loss: 1.0041\n",
      "Epoch 25/100\n",
      "102730/102730 [==============================] - 14s 132us/step - loss: 0.9995 - val_loss: 1.0041\n",
      "Epoch 26/100\n",
      "102730/102730 [==============================] - 13s 128us/step - loss: 0.9995 - val_loss: 1.0041\n",
      "Epoch 27/100\n",
      "102730/102730 [==============================] - 13s 130us/step - loss: 0.9995 - val_loss: 1.0041\n",
      "Epoch 28/100\n",
      "102730/102730 [==============================] - 13s 129us/step - loss: 0.9995 - val_loss: 1.0041\n",
      "Epoch 29/100\n",
      "102730/102730 [==============================] - 13s 128us/step - loss: 0.9995 - val_loss: 1.0041\n",
      "Epoch 30/100\n",
      "102730/102730 [==============================] - 13s 126us/step - loss: 0.9995 - val_loss: 1.0041\n",
      "Epoch 31/100\n",
      "102730/102730 [==============================] - 13s 127us/step - loss: 0.9995 - val_loss: 1.0041\n",
      "Epoch 32/100\n",
      "102730/102730 [==============================] - 13s 129us/step - loss: 0.9995 - val_loss: 1.0041\n",
      "Epoch 33/100\n",
      "102730/102730 [==============================] - 14s 132us/step - loss: 0.9995 - val_loss: 1.0041\n",
      "Epoch 34/100\n",
      "102730/102730 [==============================] - 14s 132us/step - loss: 0.9995 - val_loss: 1.0041\n",
      "Epoch 35/100\n",
      "102730/102730 [==============================] - 13s 128us/step - loss: 0.9995 - val_loss: 1.0041\n",
      "Epoch 36/100\n",
      "102730/102730 [==============================] - 14s 131us/step - loss: 0.9995 - val_loss: 1.0041\n",
      "Epoch 37/100\n",
      "102730/102730 [==============================] - 13s 130us/step - loss: 0.9995 - val_loss: 1.0041\n",
      "Epoch 38/100\n",
      "102730/102730 [==============================] - 13s 129us/step - loss: 0.9995 - val_loss: 1.0041\n",
      "Epoch 39/100\n",
      "102730/102730 [==============================] - 13s 130us/step - loss: 0.9995 - val_loss: 1.0041\n",
      "Epoch 40/100\n",
      "102730/102730 [==============================] - 13s 129us/step - loss: 0.9995 - val_loss: 1.0041\n",
      "Epoch 41/100\n",
      "102730/102730 [==============================] - 13s 127us/step - loss: 0.9995 - val_loss: 1.0041\n",
      "Epoch 42/100\n",
      "102730/102730 [==============================] - 13s 127us/step - loss: 0.9995 - val_loss: 1.0041\n",
      "Epoch 43/100\n",
      "102730/102730 [==============================] - 13s 130us/step - loss: 0.9995 - val_loss: 1.0041\n",
      "Epoch 44/100\n",
      "102730/102730 [==============================] - 13s 131us/step - loss: 0.9995 - val_loss: 1.0041\n",
      "Epoch 45/100\n",
      "102730/102730 [==============================] - 13s 128us/step - loss: 0.9995 - val_loss: 1.0041\n",
      "Epoch 46/100\n",
      "102730/102730 [==============================] - 13s 128us/step - loss: 0.9995 - val_loss: 1.0041\n",
      "Epoch 47/100\n",
      "102730/102730 [==============================] - 14s 132us/step - loss: 0.9995 - val_loss: 1.0041\n",
      "Epoch 48/100\n"
     ]
    },
    {
     "name": "stdout",
     "output_type": "stream",
     "text": [
      "102730/102730 [==============================] - 14s 135us/step - loss: 0.9995 - val_loss: 1.0041\n",
      "Epoch 49/100\n",
      "102730/102730 [==============================] - 14s 132us/step - loss: 0.9995 - val_loss: 1.0041\n",
      "Epoch 50/100\n",
      "102730/102730 [==============================] - 13s 130us/step - loss: 0.9995 - val_loss: 1.0041\n",
      "Epoch 51/100\n",
      "102730/102730 [==============================] - 14s 131us/step - loss: 0.9995 - val_loss: 1.0041\n",
      "Epoch 52/100\n",
      "102730/102730 [==============================] - 14s 140us/step - loss: 0.9995 - val_loss: 1.0041\n",
      "Epoch 53/100\n",
      "102730/102730 [==============================] - 13s 129us/step - loss: 0.9995 - val_loss: 1.0041\n",
      "Epoch 54/100\n",
      "102730/102730 [==============================] - 13s 129us/step - loss: 0.9995 - val_loss: 1.0041\n",
      "Epoch 55/100\n",
      "102730/102730 [==============================] - 13s 130us/step - loss: 0.9995 - val_loss: 1.0041\n",
      "Epoch 56/100\n",
      "102730/102730 [==============================] - 13s 130us/step - loss: 0.9995 - val_loss: 1.0041\n",
      "Epoch 57/100\n",
      "102730/102730 [==============================] - 14s 132us/step - loss: 0.9995 - val_loss: 1.0041\n",
      "Epoch 58/100\n",
      "102730/102730 [==============================] - 13s 129us/step - loss: 0.9995 - val_loss: 1.0041\n",
      "Epoch 59/100\n",
      "102730/102730 [==============================] - 13s 129us/step - loss: 0.9995 - val_loss: 1.0041\n",
      "Epoch 60/100\n",
      "102730/102730 [==============================] - 13s 129us/step - loss: 0.9995 - val_loss: 1.0041\n",
      "Epoch 61/100\n",
      "102730/102730 [==============================] - 13s 130us/step - loss: 0.9995 - val_loss: 1.0041\n",
      "Epoch 62/100\n",
      "102730/102730 [==============================] - 13s 131us/step - loss: 0.9995 - val_loss: 1.0041\n",
      "Epoch 63/100\n",
      "102730/102730 [==============================] - 13s 129us/step - loss: 0.9995 - val_loss: 1.0041\n",
      "Epoch 64/100\n",
      "102730/102730 [==============================] - 13s 129us/step - loss: 0.9995 - val_loss: 1.0041\n",
      "Epoch 65/100\n",
      "102730/102730 [==============================] - 13s 130us/step - loss: 0.9995 - val_loss: 1.0041\n",
      "Epoch 66/100\n",
      "102730/102730 [==============================] - 13s 130us/step - loss: 0.9995 - val_loss: 1.0041\n",
      "Epoch 67/100\n",
      "102730/102730 [==============================] - 13s 131us/step - loss: 0.9995 - val_loss: 1.0041\n",
      "Epoch 68/100\n",
      "102730/102730 [==============================] - 13s 130us/step - loss: 0.9995 - val_loss: 1.0041\n",
      "Epoch 69/100\n",
      "102730/102730 [==============================] - 13s 130us/step - loss: 0.9995 - val_loss: 1.0041\n",
      "Epoch 70/100\n",
      "102730/102730 [==============================] - 13s 130us/step - loss: 0.9995 - val_loss: 1.0041\n",
      "Epoch 71/100\n",
      "102730/102730 [==============================] - 13s 130us/step - loss: 0.9995 - val_loss: 1.0041\n",
      "Epoch 72/100\n",
      "102730/102730 [==============================] - 13s 130us/step - loss: 0.9995 - val_loss: 1.0041\n",
      "Epoch 73/100\n",
      "102730/102730 [==============================] - 13s 131us/step - loss: 0.9995 - val_loss: 1.0041\n",
      "Epoch 74/100\n",
      "102730/102730 [==============================] - 14s 133us/step - loss: 0.9995 - val_loss: 1.0041\n",
      "Epoch 75/100\n",
      "102730/102730 [==============================] - 13s 130us/step - loss: 0.9995 - val_loss: 1.0041\n",
      "Epoch 76/100\n",
      "102730/102730 [==============================] - 13s 130us/step - loss: 0.9995 - val_loss: 1.0041\n",
      "Epoch 77/100\n",
      "102730/102730 [==============================] - 13s 130us/step - loss: 0.9995 - val_loss: 1.0041\n",
      "Epoch 78/100\n",
      "102730/102730 [==============================] - 13s 129us/step - loss: 0.9995 - val_loss: 1.0041\n",
      "Epoch 79/100\n",
      "102730/102730 [==============================] - 14s 132us/step - loss: 0.9995 - val_loss: 1.0041\n",
      "Epoch 80/100\n",
      "102730/102730 [==============================] - 14s 131us/step - loss: 0.9995 - val_loss: 1.0041\n",
      "Epoch 81/100\n",
      "102730/102730 [==============================] - 14s 131us/step - loss: 0.9995 - val_loss: 1.0041\n",
      "Epoch 82/100\n",
      "102730/102730 [==============================] - 13s 131us/step - loss: 0.9995 - val_loss: 1.0041\n",
      "Epoch 83/100\n",
      "102730/102730 [==============================] - 13s 130us/step - loss: 0.9995 - val_loss: 1.0041\n",
      "Epoch 84/100\n",
      "102730/102730 [==============================] - 14s 133us/step - loss: 0.9995 - val_loss: 1.0041\n",
      "Epoch 85/100\n",
      "102730/102730 [==============================] - 13s 130us/step - loss: 0.9995 - val_loss: 1.0041\n",
      "Epoch 86/100\n",
      "102730/102730 [==============================] - 14s 135us/step - loss: 0.9995 - val_loss: 1.0041\n",
      "Epoch 87/100\n",
      "102730/102730 [==============================] - 14s 137us/step - loss: 0.9995 - val_loss: 1.0041\n",
      "Epoch 88/100\n",
      "102730/102730 [==============================] - 13s 130us/step - loss: 0.9995 - val_loss: 1.0041\n",
      "Epoch 89/100\n",
      "102730/102730 [==============================] - 13s 130us/step - loss: 0.9995 - val_loss: 1.0041\n",
      "Epoch 90/100\n",
      "102730/102730 [==============================] - 13s 129us/step - loss: 0.9995 - val_loss: 1.0041\n",
      "Epoch 91/100\n",
      "102730/102730 [==============================] - 13s 129us/step - loss: 0.9995 - val_loss: 1.0041\n",
      "Epoch 92/100\n",
      "102730/102730 [==============================] - 13s 129us/step - loss: 0.9995 - val_loss: 1.0041\n",
      "Epoch 93/100\n",
      "102730/102730 [==============================] - 13s 130us/step - loss: 0.9995 - val_loss: 1.0041\n",
      "Epoch 94/100\n",
      "102730/102730 [==============================] - 14s 133us/step - loss: 0.9995 - val_loss: 1.0041\n",
      "Epoch 95/100\n",
      "102730/102730 [==============================] - 13s 131us/step - loss: 0.9995 - val_loss: 1.0041\n",
      "Epoch 96/100\n",
      "102730/102730 [==============================] - 13s 129us/step - loss: 0.9995 - val_loss: 1.0041\n",
      "Epoch 97/100\n",
      "102730/102730 [==============================] - 13s 128us/step - loss: 0.9995 - val_loss: 1.0041\n",
      "Epoch 98/100\n",
      "102730/102730 [==============================] - 13s 129us/step - loss: 0.9995 - val_loss: 1.0041\n",
      "Epoch 99/100\n",
      "102730/102730 [==============================] - 13s 131us/step - loss: 0.9995 - val_loss: 1.0041\n",
      "Epoch 100/100\n",
      "102730/102730 [==============================] - 13s 130us/step - loss: 0.9995 - val_loss: 1.0041\n"
     ]
    }
   ],
   "source": [
    "ae_clf3 = AutoEncoder(hidden_neurons =[25, 15, 10, 2, 10,15, 25])\n",
    "ae_clf3.fit(X_train)\n",
    "y_test_scores = ae_clf3.decision_function(X_test)\n",
    "y_test_scores = pd.Series(y_test_scores)"
   ]
  },
  {
   "cell_type": "code",
   "execution_count": 24,
   "metadata": {},
   "outputs": [
    {
     "data": {
      "image/png": "[encoded data removed]",
      "text/plain": [
       "<Figure size 432x288 with 1 Axes>"
      ]
     },
     "metadata": {
      "needs_background": "light"
     },
     "output_type": "display_data"
    }
   ],
   "source": [
    "plt.hist(y_test_scores, bins='auto')  \n",
    "plt.title(\"Histogram with Model ae_clf3 Anomaly Scores\")\n",
    "plt.show()"
   ]
  },
  {
   "cell_type": "code",
   "execution_count": 27,
   "metadata": {},
   "outputs": [
    {
     "data": {
      "text/plain": [
       "1    46794\n",
       "0     2126\n",
       "Name: cluster, dtype: int64"
      ]
     },
     "execution_count": 27,
     "metadata": {},
     "output_type": "execute_result"
    }
   ],
   "source": [
    "df_test = X_test.copy()\n",
    "df_test['score'] = y_test_scores\n",
    "df_test['cluster'] = np.where(df_test['score']<2, 0, 1)\n",
    "df_test['cluster'].value_counts()"
   ]
  },
  {
   "cell_type": "code",
   "execution_count": 28,
   "metadata": {},
   "outputs": [
    {
     "data": {
      "text/html": [
       "<div>\n",
       "<style scoped>\n",
       "    .dataframe tbody tr th:only-of-type {\n",
       "        vertical-align: middle;\n",
       "    }\n",
       "\n",
       "    .dataframe tbody tr th {\n",
       "        vertical-align: top;\n",
       "    }\n",
       "\n",
       "    .dataframe thead th {\n",
       "        text-align: right;\n",
       "    }\n",
       "</style>\n",
       "<table border=\"1\" class=\"dataframe\">\n",
       "  <thead>\n",
       "    <tr style=\"text-align: right;\">\n",
       "      <th></th>\n",
       "      <th>ratio.total.discharges</th>\n",
       "      <th>ratio.avg.covered.charges</th>\n",
       "      <th>ratio.avg.total.payments</th>\n",
       "      <th>ratio.avg.medicare.payments</th>\n",
       "      <th>Average.Covered.Charges</th>\n",
       "      <th>Average.Medicare.Payments</th>\n",
       "      <th>Average.Total.Payments</th>\n",
       "      <th>mean.total.discharges</th>\n",
       "      <th>mean.avg.covered.charges</th>\n",
       "      <th>mean.avg.total.payments</th>\n",
       "      <th>mean.avg.medicare.payments</th>\n",
       "      <th>score</th>\n",
       "    </tr>\n",
       "    <tr>\n",
       "      <th>cluster</th>\n",
       "      <th></th>\n",
       "      <th></th>\n",
       "      <th></th>\n",
       "      <th></th>\n",
       "      <th></th>\n",
       "      <th></th>\n",
       "      <th></th>\n",
       "      <th></th>\n",
       "      <th></th>\n",
       "      <th></th>\n",
       "      <th></th>\n",
       "      <th></th>\n",
       "    </tr>\n",
       "  </thead>\n",
       "  <tbody>\n",
       "    <tr>\n",
       "      <th>0</th>\n",
       "      <td>0.993926</td>\n",
       "      <td>0.993410</td>\n",
       "      <td>1.010229</td>\n",
       "      <td>0.981602</td>\n",
       "      <td>80747.312794</td>\n",
       "      <td>76684.748354</td>\n",
       "      <td>78792.328316</td>\n",
       "      <td>39.300186</td>\n",
       "      <td>80858.344643</td>\n",
       "      <td>77638.450136</td>\n",
       "      <td>77181.181768</td>\n",
       "      <td>1.620468</td>\n",
       "    </tr>\n",
       "    <tr>\n",
       "      <th>1</th>\n",
       "      <td>0.998306</td>\n",
       "      <td>1.003054</td>\n",
       "      <td>0.999679</td>\n",
       "      <td>1.002248</td>\n",
       "      <td>80013.356606</td>\n",
       "      <td>75818.204919</td>\n",
       "      <td>74849.342651</td>\n",
       "      <td>42.887215</td>\n",
       "      <td>79845.824995</td>\n",
       "      <td>74875.111187</td>\n",
       "      <td>75757.464362</td>\n",
       "      <td>3.337373</td>\n",
       "    </tr>\n",
       "  </tbody>\n",
       "</table>\n",
       "</div>"
      ],
      "text/plain": [
       "         ratio.total.discharges  ratio.avg.covered.charges  \\\n",
       "cluster                                                      \n",
       "0                      0.993926                   0.993410   \n",
       "1                      0.998306                   1.003054   \n",
       "\n",
       "         ratio.avg.total.payments  ratio.avg.medicare.payments  \\\n",
       "cluster                                                          \n",
       "0                        1.010229                     0.981602   \n",
       "1                        0.999679                     1.002248   \n",
       "\n",
       "         Average.Covered.Charges  Average.Medicare.Payments  \\\n",
       "cluster                                                       \n",
       "0                   80747.312794               76684.748354   \n",
       "1                   80013.356606               75818.204919   \n",
       "\n",
       "         Average.Total.Payments  mean.total.discharges  \\\n",
       "cluster                                                  \n",
       "0                  78792.328316              39.300186   \n",
       "1                  74849.342651              42.887215   \n",
       "\n",
       "         mean.avg.covered.charges  mean.avg.total.payments  \\\n",
       "cluster                                                      \n",
       "0                    80858.344643             77638.450136   \n",
       "1                    79845.824995             74875.111187   \n",
       "\n",
       "         mean.avg.medicare.payments     score  \n",
       "cluster                                        \n",
       "0                      77181.181768  1.620468  \n",
       "1                      75757.464362  3.337373  "
      ]
     },
     "execution_count": 28,
     "metadata": {},
     "output_type": "execute_result"
    }
   ],
   "source": [
    "df_test.groupby('cluster').mean()"
   ]
  },
  {
   "cell_type": "markdown",
   "metadata": {},
   "source": [
    "I would say that the cases in cluster 1 are most likely fraudulent because of the distance score"
   ]
  },
  {
   "cell_type": "markdown",
   "metadata": {},
   "source": [
    "## Model Stability "
   ]
  },
  {
   "cell_type": "code",
   "execution_count": 33,
   "metadata": {},
   "outputs": [],
   "source": [
    "train_scores = pd.DataFrame({'ae_clf1': ae_clf1.decision_scores_,\n",
    "                             'ae_clf2': ae_clf2.decision_scores_,\n",
    "                             'ae_clf3': ae_clf3.decision_scores_\n",
    "                            })\n",
    "\n",
    "test_scores  = pd.DataFrame({'ae_clf1': ae_clf1.decision_function(X_test),\n",
    "                             'ae_clf2': ae_clf2.decision_function(X_test),\n",
    "                             'ae_clf3': ae_clf3.decision_function(X_test) \n",
    "                            })"
   ]
  },
  {
   "cell_type": "code",
   "execution_count": 34,
   "metadata": {},
   "outputs": [
    {
     "data": {
      "text/html": [
       "<div>\n",
       "<style scoped>\n",
       "    .dataframe tbody tr th:only-of-type {\n",
       "        vertical-align: middle;\n",
       "    }\n",
       "\n",
       "    .dataframe tbody tr th {\n",
       "        vertical-align: top;\n",
       "    }\n",
       "\n",
       "    .dataframe thead th {\n",
       "        text-align: right;\n",
       "    }\n",
       "</style>\n",
       "<table border=\"1\" class=\"dataframe\">\n",
       "  <thead>\n",
       "    <tr style=\"text-align: right;\">\n",
       "      <th></th>\n",
       "      <th>ae_clf1</th>\n",
       "      <th>ae_clf2</th>\n",
       "      <th>ae_clf3</th>\n",
       "    </tr>\n",
       "  </thead>\n",
       "  <tbody>\n",
       "    <tr>\n",
       "      <th>0</th>\n",
       "      <td>5.248159</td>\n",
       "      <td>5.248136</td>\n",
       "      <td>5.248147</td>\n",
       "    </tr>\n",
       "    <tr>\n",
       "      <th>1</th>\n",
       "      <td>4.607252</td>\n",
       "      <td>4.607275</td>\n",
       "      <td>4.607273</td>\n",
       "    </tr>\n",
       "    <tr>\n",
       "      <th>2</th>\n",
       "      <td>2.175196</td>\n",
       "      <td>2.175214</td>\n",
       "      <td>2.175207</td>\n",
       "    </tr>\n",
       "    <tr>\n",
       "      <th>3</th>\n",
       "      <td>4.000612</td>\n",
       "      <td>4.000638</td>\n",
       "      <td>4.000627</td>\n",
       "    </tr>\n",
       "    <tr>\n",
       "      <th>4</th>\n",
       "      <td>2.104037</td>\n",
       "      <td>2.104038</td>\n",
       "      <td>2.104037</td>\n",
       "    </tr>\n",
       "  </tbody>\n",
       "</table>\n",
       "</div>"
      ],
      "text/plain": [
       "    ae_clf1   ae_clf2   ae_clf3\n",
       "0  5.248159  5.248136  5.248147\n",
       "1  4.607252  4.607275  4.607273\n",
       "2  2.175196  2.175214  2.175207\n",
       "3  4.000612  4.000638  4.000627\n",
       "4  2.104037  2.104038  2.104037"
      ]
     },
     "execution_count": 34,
     "metadata": {},
     "output_type": "execute_result"
    }
   ],
   "source": [
    "train_scores.head()"
   ]
  },
  {
   "cell_type": "code",
   "execution_count": 35,
   "metadata": {},
   "outputs": [
    {
     "data": {
      "text/html": [
       "<div>\n",
       "<style scoped>\n",
       "    .dataframe tbody tr th:only-of-type {\n",
       "        vertical-align: middle;\n",
       "    }\n",
       "\n",
       "    .dataframe tbody tr th {\n",
       "        vertical-align: top;\n",
       "    }\n",
       "\n",
       "    .dataframe thead th {\n",
       "        text-align: right;\n",
       "    }\n",
       "</style>\n",
       "<table border=\"1\" class=\"dataframe\">\n",
       "  <thead>\n",
       "    <tr style=\"text-align: right;\">\n",
       "      <th></th>\n",
       "      <th>ae_clf1</th>\n",
       "      <th>ae_clf2</th>\n",
       "      <th>ae_clf3</th>\n",
       "    </tr>\n",
       "  </thead>\n",
       "  <tbody>\n",
       "    <tr>\n",
       "      <th>0</th>\n",
       "      <td>4.909885</td>\n",
       "      <td>4.909881</td>\n",
       "      <td>4.909881</td>\n",
       "    </tr>\n",
       "    <tr>\n",
       "      <th>1</th>\n",
       "      <td>2.885420</td>\n",
       "      <td>2.885439</td>\n",
       "      <td>2.885438</td>\n",
       "    </tr>\n",
       "    <tr>\n",
       "      <th>2</th>\n",
       "      <td>2.659391</td>\n",
       "      <td>2.659416</td>\n",
       "      <td>2.659390</td>\n",
       "    </tr>\n",
       "    <tr>\n",
       "      <th>3</th>\n",
       "      <td>2.470937</td>\n",
       "      <td>2.470940</td>\n",
       "      <td>2.470936</td>\n",
       "    </tr>\n",
       "    <tr>\n",
       "      <th>4</th>\n",
       "      <td>4.978986</td>\n",
       "      <td>4.978956</td>\n",
       "      <td>4.978976</td>\n",
       "    </tr>\n",
       "  </tbody>\n",
       "</table>\n",
       "</div>"
      ],
      "text/plain": [
       "    ae_clf1   ae_clf2   ae_clf3\n",
       "0  4.909885  4.909881  4.909881\n",
       "1  2.885420  2.885439  2.885438\n",
       "2  2.659391  2.659416  2.659390\n",
       "3  2.470937  2.470940  2.470936\n",
       "4  4.978986  4.978956  4.978976"
      ]
     },
     "execution_count": 35,
     "metadata": {},
     "output_type": "execute_result"
    }
   ],
   "source": [
    "test_scores.head()"
   ]
  },
  {
   "cell_type": "code",
   "execution_count": 36,
   "metadata": {},
   "outputs": [],
   "source": [
    "train_scores_norm, test_scores_norm = standardizer(train_scores,test_scores)"
   ]
  },
  {
   "cell_type": "markdown",
   "metadata": {},
   "source": [
    "## Average of all scores"
   ]
  },
  {
   "cell_type": "code",
   "execution_count": 37,
   "metadata": {},
   "outputs": [
    {
     "data": {
      "text/plain": [
       "array([-0.15760112, -0.34114494, -0.49418003,  1.5424004 , -0.28336601,\n",
       "        0.53410577,  0.92942375,  0.66877562, -0.21947835])"
      ]
     },
     "execution_count": 37,
     "metadata": {},
     "output_type": "execute_result"
    }
   ],
   "source": [
    "y_by_average = average(test_scores_norm)\n",
    "y_by_average[1:10]"
   ]
  },
  {
   "cell_type": "code",
   "execution_count": 38,
   "metadata": {},
   "outputs": [
    {
     "data": {
      "image/png": "[encoded data removed]",
      "text/plain": [
       "<Figure size 432x288 with 1 Axes>"
      ]
     },
     "metadata": {
      "needs_background": "light"
     },
     "output_type": "display_data"
    }
   ],
   "source": [
    "y_by_average = average(test_scores_norm)\n",
    "plt.hist(y_by_average, bins='auto')\n",
    "plt.title(\"Combination by average\")\n",
    "plt.show()"
   ]
  },
  {
   "cell_type": "code",
   "execution_count": 39,
   "metadata": {},
   "outputs": [
    {
     "data": {
      "text/plain": [
       "0    27308\n",
       "1    21612\n",
       "Name: y_by_average_cluster, dtype: int64"
      ]
     },
     "execution_count": 39,
     "metadata": {},
     "output_type": "execute_result"
    }
   ],
   "source": [
    "df_test = pd.DataFrame(X_test)\n",
    "df_test['y_by_average_score'] = y_by_average\n",
    "df_test['y_by_average_cluster'] = np.where(df_test['y_by_average_score']<0, 0, 1)\n",
    "df_test['y_by_average_cluster'].value_counts()"
   ]
  },
  {
   "cell_type": "code",
   "execution_count": 40,
   "metadata": {},
   "outputs": [
    {
     "data": {
      "text/html": [
       "<div>\n",
       "<style scoped>\n",
       "    .dataframe tbody tr th:only-of-type {\n",
       "        vertical-align: middle;\n",
       "    }\n",
       "\n",
       "    .dataframe tbody tr th {\n",
       "        vertical-align: top;\n",
       "    }\n",
       "\n",
       "    .dataframe thead th {\n",
       "        text-align: right;\n",
       "    }\n",
       "</style>\n",
       "<table border=\"1\" class=\"dataframe\">\n",
       "  <thead>\n",
       "    <tr style=\"text-align: right;\">\n",
       "      <th></th>\n",
       "      <th>ratio.total.discharges</th>\n",
       "      <th>ratio.avg.covered.charges</th>\n",
       "      <th>ratio.avg.total.payments</th>\n",
       "      <th>ratio.avg.medicare.payments</th>\n",
       "      <th>Average.Covered.Charges</th>\n",
       "      <th>Average.Medicare.Payments</th>\n",
       "      <th>Average.Total.Payments</th>\n",
       "      <th>mean.total.discharges</th>\n",
       "      <th>mean.avg.covered.charges</th>\n",
       "      <th>mean.avg.total.payments</th>\n",
       "      <th>mean.avg.medicare.payments</th>\n",
       "      <th>y_by_average_score</th>\n",
       "    </tr>\n",
       "    <tr>\n",
       "      <th>y_by_average_cluster</th>\n",
       "      <th></th>\n",
       "      <th></th>\n",
       "      <th></th>\n",
       "      <th></th>\n",
       "      <th></th>\n",
       "      <th></th>\n",
       "      <th></th>\n",
       "      <th></th>\n",
       "      <th></th>\n",
       "      <th></th>\n",
       "      <th></th>\n",
       "      <th></th>\n",
       "    </tr>\n",
       "  </thead>\n",
       "  <tbody>\n",
       "    <tr>\n",
       "      <th>0</th>\n",
       "      <td>0.91829</td>\n",
       "      <td>0.919704</td>\n",
       "      <td>1.017397</td>\n",
       "      <td>0.989358</td>\n",
       "      <td>65736.952541</td>\n",
       "      <td>80094.587410</td>\n",
       "      <td>87765.128900</td>\n",
       "      <td>38.402551</td>\n",
       "      <td>70188.591686</td>\n",
       "      <td>85842.189178</td>\n",
       "      <td>80717.618931</td>\n",
       "      <td>-0.622314</td>\n",
       "    </tr>\n",
       "    <tr>\n",
       "      <th>1</th>\n",
       "      <td>1.09898</td>\n",
       "      <td>1.107424</td>\n",
       "      <td>0.978328</td>\n",
       "      <td>1.016505</td>\n",
       "      <td>98124.611142</td>\n",
       "      <td>70499.993661</td>\n",
       "      <td>58917.383398</td>\n",
       "      <td>48.200984</td>\n",
       "      <td>92147.895326</td>\n",
       "      <td>61289.413094</td>\n",
       "      <td>69630.077828</td>\n",
       "      <td>0.783725</td>\n",
       "    </tr>\n",
       "  </tbody>\n",
       "</table>\n",
       "</div>"
      ],
      "text/plain": [
       "                      ratio.total.discharges  ratio.avg.covered.charges  \\\n",
       "y_by_average_cluster                                                      \n",
       "0                                    0.91829                   0.919704   \n",
       "1                                    1.09898                   1.107424   \n",
       "\n",
       "                      ratio.avg.total.payments  ratio.avg.medicare.payments  \\\n",
       "y_by_average_cluster                                                          \n",
       "0                                     1.017397                     0.989358   \n",
       "1                                     0.978328                     1.016505   \n",
       "\n",
       "                      Average.Covered.Charges  Average.Medicare.Payments  \\\n",
       "y_by_average_cluster                                                       \n",
       "0                                65736.952541               80094.587410   \n",
       "1                                98124.611142               70499.993661   \n",
       "\n",
       "                      Average.Total.Payments  mean.total.discharges  \\\n",
       "y_by_average_cluster                                                  \n",
       "0                               87765.128900              38.402551   \n",
       "1                               58917.383398              48.200984   \n",
       "\n",
       "                      mean.avg.covered.charges  mean.avg.total.payments  \\\n",
       "y_by_average_cluster                                                      \n",
       "0                                 70188.591686             85842.189178   \n",
       "1                                 92147.895326             61289.413094   \n",
       "\n",
       "                      mean.avg.medicare.payments  y_by_average_score  \n",
       "y_by_average_cluster                                                  \n",
       "0                                   80717.618931           -0.622314  \n",
       "1                                   69630.077828            0.783725  "
      ]
     },
     "execution_count": 40,
     "metadata": {},
     "output_type": "execute_result"
    }
   ],
   "source": [
    "df_test.groupby('y_by_average_cluster').mean()"
   ]
  },
  {
   "cell_type": "code",
   "execution_count": null,
   "metadata": {},
   "outputs": [],
   "source": []
  },
  {
   "cell_type": "code",
   "execution_count": null,
   "metadata": {},
   "outputs": [],
   "source": []
  },
  {
   "cell_type": "code",
   "execution_count": null,
   "metadata": {},
   "outputs": [],
   "source": []
  },
  {
   "cell_type": "code",
   "execution_count": null,
   "metadata": {},
   "outputs": [],
   "source": []
  }
 ],
 "metadata": {
  "kernelspec": {
   "display_name": "Python 3",
   "language": "python",
   "name": "python3"
  },
  "language_info": {
   "codemirror_mode": {
    "name": "ipython",
    "version": 3
   },
   "file_extension": ".py",
   "mimetype": "text/x-python",
   "name": "python",
   "nbconvert_exporter": "python",
   "pygments_lexer": "ipython3",
   "version": "3.7.3"
  }
 },
 "nbformat": 4,
 "nbformat_minor": 2
}
