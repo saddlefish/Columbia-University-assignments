{
 "cells": [
  {
   "cell_type": "code",
   "execution_count": 14,
   "metadata": {},
   "outputs": [
    {
     "name": "stderr",
     "output_type": "stream",
     "text": [
      "Installing package into 'C:/Users/rdiml/Documents/R/win-library/3.6'\n",
      "(as 'lib' is unspecified)\n"
     ]
    },
    {
     "name": "stdout",
     "output_type": "stream",
     "text": [
      "package 'DataExplorer' successfully unpacked and MD5 sums checked\n",
      "\n",
      "The downloaded binary packages are in\n",
      "\tC:\\Users\\rdiml\\AppData\\Local\\Temp\\RtmpuQ9IVM\\downloaded_packages\n"
     ]
    },
    {
     "name": "stderr",
     "output_type": "stream",
     "text": [
      "Installing package into 'C:/Users/rdiml/Documents/R/win-library/3.6'\n",
      "(as 'lib' is unspecified)\n",
      "Warning message:\n",
      "\"package 'corrplot' is in use and will not be installed\""
     ]
    }
   ],
   "source": [
    "install.packages('DataExplorer')\n",
    "library(DataExplorer)\n",
    "install.packages('corrplot')\n",
    "library(corrplot)"
   ]
  },
  {
   "cell_type": "markdown",
   "metadata": {},
   "source": [
    "# Pre-Processing"
   ]
  },
  {
   "cell_type": "code",
   "execution_count": 1,
   "metadata": {},
   "outputs": [],
   "source": [
    "setwd(\"C:/Users/rdiml/Documents/\")"
   ]
  },
  {
   "cell_type": "code",
   "execution_count": 2,
   "metadata": {},
   "outputs": [],
   "source": [
    "#loading the data\n",
    "loan_data <- read.csv(file = \"XYZloan_default_selected_vars.csv\", stringsAsFactors=F)"
   ]
  },
  {
   "cell_type": "code",
   "execution_count": 3,
   "metadata": {},
   "outputs": [
    {
     "data": {
      "text/html": [
       "<table>\n",
       "<thead><tr><th scope=col>X</th><th scope=col>Unnamed..0</th><th scope=col>id</th><th scope=col>loan_default</th><th scope=col>AP001</th><th scope=col>AP002</th><th scope=col>AP003</th><th scope=col>AP004</th><th scope=col>AP005</th><th scope=col>AP006</th><th scope=col>...</th><th scope=col>CD162</th><th scope=col>CD164</th><th scope=col>CD166</th><th scope=col>CD167</th><th scope=col>CD169</th><th scope=col>CD170</th><th scope=col>CD172</th><th scope=col>CD173</th><th scope=col>MB005</th><th scope=col>MB007</th></tr></thead>\n",
       "<tbody>\n",
       "\t<tr><td>0              </td><td>1              </td><td>1              </td><td>1              </td><td>31             </td><td>2              </td><td>1              </td><td>12             </td><td>2017/7/6 10:21 </td><td>ios            </td><td>...            </td><td> 13            </td><td> 13            </td><td>  0            </td><td>  0            </td><td>1449           </td><td>1449           </td><td>2249           </td><td>2249           </td><td> 7             </td><td>IPHONE7        </td></tr>\n",
       "\t<tr><td>1              </td><td>2              </td><td>2              </td><td>0              </td><td>27             </td><td>1              </td><td>1              </td><td>12             </td><td>2017/4/6 12:51 </td><td>h5             </td><td>...            </td><td>-99            </td><td>-99            </td><td>-99            </td><td>-99            </td><td> -99           </td><td> -99           </td><td> -99           </td><td> -99           </td><td>NA             </td><td>WEB            </td></tr>\n",
       "\t<tr><td>2              </td><td>3              </td><td>3              </td><td>0              </td><td>33             </td><td>1              </td><td>4              </td><td>12             </td><td>2017/7/1 14:11 </td><td>h5             </td><td>...            </td><td>  3            </td><td>  2            </td><td> 33            </td><td>  0            </td><td>  33           </td><td>   0           </td><td> 143           </td><td> 110           </td><td> 8             </td><td>WEB            </td></tr>\n",
       "\t<tr><td>3              </td><td>4              </td><td>4              </td><td>0              </td><td>34             </td><td>2              </td><td>4              </td><td>12             </td><td>2017/7/7 10:10 </td><td>android        </td><td>...            </td><td>  0            </td><td>  0            </td><td>  0            </td><td>  0            </td><td>   0           </td><td>   0           </td><td>   0           </td><td>   0           </td><td>10             </td><td>OPPO           </td></tr>\n",
       "\t<tr><td>4              </td><td>5              </td><td>5              </td><td>0              </td><td>47             </td><td>2              </td><td>1              </td><td>12             </td><td>2017/7/6 14:37 </td><td>h5             </td><td>...            </td><td>-99            </td><td>-99            </td><td>-99            </td><td>-99            </td><td> -99           </td><td> -99           </td><td> -99           </td><td> -99           </td><td>NA             </td><td>WEB            </td></tr>\n",
       "\t<tr><td>5              </td><td>6              </td><td>6              </td><td>1              </td><td>32             </td><td>1              </td><td>1              </td><td>12             </td><td>2017/5/20 22:08</td><td>h5             </td><td>...            </td><td>  6            </td><td>  6            </td><td>563            </td><td>563            </td><td> 808           </td><td> 808           </td><td> 808           </td><td> 808           </td><td> 5             </td><td>WEB            </td></tr>\n",
       "</tbody>\n",
       "</table>\n"
      ],
      "text/latex": [
       "\\begin{tabular}{r|lllllllllllllllllllllllllllllllllllllllllllllllllllllllllllllllllllllllllllllllllllllllll}\n",
       " X & Unnamed..0 & id & loan\\_default & AP001 & AP002 & AP003 & AP004 & AP005 & AP006 & ... & CD162 & CD164 & CD166 & CD167 & CD169 & CD170 & CD172 & CD173 & MB005 & MB007\\\\\n",
       "\\hline\n",
       "\t 0               & 1               & 1               & 1               & 31              & 2               & 1               & 12              & 2017/7/6 10:21  & ios             & ...             &  13             &  13             &   0             &   0             & 1449            & 1449            & 2249            & 2249            &  7              & IPHONE7        \\\\\n",
       "\t 1               & 2               & 2               & 0               & 27              & 1               & 1               & 12              & 2017/4/6 12:51  & h5              & ...             & -99             & -99             & -99             & -99             &  -99            &  -99            &  -99            &  -99            & NA              & WEB            \\\\\n",
       "\t 2               & 3               & 3               & 0               & 33              & 1               & 4               & 12              & 2017/7/1 14:11  & h5              & ...             &   3             &   2             &  33             &   0             &   33            &    0            &  143            &  110            &  8              & WEB            \\\\\n",
       "\t 3               & 4               & 4               & 0               & 34              & 2               & 4               & 12              & 2017/7/7 10:10  & android         & ...             &   0             &   0             &   0             &   0             &    0            &    0            &    0            &    0            & 10              & OPPO           \\\\\n",
       "\t 4               & 5               & 5               & 0               & 47              & 2               & 1               & 12              & 2017/7/6 14:37  & h5              & ...             & -99             & -99             & -99             & -99             &  -99            &  -99            &  -99            &  -99            & NA              & WEB            \\\\\n",
       "\t 5               & 6               & 6               & 1               & 32              & 1               & 1               & 12              & 2017/5/20 22:08 & h5              & ...             &   6             &   6             & 563             & 563             &  808            &  808            &  808            &  808            &  5              & WEB            \\\\\n",
       "\\end{tabular}\n"
      ],
      "text/markdown": [
       "\n",
       "| X | Unnamed..0 | id | loan_default | AP001 | AP002 | AP003 | AP004 | AP005 | AP006 | ... | CD162 | CD164 | CD166 | CD167 | CD169 | CD170 | CD172 | CD173 | MB005 | MB007 |\n",
       "|---|---|---|---|---|---|---|---|---|---|---|---|---|---|---|---|---|---|---|---|---|\n",
       "| 0               | 1               | 1               | 1               | 31              | 2               | 1               | 12              | 2017/7/6 10:21  | ios             | ...             |  13             |  13             |   0             |   0             | 1449            | 1449            | 2249            | 2249            |  7              | IPHONE7         |\n",
       "| 1               | 2               | 2               | 0               | 27              | 1               | 1               | 12              | 2017/4/6 12:51  | h5              | ...             | -99             | -99             | -99             | -99             |  -99            |  -99            |  -99            |  -99            | NA              | WEB             |\n",
       "| 2               | 3               | 3               | 0               | 33              | 1               | 4               | 12              | 2017/7/1 14:11  | h5              | ...             |   3             |   2             |  33             |   0             |   33            |    0            |  143            |  110            |  8              | WEB             |\n",
       "| 3               | 4               | 4               | 0               | 34              | 2               | 4               | 12              | 2017/7/7 10:10  | android         | ...             |   0             |   0             |   0             |   0             |    0            |    0            |    0            |    0            | 10              | OPPO            |\n",
       "| 4               | 5               | 5               | 0               | 47              | 2               | 1               | 12              | 2017/7/6 14:37  | h5              | ...             | -99             | -99             | -99             | -99             |  -99            |  -99            |  -99            |  -99            | NA              | WEB             |\n",
       "| 5               | 6               | 6               | 1               | 32              | 1               | 1               | 12              | 2017/5/20 22:08 | h5              | ...             |   6             |   6             | 563             | 563             |  808            |  808            |  808            |  808            |  5              | WEB             |\n",
       "\n"
      ],
      "text/plain": [
       "  X Unnamed..0 id loan_default AP001 AP002 AP003 AP004 AP005           AP006  \n",
       "1 0 1          1  1            31    2     1     12    2017/7/6 10:21  ios    \n",
       "2 1 2          2  0            27    1     1     12    2017/4/6 12:51  h5     \n",
       "3 2 3          3  0            33    1     4     12    2017/7/1 14:11  h5     \n",
       "4 3 4          4  0            34    2     4     12    2017/7/7 10:10  android\n",
       "5 4 5          5  0            47    2     1     12    2017/7/6 14:37  h5     \n",
       "6 5 6          6  1            32    1     1     12    2017/5/20 22:08 h5     \n",
       "  ... CD162 CD164 CD166 CD167 CD169 CD170 CD172 CD173 MB005 MB007  \n",
       "1 ...  13    13     0     0   1449  1449  2249  2249   7    IPHONE7\n",
       "2 ... -99   -99   -99   -99    -99   -99   -99   -99  NA    WEB    \n",
       "3 ...   3     2    33     0     33     0   143   110   8    WEB    \n",
       "4 ...   0     0     0     0      0     0     0     0  10    OPPO   \n",
       "5 ... -99   -99   -99   -99    -99   -99   -99   -99  NA    WEB    \n",
       "6 ...   6     6   563   563    808   808   808   808   5    WEB    "
      ]
     },
     "metadata": {},
     "output_type": "display_data"
    }
   ],
   "source": [
    "head(loan_data)"
   ]
  },
  {
   "cell_type": "code",
   "execution_count": 4,
   "metadata": {},
   "outputs": [
    {
     "data": {
      "text/html": [
       "89"
      ],
      "text/latex": [
       "89"
      ],
      "text/markdown": [
       "89"
      ],
      "text/plain": [
       "[1] 89"
      ]
     },
     "metadata": {},
     "output_type": "display_data"
    },
    {
     "data": {
      "text/html": [
       "80000"
      ],
      "text/latex": [
       "80000"
      ],
      "text/markdown": [
       "80000"
      ],
      "text/plain": [
       "[1] 80000"
      ]
     },
     "metadata": {},
     "output_type": "display_data"
    }
   ],
   "source": [
    "#quick understanding of the size of the data\n",
    "ncol(loan_data)\n",
    "nrow(loan_data)"
   ]
  },
  {
   "cell_type": "markdown",
   "metadata": {},
   "source": [
    "## Missing data "
   ]
  },
  {
   "cell_type": "code",
   "execution_count": 5,
   "metadata": {},
   "outputs": [
    {
     "data": {
      "text/html": [
       "619076"
      ],
      "text/latex": [
       "619076"
      ],
      "text/markdown": [
       "619076"
      ],
      "text/plain": [
       "[1] 619076"
      ]
     },
     "metadata": {},
     "output_type": "display_data"
    }
   ],
   "source": [
    "sum(is.na(loan_data))"
   ]
  },
  {
   "cell_type": "code",
   "execution_count": 17,
   "metadata": {},
   "outputs": [
    {
     "data": {
      "text/html": [
       "<table>\n",
       "<thead><tr><th scope=col>rows</th><th scope=col>columns</th><th scope=col>discrete_columns</th><th scope=col>continuous_columns</th><th scope=col>all_missing_columns</th><th scope=col>total_missing_values</th><th scope=col>complete_rows</th><th scope=col>total_observations</th><th scope=col>memory_usage</th></tr></thead>\n",
       "<tbody>\n",
       "\t<tr><td>80000   </td><td>89      </td><td>3       </td><td>86      </td><td>0       </td><td>619076  </td><td>0       </td><td>7120000 </td><td>51547656</td></tr>\n",
       "</tbody>\n",
       "</table>\n"
      ],
      "text/latex": [
       "\\begin{tabular}{r|lllllllll}\n",
       " rows & columns & discrete\\_columns & continuous\\_columns & all\\_missing\\_columns & total\\_missing\\_values & complete\\_rows & total\\_observations & memory\\_usage\\\\\n",
       "\\hline\n",
       "\t 80000    & 89       & 3        & 86       & 0        & 619076   & 0        & 7120000  & 51547656\\\\\n",
       "\\end{tabular}\n"
      ],
      "text/markdown": [
       "\n",
       "| rows | columns | discrete_columns | continuous_columns | all_missing_columns | total_missing_values | complete_rows | total_observations | memory_usage |\n",
       "|---|---|---|---|---|---|---|---|---|\n",
       "| 80000    | 89       | 3        | 86       | 0        | 619076   | 0        | 7120000  | 51547656 |\n",
       "\n"
      ],
      "text/plain": [
       "  rows  columns discrete_columns continuous_columns all_missing_columns\n",
       "1 80000 89      3                86                 0                  \n",
       "  total_missing_values complete_rows total_observations memory_usage\n",
       "1 619076               0             7120000            51547656    "
      ]
     },
     "metadata": {},
     "output_type": "display_data"
    }
   ],
   "source": [
    "#using DataExplorer functions \n",
    "introduce(loan_data)"
   ]
  },
  {
   "cell_type": "code",
   "execution_count": 18,
   "metadata": {},
   "outputs": [
    {
     "data": {
      "image/png": "[encoded data removed]",
      "text/plain": [
       "plot without title"
      ]
     },
     "metadata": {},
     "output_type": "display_data"
    }
   ],
   "source": [
    "plot_missing(loan_data)"
   ]
  },
  {
   "cell_type": "code",
   "execution_count": 23,
   "metadata": {},
   "outputs": [
    {
     "name": "stderr",
     "output_type": "stream",
     "text": [
      "Warning message in dummify(data, maxcat = maxcat):\n",
      "\"Ignored all discrete features since `maxcat` set to 5 categories!\"Warning message in cor(x = structure(list(loan_default = c(0L, 0L, 1L, 0L, 0L, 0L, :\n",
      "\"the standard deviation is zero\""
     ]
    },
    {
     "data": {
      "image/png": "[encoded data removed]",
      "text/plain": [
       "plot without title"
      ]
     },
     "metadata": {},
     "output_type": "display_data"
    }
   ],
   "source": [
    "#since there are so many missing values I wanted to visualize how this affected the correlation among the features\n",
    "plot_correlation(loan_train, maxcat = 5L)"
   ]
  },
  {
   "cell_type": "markdown",
   "metadata": {},
   "source": [
    "There are a lot of missing data points so I need to investigate where they are occuring and whether it makes sense to address the columns in question or to drop the column. So I am going to create a copy of the dataset so I can impute the missing values and perform the feature selection process here later on. I decided to drop the following columns based on the previous visual TD044, TD048, TD051, TD054, TD055, TD061, TD062. I then dropped X, Unnamed..0, and id because they were inde columns and not contributing meaningful information. I dropped the date column (AP005) and op system (AP006) to perform the feature selection process because the method I used couldn't accept 'character' variable types "
   ]
  },
  {
   "cell_type": "code",
   "execution_count": 16,
   "metadata": {},
   "outputs": [
    {
     "data": {
      "text/html": [
       "80000"
      ],
      "text/latex": [
       "80000"
      ],
      "text/markdown": [
       "80000"
      ],
      "text/plain": [
       "[1] 80000"
      ]
     },
     "metadata": {},
     "output_type": "display_data"
    },
    {
     "data": {
      "text/html": [
       "77"
      ],
      "text/latex": [
       "77"
      ],
      "text/markdown": [
       "77"
      ],
      "text/plain": [
       "[1] 77"
      ]
     },
     "metadata": {},
     "output_type": "display_data"
    }
   ],
   "source": [
    "loan_df <- loan_data\n",
    "loan_df <- subset(loan_df, select= -c(TD044, TD048, TD051, TD054, TD055, TD061, TD062, AP005, AP006, X, Unnamed..0, id))\n",
    "nrow(loan_df)\n",
    "ncol(loan_df)"
   ]
  },
  {
   "cell_type": "markdown",
   "metadata": {},
   "source": [
    "As opposed to just getting the average value or class of each given column and replacing the NA or missing value with it, I decided to you use the Mice function from the same package to assist with this process"
   ]
  },
  {
   "cell_type": "code",
   "execution_count": 6,
   "metadata": {},
   "outputs": [
    {
     "name": "stderr",
     "output_type": "stream",
     "text": [
      "Installing package into 'C:/Users/rdiml/Documents/R/win-library/3.6'\n",
      "(as 'lib' is unspecified)\n",
      "also installing the dependencies 'minqa', 'nloptr', 'RcppEigen', 'ucminf', 'lme4', 'ordinal', 'pan', 'jomo', 'mitml'\n",
      "\n"
     ]
    },
    {
     "name": "stdout",
     "output_type": "stream",
     "text": [
      "package 'minqa' successfully unpacked and MD5 sums checked\n",
      "package 'nloptr' successfully unpacked and MD5 sums checked\n",
      "package 'RcppEigen' successfully unpacked and MD5 sums checked\n",
      "package 'ucminf' successfully unpacked and MD5 sums checked\n",
      "package 'lme4' successfully unpacked and MD5 sums checked\n",
      "package 'ordinal' successfully unpacked and MD5 sums checked\n",
      "package 'pan' successfully unpacked and MD5 sums checked\n",
      "package 'jomo' successfully unpacked and MD5 sums checked\n",
      "package 'mitml' successfully unpacked and MD5 sums checked\n",
      "package 'mice' successfully unpacked and MD5 sums checked\n",
      "\n",
      "The downloaded binary packages are in\n",
      "\tC:\\Users\\rdiml\\AppData\\Local\\Temp\\RtmpuQ9IVM\\downloaded_packages\n"
     ]
    },
    {
     "name": "stderr",
     "output_type": "stream",
     "text": [
      "Loading required package: lattice\n",
      "\n",
      "Attaching package: 'mice'\n",
      "\n",
      "The following objects are masked from 'package:base':\n",
      "\n",
      "    cbind, rbind\n",
      "\n"
     ]
    }
   ],
   "source": [
    "install.packages('mice')\n",
    "library(mice)"
   ]
  },
  {
   "cell_type": "markdown",
   "metadata": {},
   "source": [
    "As I previously stated, I didn't want to individually address each column where there were missing values. Therefore, I used predictive mean modeling within the mice function to accomplish this which in turn will allow me to perform the feature selection process without having to use something such as \"na.action = na.exclude\" for example"
   ]
  },
  {
   "cell_type": "code",
   "execution_count": 8,
   "metadata": {},
   "outputs": [
    {
     "name": "stdout",
     "output_type": "stream",
     "text": [
      "\n",
      " iter imp variable\n",
      "  1   1  TD022  TD023  TD024  PA022  PA023  PA028  PA029  PA030  PA031  CD008  CD018  CD071  CD072  CD088  CD100  CD101  CD106  CD107  CD108  CD113  CD114  CD115  CD117  CD118  CD120  CD121  CD123  CD130  CD131  CD132  CD133  CD135  CD136  CD137  CD152  CD153  CD160  CD162  CD164  CD166  CD167  CD169  CD170  CD172  CD173  MB005\n",
      "  1   2  TD022  TD023  TD024  PA022  PA023  PA028  PA029  PA030  PA031  CD008  CD018  CD071  CD072  CD088  CD100  CD101  CD106  CD107  CD108  CD113  CD114  CD115  CD117  CD118  CD120  CD121  CD123  CD130  CD131  CD132  CD133  CD135  CD136  CD137  CD152  CD153  CD160  CD162  CD164  CD166  CD167  CD169  CD170  CD172  CD173  MB005\n",
      "  1   3  TD022  TD023  TD024  PA022  PA023  PA028  PA029  PA030  PA031  CD008  CD018  CD071  CD072  CD088  CD100  CD101  CD106  CD107  CD108  CD113  CD114  CD115  CD117  CD118  CD120  CD121  CD123  CD130  CD131  CD132  CD133  CD135  CD136  CD137  CD152  CD153  CD160  CD162  CD164  CD166  CD167  CD169  CD170  CD172  CD173  MB005\n",
      "  1   4  TD022  TD023  TD024  PA022  PA023  PA028  PA029  PA030  PA031  CD008  CD018  CD071  CD072  CD088  CD100  CD101  CD106  CD107  CD108  CD113  CD114  CD115  CD117  CD118  CD120  CD121  CD123  CD130  CD131  CD132  CD133  CD135  CD136  CD137  CD152  CD153  CD160  CD162  CD164  CD166  CD167  CD169  CD170  CD172  CD173  MB005\n",
      "  1   5  TD022  TD023  TD024  PA022  PA023  PA028  PA029  PA030  PA031  CD008  CD018  CD071  CD072  CD088  CD100  CD101  CD106  CD107  CD108  CD113  CD114  CD115  CD117  CD118  CD120  CD121  CD123  CD130  CD131  CD132  CD133  CD135  CD136  CD137  CD152  CD153  CD160  CD162  CD164  CD166  CD167  CD169  CD170  CD172  CD173  MB005\n",
      "  2   1  TD022  TD023  TD024  PA022  PA023  PA028  PA029  PA030  PA031  CD008  CD018  CD071  CD072  CD088  CD100  CD101  CD106  CD107  CD108  CD113  CD114  CD115  CD117  CD118  CD120  CD121  CD123  CD130  CD131  CD132  CD133  CD135  CD136  CD137  CD152  CD153  CD160  CD162  CD164  CD166  CD167  CD169  CD170  CD172  CD173  MB005\n",
      "  2   2  TD022  TD023  TD024  PA022  PA023  PA028  PA029  PA030  PA031  CD008  CD018  CD071  CD072  CD088  CD100  CD101  CD106  CD107  CD108  CD113  CD114  CD115  CD117  CD118  CD120  CD121  CD123  CD130  CD131  CD132  CD133  CD135  CD136  CD137  CD152  CD153  CD160  CD162  CD164  CD166  CD167  CD169  CD170  CD172  CD173  MB005\n",
      "  2   3  TD022  TD023  TD024  PA022  PA023  PA028  PA029  PA030  PA031  CD008  CD018  CD071  CD072  CD088  CD100  CD101  CD106  CD107  CD108  CD113  CD114  CD115  CD117  CD118  CD120  CD121  CD123  CD130  CD131  CD132  CD133  CD135  CD136  CD137  CD152  CD153  CD160  CD162  CD164  CD166  CD167  CD169  CD170  CD172  CD173  MB005\n",
      "  2   4  TD022  TD023  TD024  PA022  PA023  PA028  PA029  PA030  PA031  CD008  CD018  CD071  CD072  CD088  CD100  CD101  CD106  CD107  CD108  CD113  CD114  CD115  CD117  CD118  CD120  CD121  CD123  CD130  CD131  CD132  CD133  CD135  CD136  CD137  CD152  CD153  CD160  CD162  CD164  CD166  CD167  CD169  CD170  CD172  CD173  MB005\n",
      "  2   5  TD022  TD023  TD024  PA022  PA023  PA028  PA029  PA030  PA031  CD008  CD018  CD071  CD072  CD088  CD100  CD101  CD106  CD107  CD108  CD113  CD114  CD115  CD117  CD118  CD120  CD121  CD123  CD130  CD131  CD132  CD133  CD135  CD136  CD137  CD152  CD153  CD160  CD162  CD164  CD166  CD167  CD169  CD170  CD172  CD173  MB005\n",
      "  3   1  TD022  TD023  TD024  PA022  PA023  PA028  PA029  PA030  PA031  CD008  CD018  CD071  CD072  CD088  CD100  CD101  CD106  CD107  CD108  CD113  CD114  CD115  CD117  CD118  CD120  CD121  CD123  CD130  CD131  CD132  CD133  CD135  CD136  CD137  CD152  CD153  CD160  CD162  CD164  CD166  CD167  CD169  CD170  CD172  CD173  MB005\n",
      "  3   2  TD022  TD023  TD024  PA022  PA023  PA028  PA029  PA030  PA031  CD008  CD018  CD071  CD072  CD088  CD100  CD101  CD106  CD107  CD108  CD113  CD114  CD115  CD117  CD118  CD120  CD121  CD123  CD130  CD131  CD132  CD133  CD135  CD136  CD137  CD152  CD153  CD160  CD162  CD164  CD166  CD167  CD169  CD170  CD172  CD173  MB005\n",
      "  3   3  TD022  TD023  TD024  PA022  PA023  PA028  PA029  PA030  PA031  CD008  CD018  CD071  CD072  CD088  CD100  CD101  CD106  CD107  CD108  CD113  CD114  CD115  CD117  CD118  CD120  CD121  CD123  CD130  CD131  CD132  CD133  CD135  CD136  CD137  CD152  CD153  CD160  CD162  CD164  CD166  CD167  CD169  CD170  CD172  CD173  MB005\n",
      "  3   4  TD022  TD023  TD024  PA022  PA023  PA028  PA029  PA030  PA031  CD008  CD018  CD071  CD072  CD088  CD100  CD101  CD106  CD107  CD108  CD113  CD114  CD115  CD117  CD118  CD120  CD121  CD123  CD130  CD131  CD132  CD133  CD135  CD136  CD137  CD152  CD153  CD160  CD162  CD164  CD166  CD167  CD169  CD170  CD172  CD173  MB005\n",
      "  3   5  TD022  TD023  TD024  PA022  PA023  PA028  PA029  PA030  PA031  CD008  CD018  CD071  CD072  CD088  CD100  CD101  CD106  CD107  CD108  CD113  CD114  CD115  CD117  CD118  CD120  CD121  CD123  CD130  CD131  CD132  CD133  CD135  CD136  CD137  CD152  CD153  CD160  CD162  CD164  CD166  CD167  CD169  CD170  CD172  CD173  MB005\n",
      "  4   1  TD022  TD023  TD024  PA022  PA023  PA028  PA029  PA030  PA031  CD008  CD018  CD071  CD072  CD088  CD100  CD101  CD106  CD107  CD108  CD113  CD114  CD115  CD117  CD118  CD120  CD121  CD123  CD130  CD131  CD132  CD133  CD135  CD136  CD137  CD152  CD153  CD160  CD162  CD164  CD166  CD167  CD169  CD170  CD172  CD173  MB005\n",
      "  4   2  TD022  TD023  TD024  PA022  PA023  PA028  PA029  PA030  PA031  CD008  CD018  CD071  CD072  CD088  CD100  CD101  CD106  CD107  CD108  CD113  CD114  CD115  CD117  CD118  CD120  CD121  CD123  CD130  CD131  CD132  CD133  CD135  CD136  CD137  CD152  CD153  CD160  CD162  CD164  CD166  CD167  CD169  CD170  CD172  CD173  MB005\n",
      "  4   3  TD022  TD023  TD024  PA022  PA023  PA028  PA029  PA030  PA031  CD008  CD018  CD071  CD072  CD088  CD100  CD101  CD106  CD107  CD108  CD113  CD114  CD115  CD117  CD118  CD120  CD121  CD123  CD130  CD131  CD132  CD133  CD135  CD136  CD137  CD152  CD153  CD160  CD162  CD164  CD166  CD167  CD169  CD170  CD172  CD173  MB005\n",
      "  4   4  TD022  TD023  TD024  PA022  PA023  PA028  PA029  PA030  PA031  CD008  CD018  CD071  CD072  CD088  CD100  CD101  CD106  CD107  CD108  CD113  CD114  CD115  CD117  CD118  CD120  CD121  CD123  CD130  CD131  CD132  CD133  CD135  CD136  CD137  CD152  CD153  CD160  CD162  CD164  CD166  CD167  CD169  CD170  CD172  CD173  MB005\n",
      "  4   5  TD022  TD023  TD024  PA022  PA023  PA028  PA029  PA030  PA031  CD008  CD018  CD071  CD072  CD088  CD100  CD101  CD106  CD107  CD108  CD113  CD114  CD115  CD117  CD118  CD120  CD121  CD123  CD130  CD131  CD132  CD133  CD135  CD136  CD137  CD152  CD153  CD160  CD162  CD164  CD166  CD167  CD169  CD170  CD172  CD173  MB005\n",
      "  5   1  TD022  TD023  TD024  PA022  PA023  PA028  PA029  PA030  PA031  CD008  CD018  CD071  CD072  CD088  CD100  CD101  CD106  CD107  CD108  CD113  CD114  CD115  CD117  CD118  CD120  CD121  CD123  CD130  CD131  CD132  CD133  CD135  CD136  CD137  CD152  CD153  CD160  CD162  CD164  CD166  CD167  CD169  CD170  CD172  CD173  MB005\n",
      "  5   2  TD022  TD023  TD024  PA022  PA023  PA028  PA029  PA030  PA031  CD008  CD018  CD071  CD072  CD088  CD100  CD101  CD106  CD107  CD108  CD113  CD114  CD115  CD117  CD118  CD120  CD121  CD123  CD130  CD131  CD132  CD133  CD135  CD136  CD137  CD152  CD153  CD160  CD162  CD164  CD166  CD167  CD169  CD170  CD172  CD173  MB005\n",
      "  5   3  TD022  TD023  TD024  PA022  PA023  PA028  PA029  PA030  PA031  CD008  CD018  CD071  CD072  CD088  CD100  CD101  CD106  CD107  CD108  CD113  CD114  CD115  CD117  CD118  CD120  CD121  CD123  CD130  CD131  CD132  CD133  CD135  CD136  CD137  CD152  CD153  CD160  CD162  CD164  CD166  CD167  CD169  CD170  CD172  CD173  MB005\n",
      "  5   4  TD022  TD023  TD024  PA022  PA023  PA028  PA029  PA030  PA031  CD008  CD018  CD071  CD072  CD088  CD100  CD101  CD106  CD107  CD108  CD113  CD114  CD115  CD117  CD118  CD120  CD121  CD123  CD130  CD131  CD132  CD133  CD135  CD136  CD137  CD152  CD153  CD160  CD162  CD164  CD166  CD167  CD169  CD170  CD172  CD173  MB005\n",
      "  5   5  TD022  TD023  TD024  PA022  PA023  PA028  PA029  PA030  PA031  CD008  CD018  CD071  CD072  CD088  CD100  CD101  CD106  CD107  CD108  CD113  CD114  CD115  CD117  CD118  CD120  CD121  CD123  CD130  CD131  CD132  CD133  CD135  CD136  CD137  CD152  CD153  CD160  CD162  CD164  CD166  CD167  CD169  CD170  CD172  CD173  MB005\n"
     ]
    },
    {
     "name": "stderr",
     "output_type": "stream",
     "text": [
      "Warning message:\n",
      "\"Number of logged events: 1153\""
     ]
    }
   ],
   "source": [
    "mice(loan_data, meth=\"pmm\")"
   ]
  },
  {
   "cell_type": "markdown",
   "metadata": {},
   "source": [
    "# Feature selection and modeling steps"
   ]
  },
  {
   "cell_type": "markdown",
   "metadata": {},
   "source": [
    "## Splitting the data (70/30 split)"
   ]
  },
  {
   "cell_type": "code",
   "execution_count": 19,
   "metadata": {},
   "outputs": [
    {
     "data": {
      "text/html": [
       "56000"
      ],
      "text/latex": [
       "56000"
      ],
      "text/markdown": [
       "56000"
      ],
      "text/plain": [
       "[1] 56000"
      ]
     },
     "metadata": {},
     "output_type": "display_data"
    },
    {
     "data": {
      "text/html": [
       "24000"
      ],
      "text/latex": [
       "24000"
      ],
      "text/markdown": [
       "24000"
      ],
      "text/plain": [
       "[1] 24000"
      ]
     },
     "metadata": {},
     "output_type": "display_data"
    }
   ],
   "source": [
    "set.seed(100)\n",
    "loan_split <- sample(1:nrow(loan_df), size=0.7*nrow(loan_df))\n",
    "loan_train <- loan_df[loan_split,]\n",
    "loan_test <- loan_df[-loan_split,]\n",
    "nrow(loan_train)\n",
    "nrow(loan_test)"
   ]
  },
  {
   "cell_type": "code",
   "execution_count": 21,
   "metadata": {},
   "outputs": [
    {
     "name": "stderr",
     "output_type": "stream",
     "text": [
      "Installing package into 'C:/Users/rdiml/Documents/R/win-library/3.6'\n",
      "(as 'lib' is unspecified)\n"
     ]
    },
    {
     "name": "stdout",
     "output_type": "stream",
     "text": [
      "package 'party' successfully unpacked and MD5 sums checked\n"
     ]
    },
    {
     "name": "stderr",
     "output_type": "stream",
     "text": [
      "Warning message:\n",
      "\"cannot remove prior installation of package 'party'\"Warning message in file.copy(savedcopy, lib, recursive = TRUE):\n",
      "\"problem copying C:\\Users\\rdiml\\Documents\\R\\win-library\\3.6\\00LOCK\\party\\libs\\x64\\party.dll to C:\\Users\\rdiml\\Documents\\R\\win-library\\3.6\\party\\libs\\x64\\party.dll: Permission denied\"Warning message:\n",
      "\"restored 'party'\""
     ]
    },
    {
     "name": "stdout",
     "output_type": "stream",
     "text": [
      "\n",
      "The downloaded binary packages are in\n",
      "\tC:\\Users\\rdiml\\AppData\\Local\\Temp\\RtmpuQ9IVM\\downloaded_packages\n"
     ]
    },
    {
     "name": "stderr",
     "output_type": "stream",
     "text": [
      "Loading required package: mvtnorm\n",
      "Loading required package: modeltools\n",
      "Loading required package: stats4\n",
      "Loading required package: strucchange\n",
      "Loading required package: zoo\n",
      "\n",
      "Attaching package: 'zoo'\n",
      "\n",
      "The following objects are masked from 'package:base':\n",
      "\n",
      "    as.Date, as.Date.numeric\n",
      "\n",
      "Loading required package: sandwich\n"
     ]
    }
   ],
   "source": [
    "install.packages('party')\n",
    "library(party)"
   ]
  },
  {
   "cell_type": "code",
   "execution_count": 22,
   "metadata": {},
   "outputs": [],
   "source": [
    "#I dropped the phone column (MB007) because I was running into issues with running the next step\n",
    "loan_train.copy <- subset(loan_train, select = -c(MB007))"
   ]
  },
  {
   "cell_type": "markdown",
   "metadata": {},
   "source": [
    "## Random Forest method "
   ]
  },
  {
   "cell_type": "code",
   "execution_count": null,
   "metadata": {},
   "outputs": [],
   "source": [
    "cfl_FEAT <- cforest(loan_default~., data = loan_train.copy, control = cforest_unbiased(mtry=2, ntree=20))\n",
    "varimp(cfl_FEAT)\n",
    "#adjusting the var importance depending on the correlations between the predictor variables  \n",
    "varimp(cfl_FEAT, conditional=TRUE)\n",
    "#importance in consideration of class imbalance\n",
    "varimpAUC(cfl_FEAT)"
   ]
  },
  {
   "cell_type": "markdown",
   "metadata": {},
   "source": [
    "## The final model"
   ]
  },
  {
   "cell_type": "code",
   "execution_count": 24,
   "metadata": {},
   "outputs": [],
   "source": [
    "cfl <- cforest(loan_default~ TD001 + TD005 + TD006 + TD010 + TD013 + TD014\n",
    "               + AP003 + AP004 + CD008 + CD106 + CD113 + CD135 + CD136\n",
    "               + CR004 + CR005, data = loan_train.copy, control = cforest_unbiased(mtry=2, ntree=20))"
   ]
  },
  {
   "cell_type": "markdown",
   "metadata": {},
   "source": [
    "## ROC Curve"
   ]
  },
  {
   "cell_type": "code",
   "execution_count": 32,
   "metadata": {},
   "outputs": [],
   "source": [
    "#similar to when I was originally running the feature selection process and having issues, I dropped the column to continue making progess\n",
    "loan_test.copy <- subset(loan_test, select = -c(MB007))"
   ]
  },
  {
   "cell_type": "code",
   "execution_count": 34,
   "metadata": {},
   "outputs": [
    {
     "name": "stderr",
     "output_type": "stream",
     "text": [
      "Installing package into 'C:/Users/rdiml/Documents/R/win-library/3.6'\n",
      "(as 'lib' is unspecified)\n"
     ]
    },
    {
     "name": "stdout",
     "output_type": "stream",
     "text": [
      "package 'ROCR' successfully unpacked and MD5 sums checked\n",
      "\n",
      "The downloaded binary packages are in\n",
      "\tC:\\Users\\rdiml\\AppData\\Local\\Temp\\RtmpuQ9IVM\\downloaded_packages\n"
     ]
    },
    {
     "ename": "ERROR",
     "evalue": "Error in librar(ROCR): could not find function \"librar\"\n",
     "output_type": "error",
     "traceback": [
      "Error in librar(ROCR): could not find function \"librar\"\nTraceback:\n"
     ]
    }
   ],
   "source": [
    "install.packages('ROCR')\n",
    "librar(ROCR)"
   ]
  },
  {
   "cell_type": "code",
   "execution_count": 35,
   "metadata": {},
   "outputs": [
    {
     "ename": "ERROR",
     "evalue": "Error in prediction(pred, loan_test.copy$loan_default): could not find function \"prediction\"\n",
     "output_type": "error",
     "traceback": [
      "Error in prediction(pred, loan_test.copy$loan_default): could not find function \"prediction\"\nTraceback:\n"
     ]
    }
   ],
   "source": [
    "pred = predict(cfl, newdata=loan_test.copy)\n",
    "ROCRpred = prediction(pred,loan_test.copy$loan_default)\n",
    "perf <- performance(ROCRpred, \"tpr\",\"fpr\")\n",
    "plot(perf)"
   ]
  },
  {
   "cell_type": "markdown",
   "metadata": {},
   "source": [
    "## Gains table"
   ]
  },
  {
   "cell_type": "code",
   "execution_count": null,
   "metadata": {},
   "outputs": [],
   "source": [
    "gain.table <- with(subset(loan_train.copy,loan_train.copy$loan_default==0), \n",
    "                   gains(actual=loan_test.copy, \n",
    "                         predicted=pred, \n",
    "                         optimal=TRUE,\n",
    "                         percents=TRUE)\n",
    ")\n",
    "gain.table\n"
   ]
  },
  {
   "cell_type": "markdown",
   "metadata": {},
   "source": [
    "# Conclusions"
   ]
  },
  {
   "cell_type": "markdown",
   "metadata": {},
   "source": [
    "Findings overview after conducting my analysis: \n",
    "- The younger age groups (20-29) showed higher correlation with loan default then with individuals who had an older (40-49) recorded age value \n",
    "- The higher the education level the less likely a person was to default\n"
   ]
  },
  {
   "cell_type": "code",
   "execution_count": null,
   "metadata": {},
   "outputs": [],
   "source": []
  }
 ],
 "metadata": {
  "kernelspec": {
   "display_name": "R",
   "language": "R",
   "name": "ir"
  },
  "language_info": {
   "codemirror_mode": "r",
   "file_extension": ".r",
   "mimetype": "text/x-r-source",
   "name": "R",
   "pygments_lexer": "r",
   "version": "3.6.1"
  }
 },
 "nbformat": 4,
 "nbformat_minor": 2
}
